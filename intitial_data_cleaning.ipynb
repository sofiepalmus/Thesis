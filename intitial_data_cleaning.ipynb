{
 "cells": [
  {
   "cell_type": "code",
   "execution_count": 1,
   "metadata": {},
   "outputs": [
    {
     "name": "stderr",
     "output_type": "stream",
     "text": [
      "/Users/sofiepalmuskronborg/anaconda3/lib/python3.11/site-packages/pandas/core/arrays/masked.py:60: UserWarning: Pandas requires version '1.3.6' or newer of 'bottleneck' (version '1.3.5' currently installed).\n",
      "  from pandas.core import (\n"
     ]
    }
   ],
   "source": [
    "import pickle\n",
    "import pandas as pd\n",
    "import matplotlib\n",
    "matplotlib.rc('font',**{'family':'sans-serif','sans-serif':['Helvetica'],'size':8})\n",
    "matplotlib.rcParams['pdf.fonttype'] = 42\n"
   ]
  },
  {
   "cell_type": "code",
   "execution_count": 6,
   "metadata": {},
   "outputs": [
    {
     "ename": "ModuleNotFoundError",
     "evalue": "No module named 'pandas.core.indexes.numeric'",
     "output_type": "error",
     "traceback": [
      "\u001b[0;31m---------------------------------------------------------------------------\u001b[0m",
      "\u001b[0;31mModuleNotFoundError\u001b[0m                       Traceback (most recent call last)",
      "Cell \u001b[0;32mIn[6], line 3\u001b[0m\n\u001b[1;32m      1\u001b[0m \u001b[38;5;66;03m# load data\u001b[39;00m\n\u001b[1;32m      2\u001b[0m file_in \u001b[38;5;241m=\u001b[39m \u001b[38;5;28mopen\u001b[39m(\u001b[38;5;124m\"\u001b[39m\u001b[38;5;124mall_ads_labeled.pickle\u001b[39m\u001b[38;5;124m\"\u001b[39m, \u001b[38;5;124m\"\u001b[39m\u001b[38;5;124mrb\u001b[39m\u001b[38;5;124m\"\u001b[39m)\n\u001b[0;32m----> 3\u001b[0m dat \u001b[38;5;241m=\u001b[39m pickle\u001b[38;5;241m.\u001b[39mload(file_in)\n\u001b[1;32m      5\u001b[0m \u001b[38;5;28mprint\u001b[39m(\u001b[38;5;124m\"\u001b[39m\u001b[38;5;124mnumber of ads\u001b[39m\u001b[38;5;124m\"\u001b[39m, dat\u001b[38;5;241m.\u001b[39mshape)\n",
      "\u001b[0;31mModuleNotFoundError\u001b[0m: No module named 'pandas.core.indexes.numeric'"
     ]
    }
   ],
   "source": [
    "# load data\n",
    "file_in = open(\"all_ads_labeled.pickle\", \"rb\")\n",
    "dat = pickle.load(file_in)\n",
    "\n",
    "print(\"number of ads\", dat.shape)"
   ]
  },
  {
   "cell_type": "code",
   "execution_count": 3,
   "metadata": {},
   "outputs": [],
   "source": [
    "# convert to CSV format\n",
    "data = pd.read_csv(\n",
    "    \"/Users/sofiepalmuskronborg/Library/CloudStorage/OneDrive-ITU/ITU/Thesis/ad_data.csv\"\n",
    ")"
   ]
  },
  {
   "cell_type": "code",
   "execution_count": 4,
   "metadata": {},
   "outputs": [
    {
     "name": "stdout",
     "output_type": "stream",
     "text": [
      "number of ads (602544, 17)\n"
     ]
    }
   ],
   "source": [
    "print(\"number of ads\", data.shape)"
   ]
  },
  {
   "cell_type": "code",
   "execution_count": 5,
   "metadata": {},
   "outputs": [
    {
     "name": "stdout",
     "output_type": "stream",
     "text": [
      "<class 'pandas.core.frame.DataFrame'>\n",
      "RangeIndex: 602544 entries, 0 to 602543\n",
      "Data columns (total 17 columns):\n",
      " #   Column                    Non-Null Count   Dtype  \n",
      "---  ------                    --------------   -----  \n",
      " 0   ad_creation_time          602544 non-null  object \n",
      " 1   ad_creative_body          598057 non-null  object \n",
      " 2   spend                     602544 non-null  float64\n",
      " 3   impressions               602544 non-null  float64\n",
      " 4   delivery_by_region        463401 non-null  object \n",
      " 5   demographic_distribution  463401 non-null  object \n",
      " 6   page_id                   602544 non-null  int64  \n",
      " 7   page_name                 602544 non-null  object \n",
      " 8   bylines                   600813 non-null  object \n",
      " 9   id                        602544 non-null  int64  \n",
      " 10  spend_lo                  602544 non-null  int64  \n",
      " 11  spend_hi                  602544 non-null  int64  \n",
      " 12  impressions_lo            602544 non-null  int64  \n",
      " 13  impressions_hi            602544 non-null  int64  \n",
      " 14  label                     602544 non-null  object \n",
      " 15  party                     602544 non-null  object \n",
      " 16  state                     602544 non-null  object \n",
      "dtypes: float64(2), int64(6), object(9)\n",
      "memory usage: 78.1+ MB\n"
     ]
    }
   ],
   "source": [
    "data.info()"
   ]
  },
  {
   "cell_type": "code",
   "execution_count": 6,
   "metadata": {},
   "outputs": [
    {
     "data": {
      "text/plain": [
       "ad_creation_time                 0\n",
       "ad_creative_body              4487\n",
       "spend                            0\n",
       "impressions                      0\n",
       "delivery_by_region          139143\n",
       "demographic_distribution    139143\n",
       "page_id                          0\n",
       "page_name                        0\n",
       "bylines                       1731\n",
       "id                               0\n",
       "spend_lo                         0\n",
       "spend_hi                         0\n",
       "impressions_lo                   0\n",
       "impressions_hi                   0\n",
       "label                            0\n",
       "party                            0\n",
       "state                            0\n",
       "dtype: int64"
      ]
     },
     "execution_count": 6,
     "metadata": {},
     "output_type": "execute_result"
    }
   ],
   "source": [
    "data.isnull().sum()\n",
    "# demographic distribution of ads"
   ]
  },
  {
   "cell_type": "code",
   "execution_count": 7,
   "metadata": {},
   "outputs": [
    {
     "data": {
      "text/plain": [
       "ad_creation_time              1237\n",
       "ad_creative_body             58449\n",
       "spend                           42\n",
       "impressions                     39\n",
       "delivery_by_region          335516\n",
       "demographic_distribution    459236\n",
       "page_id                        518\n",
       "page_name                      553\n",
       "bylines                        955\n",
       "id                          459728\n",
       "spend_lo                        42\n",
       "spend_hi                        42\n",
       "impressions_lo                  39\n",
       "impressions_hi                  39\n",
       "party                            2\n",
       "state                           54\n",
       "dtype: int64"
      ]
     },
     "execution_count": 7,
     "metadata": {},
     "output_type": "execute_result"
    }
   ],
   "source": [
    "data.nunique()"
   ]
  },
  {
   "cell_type": "markdown",
   "metadata": {},
   "source": [
    "## Cleaning the data"
   ]
  },
  {
   "cell_type": "code",
   "execution_count": 17,
   "metadata": {},
   "outputs": [],
   "source": [
    "# Removing nans and empty strings (ad_creative_body, demographic_distribution, delivery_by_region)\n",
    "\n",
    "# filter out nans in creative sentiment (e.g. they are probably videos), removes 4487 ads (0.74%)\n",
    "data = data[\n",
    "    ~data[\"ad_creative_body\"].isna()\n",
    "]  # -> politician Lois Frankel with id: 145862215492466 is gone from the dataset with 2 ads\n",
    "\n",
    "# filter out ads which just have empty space as text, e.g '  '(no 'real' text content), removes 40 in total out of (602544) total 5527 ads ^ for ad_creative_body (0.75%)\n",
    "data = data[data['ad_creative_body'].str.strip() != '']\n",
    "\n",
    "# filter out ads that do not have any targeting info (removes 139,143 ads - 23,09% of all ads) - see analysis below\n",
    "data = data[\n",
    "    ~((data[\"demographic_distribution\"].isna()) | (data[\"delivery_by_region\"].isna()))\n",
    "]  # -> Senator Rob Portman with id: 45243961073\" is gone from the dataset with 1 ad (and no demographics)\n",
    "\n",
    "# remove ads where demographic_distribution = [{'percentage': '1'}], not sure what that means, removes 6 ads\n",
    "data = data[data['demographic_distribution'].map(lambda x: 1 if x == [{'percentage': '1'}] else 0) == 0]"
   ]
  },
  {
   "cell_type": "code",
   "execution_count": 18,
   "metadata": {},
   "outputs": [
    {
     "name": "stderr",
     "output_type": "stream",
     "text": [
      "/var/folders/cr/2b4bjd0d6cscnr8h_66vmrqm0000gn/T/ipykernel_1888/638186792.py:5: FutureWarning: A value is trying to be set on a copy of a DataFrame or Series through chained assignment using an inplace method.\n",
      "The behavior will change in pandas 3.0. This inplace method will never work because the intermediate object on which we are setting values always behaves as a copy.\n",
      "\n",
      "For example, when doing 'df[col].method(value, inplace=True)', try using 'df.method({col: value}, inplace=True)' or df[col] = df[col].method(value) instead, to perform the operation inplace on the original object.\n",
      "\n",
      "\n",
      "  data[\"party\"].replace(\"Independent\", \"Democrat\", inplace=True)\n"
     ]
    }
   ],
   "source": [
    "# drop the column 'label' marking climate/non climate adds\n",
    "data = data.drop('label', axis=1)\n",
    "\n",
    "# relabel Independents as Democrats - as the two independent politicians caucus with the Democrats\n",
    "data[\"party\"].replace(\"Independent\", \"Democrat\", inplace=True)"
   ]
  },
  {
   "cell_type": "code",
   "execution_count": 12,
   "metadata": {},
   "outputs": [
    {
     "name": "stdout",
     "output_type": "stream",
     "text": [
      "Number of ads after basic cleaning (459728, 16)\n"
     ]
    }
   ],
   "source": [
    "print(\"Number of ads after basic cleaning\", data.shape)"
   ]
  },
  {
   "cell_type": "code",
   "execution_count": 14,
   "metadata": {},
   "outputs": [],
   "source": [
    "data.to_csv('filtered_data.csv')"
   ]
  }
 ],
 "metadata": {
  "kernelspec": {
   "display_name": "base",
   "language": "python",
   "name": "python3"
  },
  "language_info": {
   "codemirror_mode": {
    "name": "ipython",
    "version": 3
   },
   "file_extension": ".py",
   "mimetype": "text/x-python",
   "name": "python",
   "nbconvert_exporter": "python",
   "pygments_lexer": "ipython3",
   "version": "3.11.5"
  }
 },
 "nbformat": 4,
 "nbformat_minor": 2
}
