{
 "cells": [
  {
   "cell_type": "code",
   "execution_count": 26,
   "metadata": {},
   "outputs": [],
   "source": [
    "import pickle\n",
    "from datetime import datetime\n",
    "import pandas as pd\n",
    "import numpy as np\n",
    "import nltk\n",
    "from nltk.sentiment import SentimentIntensityAnalyzer\n",
    "from collections import Counter\n",
    "from scipy.stats import pearsonr\n",
    "\n",
    "import matplotlib.pyplot as plt\n",
    "import matplotlib\n",
    "matplotlib.rc('font',**{'family':'sans-serif','sans-serif':['Helvetica'],'size':8})\n",
    "matplotlib.rcParams['pdf.fonttype'] = 42\n",
    "from langdetect import detect, DetectorFactory\n"
   ]
  },
  {
   "cell_type": "code",
   "execution_count": null,
   "metadata": {},
   "outputs": [],
   "source": []
  },
  {
   "cell_type": "code",
   "execution_count": 14,
   "metadata": {},
   "outputs": [
    {
     "name": "stdout",
     "output_type": "stream",
     "text": [
      "number of ads (602544, 17)\n"
     ]
    }
   ],
   "source": [
    "# load data\n",
    "file_in = open(\"all_ads_labeled.pickle\", \"rb\")\n",
    "dat = pickle.load(file_in)\n",
    "\n",
    "print(\"number of ads\", dat.shape)"
   ]
  },
  {
   "cell_type": "code",
   "execution_count": 27,
   "metadata": {},
   "outputs": [],
   "source": [
    "data = pd.read_csv(\"/Users/sofiepalmuskronborg/Desktop/Speciale/Data/ad_data.csv\")"
   ]
  },
  {
   "cell_type": "code",
   "execution_count": 4,
   "metadata": {},
   "outputs": [
    {
     "name": "stdout",
     "output_type": "stream",
     "text": [
      "number of ads (602544, 17)\n"
     ]
    }
   ],
   "source": [
    "print(\"number of ads\", data.shape)"
   ]
  },
  {
   "cell_type": "code",
   "execution_count": 33,
   "metadata": {},
   "outputs": [],
   "source": [
    "pd.reset_option(\"display.max_rows\")\n",
    "pd.reset_option(\"display.max_columns\")\n",
    "pd.reset_option(\"display.max_colwidth\")"
   ]
  },
  {
   "cell_type": "code",
   "execution_count": 8,
   "metadata": {},
   "outputs": [
    {
     "data": {
      "text/html": [
       "<div>\n",
       "<style scoped>\n",
       "    .dataframe tbody tr th:only-of-type {\n",
       "        vertical-align: middle;\n",
       "    }\n",
       "\n",
       "    .dataframe tbody tr th {\n",
       "        vertical-align: top;\n",
       "    }\n",
       "\n",
       "    .dataframe thead th {\n",
       "        text-align: right;\n",
       "    }\n",
       "</style>\n",
       "<table border=\"1\" class=\"dataframe\">\n",
       "  <thead>\n",
       "    <tr style=\"text-align: right;\">\n",
       "      <th></th>\n",
       "      <th>ad_creation_time</th>\n",
       "      <th>ad_creative_body</th>\n",
       "      <th>spend</th>\n",
       "      <th>impressions</th>\n",
       "      <th>delivery_by_region</th>\n",
       "      <th>demographic_distribution</th>\n",
       "      <th>page_id</th>\n",
       "      <th>page_name</th>\n",
       "      <th>bylines</th>\n",
       "      <th>id</th>\n",
       "      <th>spend_lo</th>\n",
       "      <th>spend_hi</th>\n",
       "      <th>impressions_lo</th>\n",
       "      <th>impressions_hi</th>\n",
       "      <th>label</th>\n",
       "      <th>party</th>\n",
       "      <th>state</th>\n",
       "    </tr>\n",
       "  </thead>\n",
       "  <tbody>\n",
       "    <tr>\n",
       "      <th>0</th>\n",
       "      <td>2020-02-12</td>\n",
       "      <td>Every kid in America should have the same access to a high-quality public education—no matter where they live, the color of their skin, or how much money their parents make. Elizabeth has a comprehensive plan for our public education system. Her plan invests hundreds of billions of dollars in our public schools, paid for by a small wealth tax on fortunes above $50 million. It also funds schools equitably, invests in school infrastructure, fights back against segregation and discrimination, protects the rights of English Language Learners and immigrant students, better supports teachers, and provides a warm, safe, and nurturing school climate for all of our kids. \\n\\nIf you agree that we need to make big changes to improve public schools for our kids, sign up today. \\n\\n***\\n\\nTodos los estudiantes estadounidenses deberían tener el mismo acceso a una educación pública de alta calidad—sin importar dónde vivan, el color de su piel o cuánto dinero ganan sus padres. Elizabeth tiene un plan comprensivo para mejorar nuestro sistema de educación pública. Su plan invierte cientos de miles de millones de dólares, pagado por un pequeño impuesto sobre las grandes fortunas de más de $50 millones. También financia las escuelas públicas de manera adecuada, invierte en la infraestructura de los planteles escolares, lucha contra la segregación y discriminación, protege los derechos de los estudiantes aprendices de inglés y los estudiantes inmigrantes, apoya de mejor manera a los educadores y provee un ambiente escolar alegre, seguro y acogedor para todos los estudiantes. \\n\\nSi estás de acuerdo que necesitamos hacer grandes cambios para mejorar nuestras escuelas públicas para nuestros niños, inscríbete hoy.</td>\n",
       "      <td>49.5</td>\n",
       "      <td>499.5</td>\n",
       "      <td>[{'percentage': '0.001175', 'region': 'Alabama'}, {'percentage': '0.003525', 'region': 'Kentucky'}, {'percentage': '0.031727', 'region': 'Arizona'}, {'percentage': '0.338425', 'region': 'California'}, {'percentage': '0.022327', 'region': 'Colorado'}, {'percentage': '0.049354', 'region': 'Florida'}, {'percentage': '0.010576', 'region': 'Georgia'}, {'percentage': '0.00235', 'region': 'Idaho'}, {'percentage': '0.06228', 'region': 'Illinois'}, {'percentage': '0.008226', 'region': 'Indiana'}, {'percentage': '0.007051', 'region': 'Michigan'}, {'percentage': '0.001175', 'region': 'Wyoming'}, {'percentage': '0.003525', 'region': 'Minnesota'}, {'percentage': '0.019976', 'region': 'New Jersey'}, {'percentage': '0.06698', 'region': 'New York'}, {'percentage': '0.023502', 'region': 'North Carolina'}, {'percentage': '0.003525', 'region': 'Oklahoma'}, {'percentage': '0.011751', 'region': 'Oregon'}, {'percentage': '0.025852', 'region': 'Pennsylvania'}, {'percentage': '0.164512', 'region': 'Texas'}, {'percentage': '0.001175', 'region': 'Delaware'}, {'percentage': '0.015276', 'region': 'Washington'}, {'percentage': '0.001175', 'region': 'Alaska'}, {'percentage': '0.001175', 'region': 'Missouri'}, {'percentage': '0.010576', 'region': 'Arkansas'}, {'percentage': '0.014101', 'region': 'Connecticut'}, {'percentage': '0.003525', 'region': 'Washington, District of Columbia'}, {'percentage': '0.012926', 'region': 'Iowa'}, {'percentage': '0.010576', 'region': 'Kansas'}, {'percentage': '0.00235', 'region': 'Louisiana'}, {'percentage': '0.001175', 'region': 'Maryland'}, {'percentage': '0.009401', 'region': 'Massachusetts'}, {'percentage': '0.007051', 'region': 'Nebraska'}, {'percentage': '0.0047', 'region': 'Virginia'}, {'percentage': '0.009401', 'region': 'Nevada'}, {'percentage': '0.003525', 'region': 'New Hampshire'}, {'percentage': '0.0047', 'region': 'New Mexico'}, {'percentage': '0.003525', 'region': 'Ohio'}, {'percentage': '0.003525', 'region': 'Rhode Island'}, {'percentage': '0.003525', 'region': 'Tennessee'}, {'percentage': '0.007051', 'region': 'Utah'}, {'percentage': '0.001175', 'region': 'Vermont'}, {'percentage': '0.010576', 'region': 'Wisconsin'}]</td>\n",
       "      <td>[{'percentage': '0.003529', 'age': '25-34', 'gender': 'unknown'}, {'percentage': '0.001176', 'age': '18-24', 'gender': 'unknown'}, {'percentage': '0.176471', 'age': '25-34', 'gender': 'male'}, {'percentage': '0.102353', 'age': '35-44', 'gender': 'male'}, {'percentage': '0.327059', 'age': '25-34', 'gender': 'female'}, {'percentage': '0.061176', 'age': '18-24', 'gender': 'male'}, {'percentage': '0.216471', 'age': '35-44', 'gender': 'female'}, {'percentage': '0.111765', 'age': '18-24', 'gender': 'female'}]</td>\n",
       "      <td>38471053686</td>\n",
       "      <td>Elizabeth Warren</td>\n",
       "      <td>WARREN FOR PRESIDENT, INC.</td>\n",
       "      <td>488348208497291</td>\n",
       "      <td>0</td>\n",
       "      <td>99</td>\n",
       "      <td>0</td>\n",
       "      <td>999</td>\n",
       "      <td>climate</td>\n",
       "      <td>Democrat</td>\n",
       "      <td>MA</td>\n",
       "    </tr>\n",
       "    <tr>\n",
       "      <th>1</th>\n",
       "      <td>2020-02-12</td>\n",
       "      <td>Every kid in America should have the same access to a high-quality public education—no matter where they live, the color of their skin, or how much money their parents make. Elizabeth has a comprehensive plan for our public education system. Her plan invests hundreds of billions of dollars in our public schools, paid for by a small wealth tax on fortunes above $50 million. It also funds schools equitably, invests in school infrastructure, fights back against segregation and discrimination, protects the rights of English Language Learners and immigrant students, better supports teachers, and provides a warm, safe, and nurturing school climate for all of our kids. \\n\\nIf you agree that we need to make big changes to improve public schools for our kids, sign up today. \\n\\n***\\n\\nTodos los estudiantes estadounidenses deberían tener el mismo acceso a una educación pública de alta calidad—sin importar dónde vivan, el color de su piel o cuánto dinero ganan sus padres. Elizabeth tiene un plan comprensivo para mejorar nuestro sistema de educación pública. Su plan invierte cientos de miles de millones de dólares, pagado por un pequeño impuesto sobre las grandes fortunas de más de $50 millones. También financia las escuelas públicas de manera adecuada, invierte en la infraestructura de los planteles escolares, lucha contra la segregación y discriminación, protege los derechos de los estudiantes aprendices de inglés y los estudiantes inmigrantes, apoya de mejor manera a los educadores y provee un ambiente escolar alegre, seguro y acogedor para todos los estudiantes. \\n\\nSi estás de acuerdo que necesitamos hacer grandes cambios para mejorar nuestras escuelas públicas para nuestros niños, inscríbete hoy.</td>\n",
       "      <td>49.5</td>\n",
       "      <td>499.5</td>\n",
       "      <td>[{'percentage': '0.026738', 'region': 'Colorado'}, {'percentage': '0.016043', 'region': 'Georgia'}, {'percentage': '0.002674', 'region': 'Washington, District of Columbia'}, {'percentage': '0.002674', 'region': 'Nevada'}, {'percentage': '0.005348', 'region': 'Alabama'}, {'percentage': '0.032086', 'region': 'Arizona'}, {'percentage': '0.320856', 'region': 'California'}, {'percentage': '0.090909', 'region': 'Florida'}, {'percentage': '0.05615', 'region': 'Illinois'}, {'percentage': '0.018717', 'region': 'Washington'}, {'percentage': '0.013369', 'region': 'Michigan'}, {'percentage': '0.032086', 'region': 'New Mexico'}, {'percentage': '0.048128', 'region': 'New York'}, {'percentage': '0.018717', 'region': 'North Carolina'}, {'percentage': '0.013369', 'region': 'Oregon'}, {'percentage': '0.018717', 'region': 'Pennsylvania'}, {'percentage': '0.005348', 'region': 'Wisconsin'}, {'percentage': '0.013369', 'region': 'Virginia'}, {'percentage': '0.024064', 'region': 'Connecticut'}, {'percentage': '0.005348', 'region': 'Maryland'}, {'percentage': '0.002674', 'region': 'Hawaii'}, {'percentage': '0.005348', 'region': 'Idaho'}, {'percentage': '0.010695', 'region': 'Indiana'}, {'percentage': '0.008021', 'region': 'Iowa'}, {'percentage': '0.002674', 'region': 'Kansas'}, {'percentage': '0.008021', 'region': 'Louisiana'}, {'percentage': '0.008021', 'region': 'Massachusetts'}, {'percentage': '0.002674', 'region': 'Utah'}, {'percentage': '0.008021', 'region': 'Minnesota'}, {'percentage': '0.002674', 'region': 'Missouri'}, {'percentage': '0.005348', 'region': 'Nebraska'}, {'percentage': '0.013369', 'region': 'New Jersey'}, {'percentage': '0.005348', 'region': 'Ohio'}, {'percentage': '0.002674', 'region': 'Oklahoma'}, {'percentage': '0.002674', 'region': 'Tennessee'}, {'percentage': '0.147059', 'region': 'Texas'}]</td>\n",
       "      <td>[{'percentage': '0.002674', 'age': '25-34', 'gender': 'unknown'}, {'percentage': '0.002674', 'age': '35-44', 'gender': 'unknown'}, {'percentage': '0.002674', 'age': '18-24', 'gender': 'unknown'}, {'percentage': '0.294118', 'age': '25-34', 'gender': 'female'}, {'percentage': '0.240642', 'age': '25-34', 'gender': 'male'}, {'percentage': '0.064171', 'age': '18-24', 'gender': 'male'}, {'percentage': '0.064171', 'age': '18-24', 'gender': 'female'}, {'percentage': '0.21123', 'age': '35-44', 'gender': 'female'}, {'percentage': '0.117647', 'age': '35-44', 'gender': 'male'}]</td>\n",
       "      <td>38471053686</td>\n",
       "      <td>Elizabeth Warren</td>\n",
       "      <td>WARREN FOR PRESIDENT, INC.</td>\n",
       "      <td>494013894629856</td>\n",
       "      <td>0</td>\n",
       "      <td>99</td>\n",
       "      <td>0</td>\n",
       "      <td>999</td>\n",
       "      <td>climate</td>\n",
       "      <td>Democrat</td>\n",
       "      <td>MA</td>\n",
       "    </tr>\n",
       "    <tr>\n",
       "      <th>2</th>\n",
       "      <td>2020-02-12</td>\n",
       "      <td>Every kid in America should have the same access to a high-quality public education—no matter where they live, the color of their skin, or how much money their parents make. Elizabeth has a comprehensive plan for our public education system. Her plan invests hundreds of billions of dollars in our public schools, paid for by a small wealth tax on fortunes above $50 million. It also funds schools equitably, invests in school infrastructure, fights back against segregation and discrimination, protects the rights of English Language Learners and immigrant students, better supports teachers, and provides a warm, safe, and nurturing school climate for all of our kids. \\n\\nIf you agree that we need to make big changes to improve public schools for our kids, sign up today. \\n\\n***\\n\\nTodos los estudiantes estadounidenses deberían tener el mismo acceso a una educación pública de alta calidad—sin importar dónde vivan, el color de su piel o cuánto dinero ganan sus padres. Elizabeth tiene un plan comprensivo para mejorar nuestro sistema de educación pública. Su plan invierte cientos de miles de millones de dólares, pagado por un pequeño impuesto sobre las grandes fortunas de más de $50 millones. También financia las escuelas públicas de manera adecuada, invierte en la infraestructura de los planteles escolares, lucha contra la segregación y discriminación, protege los derechos de los estudiantes aprendices de inglés y los estudiantes inmigrantes, apoya de mejor manera a los educadores y provee un ambiente escolar alegre, seguro y acogedor para todos los estudiantes. \\n\\nSi estás de acuerdo que necesitamos hacer grandes cambios para mejorar nuestras escuelas públicas para nuestros niños, inscríbete hoy.</td>\n",
       "      <td>49.5</td>\n",
       "      <td>1499.5</td>\n",
       "      <td>[{'percentage': '0.010661', 'region': 'Alabama'}, {'percentage': '0.017058', 'region': 'Pennsylvania'}, {'percentage': '0.001066', 'region': 'New Hampshire'}, {'percentage': '0.023454', 'region': 'New Jersey'}, {'percentage': '0.014925', 'region': 'New Mexico'}, {'percentage': '0.077825', 'region': 'New York'}, {'percentage': '0.022388', 'region': 'North Carolina'}, {'percentage': '0.004264', 'region': 'Ohio'}, {'percentage': '0.012793', 'region': 'Oklahoma'}, {'percentage': '0.012793', 'region': 'Oregon'}, {'percentage': '0.010661', 'region': 'Rhode Island'}, {'percentage': '0.008529', 'region': 'Nebraska'}, {'percentage': '0.001066', 'region': 'South Dakota'}, {'percentage': '0.00533', 'region': 'Tennessee'}, {'percentage': '0.133262', 'region': 'Texas'}, {'percentage': '0.007463', 'region': 'Utah'}, {'percentage': '0.009595', 'region': 'Virginia'}, {'percentage': '0.021322', 'region': 'Washington'}, {'percentage': '0.013859', 'region': 'Wisconsin'}, {'percentage': '0.001066', 'region': 'Hawaii'}, {'percentage': '0.007463', 'region': 'Nevada'}, {'percentage': '0.002132', 'region': 'Mississippi'}, {'percentage': '0.044776', 'region': 'Arizona'}, {'percentage': '0.007463', 'region': 'Idaho'}, {'percentage': '0.003198', 'region': 'Arkansas'}, {'percentage': '0.246269', 'region': 'California'}, {'percentage': '0.023454', 'region': 'Colorado'}, {'percentage': '0.008529', 'region': 'Connecticut'}, {'percentage': '0.004264', 'region': 'Delaware'}, {'percentage': '0.002132', 'region': 'Washington, District of Columbia'}, {'percentage': '0.081023', 'region': 'Florida'}, {'percentage': '0.013859', 'region': 'Georgia'}, {'percentage': '0.069296', 'region': 'Illinois'}, {'percentage': '0.00533', 'region': 'Minnesota'}, {'percentage': '0.010661', 'region': 'Indiana'}, {'percentage': '0.007463', 'region': 'Iowa'}, {'percentage': '0.009595', 'region': 'Kansas'}, {'percentage': '0.004264', 'region': 'Kentucky'}, {'percentage': '0.003198', 'region': 'Louisiana'}, {'percentage': '0.006397', 'region': 'Maryland'}, {'percentage': '0.014925', 'region': 'Massachusetts'}, {'percentage': '0.012793', 'region': 'Michigan'}, {'percentage': '0.002132', 'region': 'Missouri'}]</td>\n",
       "      <td>[{'percentage': '0.001067', 'age': '35-44', 'gender': 'unknown'}, {'percentage': '0.155816', 'age': '18-24', 'gender': 'female'}, {'percentage': '0.15048', 'age': '25-34', 'gender': 'male'}, {'percentage': '0.194237', 'age': '35-44', 'gender': 'female'}, {'percentage': '0.330843', 'age': '25-34', 'gender': 'female'}, {'percentage': '0.073639', 'age': '18-24', 'gender': 'male'}, {'percentage': '0.091782', 'age': '35-44', 'gender': 'male'}, {'percentage': '0.002134', 'age': '18-24', 'gender': 'unknown'}]</td>\n",
       "      <td>38471053686</td>\n",
       "      <td>Elizabeth Warren</td>\n",
       "      <td>WARREN FOR PRESIDENT, INC.</td>\n",
       "      <td>469970110548642</td>\n",
       "      <td>0</td>\n",
       "      <td>99</td>\n",
       "      <td>1000</td>\n",
       "      <td>1999</td>\n",
       "      <td>climate</td>\n",
       "      <td>Democrat</td>\n",
       "      <td>MA</td>\n",
       "    </tr>\n",
       "    <tr>\n",
       "      <th>3</th>\n",
       "      <td>2020-02-12</td>\n",
       "      <td>Every kid in America should have the same access to a high-quality public education—no matter where they live, the color of their skin, or how much money their parents make. Elizabeth has a comprehensive plan for our public education system. Her plan invests hundreds of billions of dollars in our public schools, paid for by a small wealth tax on fortunes above $50 million. It also funds schools equitably, invests in school infrastructure, fights back against segregation and discrimination, protects the rights of English Language Learners and immigrant students, better supports teachers, and provides a warm, safe, and nurturing school climate for all of our kids. \\n\\nIf you agree that we need to make big changes to improve public schools for our kids, sign up today. \\n\\n***\\n\\nTodos los estudiantes estadounidenses deberían tener el mismo acceso a una educación pública de alta calidad—sin importar dónde vivan, el color de su piel o cuánto dinero ganan sus padres. Elizabeth tiene un plan comprensivo para mejorar nuestro sistema de educación pública. Su plan invierte cientos de miles de millones de dólares, pagado por un pequeño impuesto sobre las grandes fortunas de más de $50 millones. También financia las escuelas públicas de manera adecuada, invierte en la infraestructura de los planteles escolares, lucha contra la segregación y discriminación, protege los derechos de los estudiantes aprendices de inglés y los estudiantes inmigrantes, apoya de mejor manera a los educadores y provee un ambiente escolar alegre, seguro y acogedor para todos los estudiantes. \\n\\nSi estás de acuerdo que necesitamos hacer grandes cambios para mejorar nuestras escuelas públicas para nuestros niños, inscríbete hoy.</td>\n",
       "      <td>49.5</td>\n",
       "      <td>499.5</td>\n",
       "      <td>[{'percentage': '0.004944', 'region': 'Alabama'}, {'percentage': '0.003708', 'region': 'Minnesota'}, {'percentage': '0.077874', 'region': 'Florida'}, {'percentage': '0.012361', 'region': 'Georgia'}, {'percentage': '0.007417', 'region': 'Idaho'}, {'percentage': '0.05686', 'region': 'Illinois'}, {'percentage': '0.013597', 'region': 'Kansas'}, {'percentage': '0.012361', 'region': 'Maryland'}, {'percentage': '0.012361', 'region': 'Massachusetts'}, {'percentage': '0.008653', 'region': 'Michigan'}, {'percentage': '0.034611', 'region': 'New Jersey'}, {'percentage': '0.033375', 'region': 'Arizona'}, {'percentage': '0.071693', 'region': 'New York'}, {'percentage': '0.024722', 'region': 'North Carolina'}, {'percentage': '0.012361', 'region': 'Ohio'}, {'percentage': '0.025958', 'region': 'Pennsylvania'}, {'percentage': '0.1644', 'region': 'Texas'}, {'percentage': '0.00618', 'region': 'Utah'}, {'percentage': '0.018541', 'region': 'Virginia'}, {'percentage': '0.019778', 'region': 'Washington'}, {'percentage': '0.197775', 'region': 'California'}, {'percentage': '0.001236', 'region': 'West Virginia'}, {'percentage': '0.001236', 'region': 'Alaska'}, {'percentage': '0.007417', 'region': 'Louisiana'}, {'percentage': '0.00618', 'region': 'Arkansas'}, {'percentage': '0.024722', 'region': 'Colorado'}, {'percentage': '0.016069', 'region': 'Connecticut'}, {'percentage': '0.003708', 'region': 'Delaware'}, {'percentage': '0.002472', 'region': 'Washington, District of Columbia'}, {'percentage': '0.011125', 'region': 'Indiana'}, {'percentage': '0.013597', 'region': 'Iowa'}, {'percentage': '0.00618', 'region': 'Kentucky'}, {'percentage': '0.001236', 'region': 'Mississippi'}, {'percentage': '0.007417', 'region': 'Tennessee'}, {'percentage': '0.002472', 'region': 'Missouri'}, {'percentage': '0.003708', 'region': 'Nebraska'}, {'percentage': '0.009889', 'region': 'Nevada'}, {'percentage': '0.001236', 'region': 'New Hampshire'}, {'percentage': '0.016069', 'region': 'New Mexico'}, {'percentage': '0.00618', 'region': 'Oklahoma'}, {'percentage': '0.02843', 'region': 'Oregon'}, {'percentage': '0.003708', 'region': 'Rhode Island'}, {'percentage': '0.00618', 'region': 'Wisconsin'}]</td>\n",
       "      <td>[{'percentage': '0.003708', 'age': '35-44', 'gender': 'unknown'}, {'percentage': '0.002472', 'age': '25-34', 'gender': 'unknown'}, {'percentage': '0.002472', 'age': '18-24', 'gender': 'unknown'}, {'percentage': '0.29419', 'age': '25-34', 'gender': 'female'}, {'percentage': '0.216316', 'age': '35-44', 'gender': 'female'}, {'percentage': '0.127318', 'age': '35-44', 'gender': 'male'}, {'percentage': '0.190358', 'age': '25-34', 'gender': 'male'}, {'percentage': '0.106304', 'age': '18-24', 'gender': 'female'}, {'percentage': '0.05686', 'age': '18-24', 'gender': 'male'}]</td>\n",
       "      <td>38471053686</td>\n",
       "      <td>Elizabeth Warren</td>\n",
       "      <td>WARREN FOR PRESIDENT, INC.</td>\n",
       "      <td>271731930474720</td>\n",
       "      <td>0</td>\n",
       "      <td>99</td>\n",
       "      <td>0</td>\n",
       "      <td>999</td>\n",
       "      <td>climate</td>\n",
       "      <td>Democrat</td>\n",
       "      <td>MA</td>\n",
       "    </tr>\n",
       "    <tr>\n",
       "      <th>4</th>\n",
       "      <td>2020-02-12</td>\n",
       "      <td>Every kid in America should have the same access to a high-quality public education—no matter where they live, the color of their skin, or how much money their parents make. Elizabeth has a comprehensive plan for our public education system. Her plan invests hundreds of billions of dollars in our public schools, paid for by a small wealth tax on fortunes above $50 million. It also funds schools equitably, invests in school infrastructure, fights back against segregation and discrimination, protects the rights of English Language Learners and immigrant students, better supports teachers, and provides a warm, safe, and nurturing school climate for all of our kids. \\n\\nIf you agree that we need to make big changes to improve public schools for our kids, sign up today. \\n\\n***\\n\\nTodos los estudiantes estadounidenses deberían tener el mismo acceso a una educación pública de alta calidad—sin importar dónde vivan, el color de su piel o cuánto dinero ganan sus padres. Elizabeth tiene un plan comprensivo para mejorar nuestro sistema de educación pública. Su plan invierte cientos de miles de millones de dólares, pagado por un pequeño impuesto sobre las grandes fortunas de más de $50 millones. También financia las escuelas públicas de manera adecuada, invierte en la infraestructura de los planteles escolares, lucha contra la segregación y discriminación, protege los derechos de los estudiantes aprendices de inglés y los estudiantes inmigrantes, apoya de mejor manera a los educadores y provee un ambiente escolar alegre, seguro y acogedor para todos los estudiantes. \\n\\nSi estás de acuerdo que necesitamos hacer grandes cambios para mejorar nuestras escuelas públicas para nuestros niños, inscríbete hoy.</td>\n",
       "      <td>49.5</td>\n",
       "      <td>499.5</td>\n",
       "      <td>[{'percentage': '0.034682', 'region': 'Arizona'}, {'percentage': '0.179191', 'region': 'New York'}, {'percentage': '0.00578', 'region': 'Iowa'}, {'percentage': '0.023121', 'region': 'Illinois'}, {'percentage': '0.00578', 'region': 'Colorado'}, {'percentage': '0.017341', 'region': 'Wisconsin'}, {'percentage': '0.011561', 'region': 'Virginia'}, {'percentage': '0.080925', 'region': 'Texas'}, {'percentage': '0.034682', 'region': 'Pennsylvania'}, {'percentage': '0.00578', 'region': 'Oregon'}, {'percentage': '0.011561', 'region': 'Ohio'}, {'percentage': '0.017341', 'region': 'North Carolina'}, {'percentage': '0.028902', 'region': 'New Mexico'}, {'percentage': '0.00578', 'region': 'Arkansas'}, {'percentage': '0.236994', 'region': 'New Jersey'}, {'percentage': '0.011561', 'region': 'Nevada'}, {'percentage': '0.00578', 'region': 'Nebraska'}, {'percentage': '0.011561', 'region': 'Mississippi'}, {'percentage': '0.017341', 'region': 'Michigan'}, {'percentage': '0.00578', 'region': 'Massachusetts'}, {'percentage': '0.00578', 'region': 'Kansas'}, {'percentage': '0.00578', 'region': 'Georgia'}, {'percentage': '0.104046', 'region': 'Florida'}, {'percentage': '0.023121', 'region': 'Connecticut'}, {'percentage': '0.104046', 'region': 'California'}, {'percentage': '0.00578', 'region': 'New Hampshire'}]</td>\n",
       "      <td>[{'percentage': '0.138728', 'age': '35-44', 'gender': 'male'}, {'percentage': '0.254335', 'age': '35-44', 'gender': 'female'}, {'percentage': '0.271676', 'age': '25-34', 'gender': 'female'}, {'percentage': '0.086705', 'age': '18-24', 'gender': 'female'}, {'percentage': '0.17341', 'age': '25-34', 'gender': 'male'}, {'percentage': '0.075145', 'age': '18-24', 'gender': 'male'}]</td>\n",
       "      <td>38471053686</td>\n",
       "      <td>Elizabeth Warren</td>\n",
       "      <td>WARREN FOR PRESIDENT, INC.</td>\n",
       "      <td>595816060977581</td>\n",
       "      <td>0</td>\n",
       "      <td>99</td>\n",
       "      <td>0</td>\n",
       "      <td>999</td>\n",
       "      <td>climate</td>\n",
       "      <td>Democrat</td>\n",
       "      <td>MA</td>\n",
       "    </tr>\n",
       "  </tbody>\n",
       "</table>\n",
       "</div>"
      ],
      "text/plain": [
       "  ad_creation_time  \\\n",
       "0       2020-02-12   \n",
       "1       2020-02-12   \n",
       "2       2020-02-12   \n",
       "3       2020-02-12   \n",
       "4       2020-02-12   \n",
       "\n",
       "                                                                                                                                                                                                                                                                                                                                                                                                                                                                                                                                                                                                                                                                                                                                                                                                                                                                                                                                                                                                                                                                                                                                                                                                                                                                                                                                                                                                                                                                                                                                                                                                                                                                                                                                                                          ad_creative_body  \\\n",
       "0  Every kid in America should have the same access to a high-quality public education—no matter where they live, the color of their skin, or how much money their parents make. Elizabeth has a comprehensive plan for our public education system. Her plan invests hundreds of billions of dollars in our public schools, paid for by a small wealth tax on fortunes above $50 million. It also funds schools equitably, invests in school infrastructure, fights back against segregation and discrimination, protects the rights of English Language Learners and immigrant students, better supports teachers, and provides a warm, safe, and nurturing school climate for all of our kids. \\n\\nIf you agree that we need to make big changes to improve public schools for our kids, sign up today. \\n\\n***\\n\\nTodos los estudiantes estadounidenses deberían tener el mismo acceso a una educación pública de alta calidad—sin importar dónde vivan, el color de su piel o cuánto dinero ganan sus padres. Elizabeth tiene un plan comprensivo para mejorar nuestro sistema de educación pública. Su plan invierte cientos de miles de millones de dólares, pagado por un pequeño impuesto sobre las grandes fortunas de más de $50 millones. También financia las escuelas públicas de manera adecuada, invierte en la infraestructura de los planteles escolares, lucha contra la segregación y discriminación, protege los derechos de los estudiantes aprendices de inglés y los estudiantes inmigrantes, apoya de mejor manera a los educadores y provee un ambiente escolar alegre, seguro y acogedor para todos los estudiantes. \\n\\nSi estás de acuerdo que necesitamos hacer grandes cambios para mejorar nuestras escuelas públicas para nuestros niños, inscríbete hoy.   \n",
       "1  Every kid in America should have the same access to a high-quality public education—no matter where they live, the color of their skin, or how much money their parents make. Elizabeth has a comprehensive plan for our public education system. Her plan invests hundreds of billions of dollars in our public schools, paid for by a small wealth tax on fortunes above $50 million. It also funds schools equitably, invests in school infrastructure, fights back against segregation and discrimination, protects the rights of English Language Learners and immigrant students, better supports teachers, and provides a warm, safe, and nurturing school climate for all of our kids. \\n\\nIf you agree that we need to make big changes to improve public schools for our kids, sign up today. \\n\\n***\\n\\nTodos los estudiantes estadounidenses deberían tener el mismo acceso a una educación pública de alta calidad—sin importar dónde vivan, el color de su piel o cuánto dinero ganan sus padres. Elizabeth tiene un plan comprensivo para mejorar nuestro sistema de educación pública. Su plan invierte cientos de miles de millones de dólares, pagado por un pequeño impuesto sobre las grandes fortunas de más de $50 millones. También financia las escuelas públicas de manera adecuada, invierte en la infraestructura de los planteles escolares, lucha contra la segregación y discriminación, protege los derechos de los estudiantes aprendices de inglés y los estudiantes inmigrantes, apoya de mejor manera a los educadores y provee un ambiente escolar alegre, seguro y acogedor para todos los estudiantes. \\n\\nSi estás de acuerdo que necesitamos hacer grandes cambios para mejorar nuestras escuelas públicas para nuestros niños, inscríbete hoy.   \n",
       "2  Every kid in America should have the same access to a high-quality public education—no matter where they live, the color of their skin, or how much money their parents make. Elizabeth has a comprehensive plan for our public education system. Her plan invests hundreds of billions of dollars in our public schools, paid for by a small wealth tax on fortunes above $50 million. It also funds schools equitably, invests in school infrastructure, fights back against segregation and discrimination, protects the rights of English Language Learners and immigrant students, better supports teachers, and provides a warm, safe, and nurturing school climate for all of our kids. \\n\\nIf you agree that we need to make big changes to improve public schools for our kids, sign up today. \\n\\n***\\n\\nTodos los estudiantes estadounidenses deberían tener el mismo acceso a una educación pública de alta calidad—sin importar dónde vivan, el color de su piel o cuánto dinero ganan sus padres. Elizabeth tiene un plan comprensivo para mejorar nuestro sistema de educación pública. Su plan invierte cientos de miles de millones de dólares, pagado por un pequeño impuesto sobre las grandes fortunas de más de $50 millones. También financia las escuelas públicas de manera adecuada, invierte en la infraestructura de los planteles escolares, lucha contra la segregación y discriminación, protege los derechos de los estudiantes aprendices de inglés y los estudiantes inmigrantes, apoya de mejor manera a los educadores y provee un ambiente escolar alegre, seguro y acogedor para todos los estudiantes. \\n\\nSi estás de acuerdo que necesitamos hacer grandes cambios para mejorar nuestras escuelas públicas para nuestros niños, inscríbete hoy.   \n",
       "3  Every kid in America should have the same access to a high-quality public education—no matter where they live, the color of their skin, or how much money their parents make. Elizabeth has a comprehensive plan for our public education system. Her plan invests hundreds of billions of dollars in our public schools, paid for by a small wealth tax on fortunes above $50 million. It also funds schools equitably, invests in school infrastructure, fights back against segregation and discrimination, protects the rights of English Language Learners and immigrant students, better supports teachers, and provides a warm, safe, and nurturing school climate for all of our kids. \\n\\nIf you agree that we need to make big changes to improve public schools for our kids, sign up today. \\n\\n***\\n\\nTodos los estudiantes estadounidenses deberían tener el mismo acceso a una educación pública de alta calidad—sin importar dónde vivan, el color de su piel o cuánto dinero ganan sus padres. Elizabeth tiene un plan comprensivo para mejorar nuestro sistema de educación pública. Su plan invierte cientos de miles de millones de dólares, pagado por un pequeño impuesto sobre las grandes fortunas de más de $50 millones. También financia las escuelas públicas de manera adecuada, invierte en la infraestructura de los planteles escolares, lucha contra la segregación y discriminación, protege los derechos de los estudiantes aprendices de inglés y los estudiantes inmigrantes, apoya de mejor manera a los educadores y provee un ambiente escolar alegre, seguro y acogedor para todos los estudiantes. \\n\\nSi estás de acuerdo que necesitamos hacer grandes cambios para mejorar nuestras escuelas públicas para nuestros niños, inscríbete hoy.   \n",
       "4  Every kid in America should have the same access to a high-quality public education—no matter where they live, the color of their skin, or how much money their parents make. Elizabeth has a comprehensive plan for our public education system. Her plan invests hundreds of billions of dollars in our public schools, paid for by a small wealth tax on fortunes above $50 million. It also funds schools equitably, invests in school infrastructure, fights back against segregation and discrimination, protects the rights of English Language Learners and immigrant students, better supports teachers, and provides a warm, safe, and nurturing school climate for all of our kids. \\n\\nIf you agree that we need to make big changes to improve public schools for our kids, sign up today. \\n\\n***\\n\\nTodos los estudiantes estadounidenses deberían tener el mismo acceso a una educación pública de alta calidad—sin importar dónde vivan, el color de su piel o cuánto dinero ganan sus padres. Elizabeth tiene un plan comprensivo para mejorar nuestro sistema de educación pública. Su plan invierte cientos de miles de millones de dólares, pagado por un pequeño impuesto sobre las grandes fortunas de más de $50 millones. También financia las escuelas públicas de manera adecuada, invierte en la infraestructura de los planteles escolares, lucha contra la segregación y discriminación, protege los derechos de los estudiantes aprendices de inglés y los estudiantes inmigrantes, apoya de mejor manera a los educadores y provee un ambiente escolar alegre, seguro y acogedor para todos los estudiantes. \\n\\nSi estás de acuerdo que necesitamos hacer grandes cambios para mejorar nuestras escuelas públicas para nuestros niños, inscríbete hoy.   \n",
       "\n",
       "   spend  impressions  \\\n",
       "0   49.5        499.5   \n",
       "1   49.5        499.5   \n",
       "2   49.5       1499.5   \n",
       "3   49.5        499.5   \n",
       "4   49.5        499.5   \n",
       "\n",
       "                                                                                                                                                                                                                                                                                                                                                                                                                                                                                                                                                                                                                                                                                                                                                                                                                                                                                                                                                                                                                                                                                                                                                                                                                                                                                                                                                                                                                                                                                                                                                                                                                                                                                                                                                                                                                                                                                                                                                                                                                                                                                                                                                                                                                                                            delivery_by_region  \\\n",
       "0                 [{'percentage': '0.001175', 'region': 'Alabama'}, {'percentage': '0.003525', 'region': 'Kentucky'}, {'percentage': '0.031727', 'region': 'Arizona'}, {'percentage': '0.338425', 'region': 'California'}, {'percentage': '0.022327', 'region': 'Colorado'}, {'percentage': '0.049354', 'region': 'Florida'}, {'percentage': '0.010576', 'region': 'Georgia'}, {'percentage': '0.00235', 'region': 'Idaho'}, {'percentage': '0.06228', 'region': 'Illinois'}, {'percentage': '0.008226', 'region': 'Indiana'}, {'percentage': '0.007051', 'region': 'Michigan'}, {'percentage': '0.001175', 'region': 'Wyoming'}, {'percentage': '0.003525', 'region': 'Minnesota'}, {'percentage': '0.019976', 'region': 'New Jersey'}, {'percentage': '0.06698', 'region': 'New York'}, {'percentage': '0.023502', 'region': 'North Carolina'}, {'percentage': '0.003525', 'region': 'Oklahoma'}, {'percentage': '0.011751', 'region': 'Oregon'}, {'percentage': '0.025852', 'region': 'Pennsylvania'}, {'percentage': '0.164512', 'region': 'Texas'}, {'percentage': '0.001175', 'region': 'Delaware'}, {'percentage': '0.015276', 'region': 'Washington'}, {'percentage': '0.001175', 'region': 'Alaska'}, {'percentage': '0.001175', 'region': 'Missouri'}, {'percentage': '0.010576', 'region': 'Arkansas'}, {'percentage': '0.014101', 'region': 'Connecticut'}, {'percentage': '0.003525', 'region': 'Washington, District of Columbia'}, {'percentage': '0.012926', 'region': 'Iowa'}, {'percentage': '0.010576', 'region': 'Kansas'}, {'percentage': '0.00235', 'region': 'Louisiana'}, {'percentage': '0.001175', 'region': 'Maryland'}, {'percentage': '0.009401', 'region': 'Massachusetts'}, {'percentage': '0.007051', 'region': 'Nebraska'}, {'percentage': '0.0047', 'region': 'Virginia'}, {'percentage': '0.009401', 'region': 'Nevada'}, {'percentage': '0.003525', 'region': 'New Hampshire'}, {'percentage': '0.0047', 'region': 'New Mexico'}, {'percentage': '0.003525', 'region': 'Ohio'}, {'percentage': '0.003525', 'region': 'Rhode Island'}, {'percentage': '0.003525', 'region': 'Tennessee'}, {'percentage': '0.007051', 'region': 'Utah'}, {'percentage': '0.001175', 'region': 'Vermont'}, {'percentage': '0.010576', 'region': 'Wisconsin'}]   \n",
       "1                                                                                                                                                                                                                                                                                                                                                                               [{'percentage': '0.026738', 'region': 'Colorado'}, {'percentage': '0.016043', 'region': 'Georgia'}, {'percentage': '0.002674', 'region': 'Washington, District of Columbia'}, {'percentage': '0.002674', 'region': 'Nevada'}, {'percentage': '0.005348', 'region': 'Alabama'}, {'percentage': '0.032086', 'region': 'Arizona'}, {'percentage': '0.320856', 'region': 'California'}, {'percentage': '0.090909', 'region': 'Florida'}, {'percentage': '0.05615', 'region': 'Illinois'}, {'percentage': '0.018717', 'region': 'Washington'}, {'percentage': '0.013369', 'region': 'Michigan'}, {'percentage': '0.032086', 'region': 'New Mexico'}, {'percentage': '0.048128', 'region': 'New York'}, {'percentage': '0.018717', 'region': 'North Carolina'}, {'percentage': '0.013369', 'region': 'Oregon'}, {'percentage': '0.018717', 'region': 'Pennsylvania'}, {'percentage': '0.005348', 'region': 'Wisconsin'}, {'percentage': '0.013369', 'region': 'Virginia'}, {'percentage': '0.024064', 'region': 'Connecticut'}, {'percentage': '0.005348', 'region': 'Maryland'}, {'percentage': '0.002674', 'region': 'Hawaii'}, {'percentage': '0.005348', 'region': 'Idaho'}, {'percentage': '0.010695', 'region': 'Indiana'}, {'percentage': '0.008021', 'region': 'Iowa'}, {'percentage': '0.002674', 'region': 'Kansas'}, {'percentage': '0.008021', 'region': 'Louisiana'}, {'percentage': '0.008021', 'region': 'Massachusetts'}, {'percentage': '0.002674', 'region': 'Utah'}, {'percentage': '0.008021', 'region': 'Minnesota'}, {'percentage': '0.002674', 'region': 'Missouri'}, {'percentage': '0.005348', 'region': 'Nebraska'}, {'percentage': '0.013369', 'region': 'New Jersey'}, {'percentage': '0.005348', 'region': 'Ohio'}, {'percentage': '0.002674', 'region': 'Oklahoma'}, {'percentage': '0.002674', 'region': 'Tennessee'}, {'percentage': '0.147059', 'region': 'Texas'}]   \n",
       "2  [{'percentage': '0.010661', 'region': 'Alabama'}, {'percentage': '0.017058', 'region': 'Pennsylvania'}, {'percentage': '0.001066', 'region': 'New Hampshire'}, {'percentage': '0.023454', 'region': 'New Jersey'}, {'percentage': '0.014925', 'region': 'New Mexico'}, {'percentage': '0.077825', 'region': 'New York'}, {'percentage': '0.022388', 'region': 'North Carolina'}, {'percentage': '0.004264', 'region': 'Ohio'}, {'percentage': '0.012793', 'region': 'Oklahoma'}, {'percentage': '0.012793', 'region': 'Oregon'}, {'percentage': '0.010661', 'region': 'Rhode Island'}, {'percentage': '0.008529', 'region': 'Nebraska'}, {'percentage': '0.001066', 'region': 'South Dakota'}, {'percentage': '0.00533', 'region': 'Tennessee'}, {'percentage': '0.133262', 'region': 'Texas'}, {'percentage': '0.007463', 'region': 'Utah'}, {'percentage': '0.009595', 'region': 'Virginia'}, {'percentage': '0.021322', 'region': 'Washington'}, {'percentage': '0.013859', 'region': 'Wisconsin'}, {'percentage': '0.001066', 'region': 'Hawaii'}, {'percentage': '0.007463', 'region': 'Nevada'}, {'percentage': '0.002132', 'region': 'Mississippi'}, {'percentage': '0.044776', 'region': 'Arizona'}, {'percentage': '0.007463', 'region': 'Idaho'}, {'percentage': '0.003198', 'region': 'Arkansas'}, {'percentage': '0.246269', 'region': 'California'}, {'percentage': '0.023454', 'region': 'Colorado'}, {'percentage': '0.008529', 'region': 'Connecticut'}, {'percentage': '0.004264', 'region': 'Delaware'}, {'percentage': '0.002132', 'region': 'Washington, District of Columbia'}, {'percentage': '0.081023', 'region': 'Florida'}, {'percentage': '0.013859', 'region': 'Georgia'}, {'percentage': '0.069296', 'region': 'Illinois'}, {'percentage': '0.00533', 'region': 'Minnesota'}, {'percentage': '0.010661', 'region': 'Indiana'}, {'percentage': '0.007463', 'region': 'Iowa'}, {'percentage': '0.009595', 'region': 'Kansas'}, {'percentage': '0.004264', 'region': 'Kentucky'}, {'percentage': '0.003198', 'region': 'Louisiana'}, {'percentage': '0.006397', 'region': 'Maryland'}, {'percentage': '0.014925', 'region': 'Massachusetts'}, {'percentage': '0.012793', 'region': 'Michigan'}, {'percentage': '0.002132', 'region': 'Missouri'}]   \n",
       "3        [{'percentage': '0.004944', 'region': 'Alabama'}, {'percentage': '0.003708', 'region': 'Minnesota'}, {'percentage': '0.077874', 'region': 'Florida'}, {'percentage': '0.012361', 'region': 'Georgia'}, {'percentage': '0.007417', 'region': 'Idaho'}, {'percentage': '0.05686', 'region': 'Illinois'}, {'percentage': '0.013597', 'region': 'Kansas'}, {'percentage': '0.012361', 'region': 'Maryland'}, {'percentage': '0.012361', 'region': 'Massachusetts'}, {'percentage': '0.008653', 'region': 'Michigan'}, {'percentage': '0.034611', 'region': 'New Jersey'}, {'percentage': '0.033375', 'region': 'Arizona'}, {'percentage': '0.071693', 'region': 'New York'}, {'percentage': '0.024722', 'region': 'North Carolina'}, {'percentage': '0.012361', 'region': 'Ohio'}, {'percentage': '0.025958', 'region': 'Pennsylvania'}, {'percentage': '0.1644', 'region': 'Texas'}, {'percentage': '0.00618', 'region': 'Utah'}, {'percentage': '0.018541', 'region': 'Virginia'}, {'percentage': '0.019778', 'region': 'Washington'}, {'percentage': '0.197775', 'region': 'California'}, {'percentage': '0.001236', 'region': 'West Virginia'}, {'percentage': '0.001236', 'region': 'Alaska'}, {'percentage': '0.007417', 'region': 'Louisiana'}, {'percentage': '0.00618', 'region': 'Arkansas'}, {'percentage': '0.024722', 'region': 'Colorado'}, {'percentage': '0.016069', 'region': 'Connecticut'}, {'percentage': '0.003708', 'region': 'Delaware'}, {'percentage': '0.002472', 'region': 'Washington, District of Columbia'}, {'percentage': '0.011125', 'region': 'Indiana'}, {'percentage': '0.013597', 'region': 'Iowa'}, {'percentage': '0.00618', 'region': 'Kentucky'}, {'percentage': '0.001236', 'region': 'Mississippi'}, {'percentage': '0.007417', 'region': 'Tennessee'}, {'percentage': '0.002472', 'region': 'Missouri'}, {'percentage': '0.003708', 'region': 'Nebraska'}, {'percentage': '0.009889', 'region': 'Nevada'}, {'percentage': '0.001236', 'region': 'New Hampshire'}, {'percentage': '0.016069', 'region': 'New Mexico'}, {'percentage': '0.00618', 'region': 'Oklahoma'}, {'percentage': '0.02843', 'region': 'Oregon'}, {'percentage': '0.003708', 'region': 'Rhode Island'}, {'percentage': '0.00618', 'region': 'Wisconsin'}]   \n",
       "4                                                                                                                                                                                                                                                                                                                                                                                                                                                                                                                                                                                                                                                                                                                                                                                                                                                                                                                     [{'percentage': '0.034682', 'region': 'Arizona'}, {'percentage': '0.179191', 'region': 'New York'}, {'percentage': '0.00578', 'region': 'Iowa'}, {'percentage': '0.023121', 'region': 'Illinois'}, {'percentage': '0.00578', 'region': 'Colorado'}, {'percentage': '0.017341', 'region': 'Wisconsin'}, {'percentage': '0.011561', 'region': 'Virginia'}, {'percentage': '0.080925', 'region': 'Texas'}, {'percentage': '0.034682', 'region': 'Pennsylvania'}, {'percentage': '0.00578', 'region': 'Oregon'}, {'percentage': '0.011561', 'region': 'Ohio'}, {'percentage': '0.017341', 'region': 'North Carolina'}, {'percentage': '0.028902', 'region': 'New Mexico'}, {'percentage': '0.00578', 'region': 'Arkansas'}, {'percentage': '0.236994', 'region': 'New Jersey'}, {'percentage': '0.011561', 'region': 'Nevada'}, {'percentage': '0.00578', 'region': 'Nebraska'}, {'percentage': '0.011561', 'region': 'Mississippi'}, {'percentage': '0.017341', 'region': 'Michigan'}, {'percentage': '0.00578', 'region': 'Massachusetts'}, {'percentage': '0.00578', 'region': 'Kansas'}, {'percentage': '0.00578', 'region': 'Georgia'}, {'percentage': '0.104046', 'region': 'Florida'}, {'percentage': '0.023121', 'region': 'Connecticut'}, {'percentage': '0.104046', 'region': 'California'}, {'percentage': '0.00578', 'region': 'New Hampshire'}]   \n",
       "\n",
       "                                                                                                                                                                                                                                                                                                                                                                                                                                                                                                                                                                       demographic_distribution  \\\n",
       "0                                                                  [{'percentage': '0.003529', 'age': '25-34', 'gender': 'unknown'}, {'percentage': '0.001176', 'age': '18-24', 'gender': 'unknown'}, {'percentage': '0.176471', 'age': '25-34', 'gender': 'male'}, {'percentage': '0.102353', 'age': '35-44', 'gender': 'male'}, {'percentage': '0.327059', 'age': '25-34', 'gender': 'female'}, {'percentage': '0.061176', 'age': '18-24', 'gender': 'male'}, {'percentage': '0.216471', 'age': '35-44', 'gender': 'female'}, {'percentage': '0.111765', 'age': '18-24', 'gender': 'female'}]   \n",
       "1  [{'percentage': '0.002674', 'age': '25-34', 'gender': 'unknown'}, {'percentage': '0.002674', 'age': '35-44', 'gender': 'unknown'}, {'percentage': '0.002674', 'age': '18-24', 'gender': 'unknown'}, {'percentage': '0.294118', 'age': '25-34', 'gender': 'female'}, {'percentage': '0.240642', 'age': '25-34', 'gender': 'male'}, {'percentage': '0.064171', 'age': '18-24', 'gender': 'male'}, {'percentage': '0.064171', 'age': '18-24', 'gender': 'female'}, {'percentage': '0.21123', 'age': '35-44', 'gender': 'female'}, {'percentage': '0.117647', 'age': '35-44', 'gender': 'male'}]   \n",
       "2                                                                   [{'percentage': '0.001067', 'age': '35-44', 'gender': 'unknown'}, {'percentage': '0.155816', 'age': '18-24', 'gender': 'female'}, {'percentage': '0.15048', 'age': '25-34', 'gender': 'male'}, {'percentage': '0.194237', 'age': '35-44', 'gender': 'female'}, {'percentage': '0.330843', 'age': '25-34', 'gender': 'female'}, {'percentage': '0.073639', 'age': '18-24', 'gender': 'male'}, {'percentage': '0.091782', 'age': '35-44', 'gender': 'male'}, {'percentage': '0.002134', 'age': '18-24', 'gender': 'unknown'}]   \n",
       "3   [{'percentage': '0.003708', 'age': '35-44', 'gender': 'unknown'}, {'percentage': '0.002472', 'age': '25-34', 'gender': 'unknown'}, {'percentage': '0.002472', 'age': '18-24', 'gender': 'unknown'}, {'percentage': '0.29419', 'age': '25-34', 'gender': 'female'}, {'percentage': '0.216316', 'age': '35-44', 'gender': 'female'}, {'percentage': '0.127318', 'age': '35-44', 'gender': 'male'}, {'percentage': '0.190358', 'age': '25-34', 'gender': 'male'}, {'percentage': '0.106304', 'age': '18-24', 'gender': 'female'}, {'percentage': '0.05686', 'age': '18-24', 'gender': 'male'}]   \n",
       "4                                                                                                                                                                                                     [{'percentage': '0.138728', 'age': '35-44', 'gender': 'male'}, {'percentage': '0.254335', 'age': '35-44', 'gender': 'female'}, {'percentage': '0.271676', 'age': '25-34', 'gender': 'female'}, {'percentage': '0.086705', 'age': '18-24', 'gender': 'female'}, {'percentage': '0.17341', 'age': '25-34', 'gender': 'male'}, {'percentage': '0.075145', 'age': '18-24', 'gender': 'male'}]   \n",
       "\n",
       "       page_id         page_name                     bylines               id  \\\n",
       "0  38471053686  Elizabeth Warren  WARREN FOR PRESIDENT, INC.  488348208497291   \n",
       "1  38471053686  Elizabeth Warren  WARREN FOR PRESIDENT, INC.  494013894629856   \n",
       "2  38471053686  Elizabeth Warren  WARREN FOR PRESIDENT, INC.  469970110548642   \n",
       "3  38471053686  Elizabeth Warren  WARREN FOR PRESIDENT, INC.  271731930474720   \n",
       "4  38471053686  Elizabeth Warren  WARREN FOR PRESIDENT, INC.  595816060977581   \n",
       "\n",
       "   spend_lo  spend_hi  impressions_lo  impressions_hi    label     party state  \n",
       "0         0        99               0             999  climate  Democrat    MA  \n",
       "1         0        99               0             999  climate  Democrat    MA  \n",
       "2         0        99            1000            1999  climate  Democrat    MA  \n",
       "3         0        99               0             999  climate  Democrat    MA  \n",
       "4         0        99               0             999  climate  Democrat    MA  "
      ]
     },
     "execution_count": 8,
     "metadata": {},
     "output_type": "execute_result"
    }
   ],
   "source": [
    "pd.set_option(\"display.max_colwidth\", None)  # No truncation for long text\n",
    "data.head(5)"
   ]
  },
  {
   "cell_type": "code",
   "execution_count": 35,
   "metadata": {},
   "outputs": [
    {
     "name": "stdout",
     "output_type": "stream",
     "text": [
      "<class 'pandas.core.frame.DataFrame'>\n",
      "RangeIndex: 602544 entries, 0 to 602543\n",
      "Data columns (total 17 columns):\n",
      " #   Column                    Non-Null Count   Dtype  \n",
      "---  ------                    --------------   -----  \n",
      " 0   ad_creation_time          602544 non-null  object \n",
      " 1   ad_creative_body          598057 non-null  object \n",
      " 2   spend                     602544 non-null  float64\n",
      " 3   impressions               602544 non-null  float64\n",
      " 4   delivery_by_region        463401 non-null  object \n",
      " 5   demographic_distribution  463401 non-null  object \n",
      " 6   page_id                   602544 non-null  int64  \n",
      " 7   page_name                 602544 non-null  object \n",
      " 8   bylines                   600813 non-null  object \n",
      " 9   id                        602544 non-null  int64  \n",
      " 10  spend_lo                  602544 non-null  int64  \n",
      " 11  spend_hi                  602544 non-null  int64  \n",
      " 12  impressions_lo            602544 non-null  int64  \n",
      " 13  impressions_hi            602544 non-null  int64  \n",
      " 14  label                     602544 non-null  object \n",
      " 15  party                     602544 non-null  object \n",
      " 16  state                     602544 non-null  object \n",
      "dtypes: float64(2), int64(6), object(9)\n",
      "memory usage: 78.1+ MB\n"
     ]
    }
   ],
   "source": [
    "data.info()"
   ]
  },
  {
   "cell_type": "code",
   "execution_count": 36,
   "metadata": {},
   "outputs": [
    {
     "data": {
      "text/plain": [
       "ad_creation_time                 0\n",
       "ad_creative_body              4487\n",
       "spend                            0\n",
       "impressions                      0\n",
       "delivery_by_region          139143\n",
       "demographic_distribution    139143\n",
       "page_id                          0\n",
       "page_name                        0\n",
       "bylines                       1731\n",
       "id                               0\n",
       "spend_lo                         0\n",
       "spend_hi                         0\n",
       "impressions_lo                   0\n",
       "impressions_hi                   0\n",
       "label                            0\n",
       "party                            0\n",
       "state                            0\n",
       "dtype: int64"
      ]
     },
     "execution_count": 36,
     "metadata": {},
     "output_type": "execute_result"
    }
   ],
   "source": [
    "data.isnull().sum()"
   ]
  },
  {
   "cell_type": "code",
   "execution_count": 28,
   "metadata": {},
   "outputs": [
    {
     "data": {
      "text/plain": [
       "ad_creation_time              1238\n",
       "ad_creative_body             60635\n",
       "spend                           42\n",
       "impressions                     39\n",
       "delivery_by_region          337533\n",
       "demographic_distribution    462909\n",
       "page_id                        520\n",
       "page_name                      555\n",
       "bylines                        957\n",
       "id                          602544\n",
       "spend_lo                        42\n",
       "spend_hi                        42\n",
       "impressions_lo                  39\n",
       "impressions_hi                  39\n",
       "label                            2\n",
       "party                            3\n",
       "state                           54\n",
       "dtype: int64"
      ]
     },
     "execution_count": 28,
     "metadata": {},
     "output_type": "execute_result"
    }
   ],
   "source": [
    "data.nunique()"
   ]
  },
  {
   "cell_type": "markdown",
   "metadata": {},
   "source": [
    "## Cleaning the data"
   ]
  },
  {
   "cell_type": "code",
   "execution_count": 29,
   "metadata": {},
   "outputs": [],
   "source": [
    "# Removing nans and empty strings (ad_creative_body, demographic_distribution, delivery_by_region)\n",
    "\n",
    "# filter out nans in creative sentiment (e.g. they are probably videos), removes 4487 ads (0.74%)\n",
    "data = data[~data['ad_creative_body'].isna()]\n",
    "# filter out ads which just have empty space as text, e.g '  '(no 'real' text content), removes 40 in total out of (602544)\n",
    "data = data[data['ad_creative_body'].str.strip() != '']\n",
    "# filter out ads that do not have any targeting info (removes 138289 ads - 22.95% of all ads) - see analysis below\n",
    "#data = data[~((data['demographic_distribution'].isna()) | (data['delivery_by_region'].isna()))]\n",
    "\n",
    "# remove ads where demographic_distribution = [{'percentage': '1'}], not sure what that means, removes 6 ads\n",
    "data = data[data['demographic_distribution'].map(lambda x: 1 if x == [{'percentage': '1'}] else 0) == 0]\n",
    "\n",
    "# relabel Independents as Democrats - as the two independent politicians caucus with the Democrats\n",
    "data['party'].replace('Independent','Democrat',inplace=True)"
   ]
  },
  {
   "cell_type": "code",
   "execution_count": 30,
   "metadata": {},
   "outputs": [
    {
     "name": "stdout",
     "output_type": "stream",
     "text": [
      "Number of ads after basic cleaning (598017, 17)\n"
     ]
    }
   ],
   "source": [
    "print(\"Number of ads after basic cleaning\", data.shape)"
   ]
  },
  {
   "cell_type": "code",
   "execution_count": 31,
   "metadata": {},
   "outputs": [],
   "source": [
    "data.to_csv('filtered_data.csv')"
   ]
  },
  {
   "cell_type": "code",
   "execution_count": 45,
   "metadata": {},
   "outputs": [
    {
     "name": "stdout",
     "output_type": "stream",
     "text": [
      "Number of ads part 2 (139944, 17)\n"
     ]
    }
   ],
   "source": [
    "# remove all adds with low spend and low impressions\n",
    "\n",
    "#dat = data[(data[\"spend_lo\"] != 0) & (data[\"impressions_lo\"] != 0)]\n",
    "\n",
    "#print(\"Number of ads part 2\", dat.shape)"
   ]
  },
  {
   "cell_type": "code",
   "execution_count": 46,
   "metadata": {},
   "outputs": [
    {
     "name": "stdout",
     "output_type": "stream",
     "text": [
      "<class 'pandas.core.frame.DataFrame'>\n",
      "Index: 139944 entries, 67 to 602543\n",
      "Data columns (total 17 columns):\n",
      " #   Column                    Non-Null Count   Dtype  \n",
      "---  ------                    --------------   -----  \n",
      " 0   ad_creation_time          139944 non-null  object \n",
      " 1   ad_creative_body          139944 non-null  object \n",
      " 2   spend                     139944 non-null  float64\n",
      " 3   impressions               139944 non-null  float64\n",
      " 4   delivery_by_region        139944 non-null  object \n",
      " 5   demographic_distribution  139944 non-null  object \n",
      " 6   page_id                   139944 non-null  int64  \n",
      " 7   page_name                 139944 non-null  object \n",
      " 8   bylines                   139663 non-null  object \n",
      " 9   id                        139944 non-null  int64  \n",
      " 10  spend_lo                  139944 non-null  int64  \n",
      " 11  spend_hi                  139944 non-null  int64  \n",
      " 12  impressions_lo            139944 non-null  int64  \n",
      " 13  impressions_hi            139944 non-null  int64  \n",
      " 14  label                     139944 non-null  object \n",
      " 15  party                     139944 non-null  object \n",
      " 16  state                     139944 non-null  object \n",
      "dtypes: float64(2), int64(6), object(9)\n",
      "memory usage: 19.2+ MB\n"
     ]
    }
   ],
   "source": [
    "dat.info()"
   ]
  },
  {
   "cell_type": "code",
   "execution_count": null,
   "metadata": {},
   "outputs": [],
   "source": [
    "# Count the occurrences of each detected language\n",
    "language_counts = data[\"language\"].value_counts()\n",
    "print(language_counts)\n",
    "\n",
    "# Check how many ads are in English\n",
    "english_ads = data[data[\"language\"] == \"en\"]\n",
    "print(f\"Number of ads in English: {len(english_ads)}\")\n",
    "\n",
    "# Check if there are ads with multiple languages\n",
    "# This might involve analyzing the text content for language patterns"
   ]
  },
  {
   "cell_type": "code",
   "execution_count": 5,
   "metadata": {},
   "outputs": [
    {
     "data": {
      "text/plain": [
       "ad_creation_time              1195\n",
       "ad_creative_body             27767\n",
       "spend                           37\n",
       "impressions                     39\n",
       "delivery_by_region           56203\n",
       "demographic_distribution     77087\n",
       "page_id                        496\n",
       "page_name                      526\n",
       "bylines                        873\n",
       "id                          100000\n",
       "spend_lo                        37\n",
       "spend_hi                        37\n",
       "impressions_lo                  39\n",
       "impressions_hi                  39\n",
       "label                            2\n",
       "party                            3\n",
       "state                           52\n",
       "detected_languages              23\n",
       "dtype: int64"
      ]
     },
     "execution_count": 5,
     "metadata": {},
     "output_type": "execute_result"
    }
   ],
   "source": [
    "sample_data.nunique()"
   ]
  },
  {
   "cell_type": "code",
   "execution_count": 23,
   "metadata": {},
   "outputs": [],
   "source": [
    "### Prøv at splitte text\n",
    "\n",
    "df_sample = data.tail(100)"
   ]
  },
  {
   "cell_type": "code",
   "execution_count": 25,
   "metadata": {},
   "outputs": [
    {
     "name": "stdout",
     "output_type": "stream",
     "text": [
      "        detected_languages\n",
      "602444           [(1, en)]\n",
      "602445           [(1, en)]\n",
      "602446           [(1, en)]\n",
      "602447           [(1, en)]\n",
      "602448           [(1, en)]\n",
      "...                    ...\n",
      "602539           [(1, en)]\n",
      "602540           [(1, en)]\n",
      "602541           [(1, en)]\n",
      "602542           [(1, en)]\n",
      "602543  [(1, en), (2, en)]\n",
      "\n",
      "[100 rows x 1 columns]\n"
     ]
    },
    {
     "name": "stderr",
     "output_type": "stream",
     "text": [
      "/var/folders/cr/2b4bjd0d6cscnr8h_66vmrqm0000gn/T/ipykernel_21385/341831627.py:24: SettingWithCopyWarning: \n",
      "A value is trying to be set on a copy of a slice from a DataFrame.\n",
      "Try using .loc[row_indexer,col_indexer] = value instead\n",
      "\n",
      "See the caveats in the documentation: https://pandas.pydata.org/pandas-docs/stable/user_guide/indexing.html#returning-a-view-versus-a-copy\n",
      "  df_sample[\"detected_languages\"] = df_sample[\"ad_creative_body\"].apply(\n"
     ]
    }
   ],
   "source": [
    "import pandas as pd\n",
    "from langdetect import detect\n",
    "import re\n",
    "\n",
    "\n",
    "# Assuming your DataFrame is named 'df' and the text column is 'ad_creative_body'\n",
    "def detect_languages_in_ad(ad_text):\n",
    "    # Split the text into paragraphs or sentences based on double newlines\n",
    "    paragraphs = re.split(r\"\\n\\n\", ad_text)\n",
    "\n",
    "    # Detect language for each paragraph\n",
    "    detected_languages = []\n",
    "    for idx, paragraph in enumerate(paragraphs):\n",
    "        try:\n",
    "            detected_lang = detect(paragraph)\n",
    "            detected_languages.append((idx + 1, detected_lang))\n",
    "        except:\n",
    "            detected_languages.append((idx + 1, \"unknown\"))  # Handle detection errors\n",
    "\n",
    "    return detected_languages\n",
    "\n",
    "\n",
    "# Apply language detection to each row in the 'ad_creative_body' column\n",
    "df_sample[\"detected_languages\"] = df_sample[\"ad_creative_body\"].apply(\n",
    "    detect_languages_in_ad\n",
    ")\n",
    "\n",
    "# Print the updated DataFrame with detected languages\n",
    "print(df_sample[[\"detected_languages\"]])"
   ]
  }
 ],
 "metadata": {
  "kernelspec": {
   "display_name": "base",
   "language": "python",
   "name": "python3"
  },
  "language_info": {
   "codemirror_mode": {
    "name": "ipython",
    "version": 3
   },
   "file_extension": ".py",
   "mimetype": "text/x-python",
   "name": "python",
   "nbconvert_exporter": "python",
   "pygments_lexer": "ipython3",
   "version": "3.11.5"
  }
 },
 "nbformat": 4,
 "nbformat_minor": 2
}
