{
 "cells": [
  {
   "cell_type": "code",
   "execution_count": 2,
   "metadata": {},
   "outputs": [],
   "source": [
    "import pickle\n",
    "from datetime import datetime\n",
    "import pandas as pd\n",
    "import numpy as np\n",
    "import nltk\n",
    "from nltk.sentiment import SentimentIntensityAnalyzer\n",
    "from collections import Counter\n",
    "from scipy.stats import pearsonr\n",
    "\n",
    "import matplotlib.pyplot as plt\n",
    "import matplotlib\n",
    "matplotlib.rc('font',**{'family':'sans-serif','sans-serif':['Helvetica'],'size':8})\n",
    "matplotlib.rcParams['pdf.fonttype'] = 42\n",
    "from langdetect import detect, DetectorFactory\n"
   ]
  },
  {
   "cell_type": "code",
   "execution_count": 14,
   "metadata": {},
   "outputs": [
    {
     "name": "stdout",
     "output_type": "stream",
     "text": [
      "number of ads (602544, 17)\n"
     ]
    }
   ],
   "source": [
    "# load data\n",
    "file_in = open(\"all_ads_labeled.pickle\", \"rb\")\n",
    "dat = pickle.load(file_in)\n",
    "\n",
    "print(\"number of ads\", dat.shape)"
   ]
  },
  {
   "cell_type": "code",
   "execution_count": 3,
   "metadata": {},
   "outputs": [],
   "source": [
    "# convert to CSV format\n",
    "data = pd.read_csv(\"/Users/sofiepalmuskronborg/Desktop/Speciale/Data/ad_data.csv\")"
   ]
  },
  {
   "cell_type": "code",
   "execution_count": 4,
   "metadata": {},
   "outputs": [
    {
     "name": "stdout",
     "output_type": "stream",
     "text": [
      "number of ads (602544, 17)\n"
     ]
    }
   ],
   "source": [
    "print(\"number of ads\", data.shape)"
   ]
  },
  {
   "cell_type": "code",
   "execution_count": 35,
   "metadata": {},
   "outputs": [
    {
     "name": "stdout",
     "output_type": "stream",
     "text": [
      "<class 'pandas.core.frame.DataFrame'>\n",
      "RangeIndex: 602544 entries, 0 to 602543\n",
      "Data columns (total 17 columns):\n",
      " #   Column                    Non-Null Count   Dtype  \n",
      "---  ------                    --------------   -----  \n",
      " 0   ad_creation_time          602544 non-null  object \n",
      " 1   ad_creative_body          598057 non-null  object \n",
      " 2   spend                     602544 non-null  float64\n",
      " 3   impressions               602544 non-null  float64\n",
      " 4   delivery_by_region        463401 non-null  object \n",
      " 5   demographic_distribution  463401 non-null  object \n",
      " 6   page_id                   602544 non-null  int64  \n",
      " 7   page_name                 602544 non-null  object \n",
      " 8   bylines                   600813 non-null  object \n",
      " 9   id                        602544 non-null  int64  \n",
      " 10  spend_lo                  602544 non-null  int64  \n",
      " 11  spend_hi                  602544 non-null  int64  \n",
      " 12  impressions_lo            602544 non-null  int64  \n",
      " 13  impressions_hi            602544 non-null  int64  \n",
      " 14  label                     602544 non-null  object \n",
      " 15  party                     602544 non-null  object \n",
      " 16  state                     602544 non-null  object \n",
      "dtypes: float64(2), int64(6), object(9)\n",
      "memory usage: 78.1+ MB\n"
     ]
    }
   ],
   "source": [
    "data.info()"
   ]
  },
  {
   "cell_type": "code",
   "execution_count": 36,
   "metadata": {},
   "outputs": [
    {
     "data": {
      "text/plain": [
       "ad_creation_time                 0\n",
       "ad_creative_body              4487\n",
       "spend                            0\n",
       "impressions                      0\n",
       "delivery_by_region          139143\n",
       "demographic_distribution    139143\n",
       "page_id                          0\n",
       "page_name                        0\n",
       "bylines                       1731\n",
       "id                               0\n",
       "spend_lo                         0\n",
       "spend_hi                         0\n",
       "impressions_lo                   0\n",
       "impressions_hi                   0\n",
       "label                            0\n",
       "party                            0\n",
       "state                            0\n",
       "dtype: int64"
      ]
     },
     "execution_count": 36,
     "metadata": {},
     "output_type": "execute_result"
    }
   ],
   "source": [
    "data.isnull().sum()\n",
    "# demographic distribution of ads"
   ]
  },
  {
   "cell_type": "code",
   "execution_count": 28,
   "metadata": {},
   "outputs": [
    {
     "data": {
      "text/plain": [
       "ad_creation_time              1238\n",
       "ad_creative_body             60635\n",
       "spend                           42\n",
       "impressions                     39\n",
       "delivery_by_region          337533\n",
       "demographic_distribution    462909\n",
       "page_id                        520\n",
       "page_name                      555\n",
       "bylines                        957\n",
       "id                          602544\n",
       "spend_lo                        42\n",
       "spend_hi                        42\n",
       "impressions_lo                  39\n",
       "impressions_hi                  39\n",
       "label                            2\n",
       "party                            3\n",
       "state                           54\n",
       "dtype: int64"
      ]
     },
     "execution_count": 28,
     "metadata": {},
     "output_type": "execute_result"
    }
   ],
   "source": [
    "data.nunique()"
   ]
  },
  {
   "cell_type": "markdown",
   "metadata": {},
   "source": [
    "## Cleaning the data"
   ]
  },
  {
   "cell_type": "code",
   "execution_count": 4,
   "metadata": {},
   "outputs": [],
   "source": [
    "# Removing nans and empty strings (ad_creative_body, demographic_distribution, delivery_by_region)\n",
    "\n",
    "# filter out nans in creative sentiment (e.g. they are probably videos), removes 4487 ads (0.74%)\n",
    "data = data[~data['ad_creative_body'].isna()]\n",
    "# filter out ads which just have empty space as text, e.g '  '(no 'real' text content), removes 40 in total out of (602544)\n",
    "data = data[data['ad_creative_body'].str.strip() != '']\n",
    "# filter out ads that do not have any targeting info (removes 138289 ads - 22.95% of all ads) - see analysis below\n",
    "data = data[~((data['demographic_distribution'].isna()) | (data['delivery_by_region'].isna()))]\n",
    "# remove ads where demographic_distribution = [{'percentage': '1'}], not sure what that means, removes 6 ads\n",
    "data = data[data['demographic_distribution'].map(lambda x: 1 if x == [{'percentage': '1'}] else 0) == 0]\n"
   ]
  },
  {
   "cell_type": "code",
   "execution_count": 5,
   "metadata": {},
   "outputs": [],
   "source": [
    "# drop the column 'label' marking climate/non climate adds\n",
    "data = data.drop('label', axis=1)\n",
    "\n",
    "# relabel Independents as Democrats - as the two independent politicians caucus with the Democrats\n",
    "data[\"party\"].replace(\"Independent\", \"Democrat\", inplace=True)"
   ]
  },
  {
   "cell_type": "code",
   "execution_count": 6,
   "metadata": {},
   "outputs": [
    {
     "name": "stdout",
     "output_type": "stream",
     "text": [
      "Number of ads after basic cleaning (459728, 16)\n"
     ]
    }
   ],
   "source": [
    "print(\"Number of ads after basic cleaning\", data.shape)"
   ]
  },
  {
   "cell_type": "code",
   "execution_count": 7,
   "metadata": {},
   "outputs": [],
   "source": [
    "data.to_csv('filtered_data.csv')"
   ]
  }
 ],
 "metadata": {
  "kernelspec": {
   "display_name": "base",
   "language": "python",
   "name": "python3"
  },
  "language_info": {
   "codemirror_mode": {
    "name": "ipython",
    "version": 3
   },
   "file_extension": ".py",
   "mimetype": "text/x-python",
   "name": "python",
   "nbconvert_exporter": "python",
   "pygments_lexer": "ipython3",
   "version": "3.11.5"
  }
 },
 "nbformat": 4,
 "nbformat_minor": 2
}
