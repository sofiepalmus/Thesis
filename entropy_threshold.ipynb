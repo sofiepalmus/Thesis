{
 "cells": [
  {
   "cell_type": "code",
   "execution_count": 1,
   "metadata": {},
   "outputs": [],
   "source": [
    "import matplotlib.pyplot as plt\n",
    "from scipy.stats import entropy\n",
    "import skmob\n",
    "from skmob.measures.individual import real_entropy, uncorrelated_entropy\n",
    "import pandas as pd\n",
    "import numpy as np\n",
    "import seaborn as sns\n",
    "import matplotlib.pyplot as plt"
   ]
  },
  {
   "cell_type": "code",
   "execution_count": null,
   "metadata": {},
   "outputs": [],
   "source": [
    "data = pd.read_csv(\"csv files/labeled_ads.csv\")\n",
    "data_entr = pd.read_csv(\n",
    "#    \"csv files/all_ent.csv\",\n",
    "#    index_col=0,\n",
    "#)"
   ]
  },
  {
   "cell_type": "markdown",
   "metadata": {},
   "source": [
    "## filtering with thresholds"
   ]
  },
  {
   "cell_type": "code",
   "execution_count": 52,
   "metadata": {},
   "outputs": [],
   "source": [
    "threshold_2 = data[data[\"top_score\"] >= 0.2]  # from 459.728 to 457.609  # 517 politicians (1 is filtered away)\n",
    "threshold_4 = data[data[\"top_score\"] >= 0.4]  # from 459.728 to 442.854  # 516 politicians (2 is filtered away)"
   ]
  },
  {
   "cell_type": "markdown",
   "metadata": {},
   "source": [
    "## running through threshold >= 2"
   ]
  },
  {
   "cell_type": "code",
   "execution_count": null,
   "metadata": {},
   "outputs": [],
   "source": [
    "threshold_2 = threshold_2[[\"page_id\", \"top_label\", \"ad_creation_time\"]]\n",
    "\n",
    "threshold_2[\"top_label_int\"] = (\n",
    "    pd.factorize(threshold_2[\"top_label\"], sort=True)[0] + 1\n",
    ")  # convert Categories to float starting from 1.0 alphabetically\n",
    "\n",
    "threshold_2[\"lat\"] = 0.0\n",
    "\n",
    "tdf_2 = skmob.TrajDataFrame(\n",
    "    threshold_2,\n",
    "    latitude=\"lat\",\n",
    "    longitude=\"top_label_int\",\n",
    "    datetime=\"ad_creation_time\",\n",
    "    user_id=\"page_id\",\n",
    ")"
   ]
  },
  {
   "cell_type": "code",
   "execution_count": 32,
   "metadata": {},
   "outputs": [
    {
     "name": "stderr",
     "output_type": "stream",
     "text": [
      "100%|██████████| 517/517 [00:05<00:00, 92.58it/s] \n"
     ]
    }
   ],
   "source": [
    "# uncorrelated + real entropy\n",
    "ue_df_2 = uncorrelated_entropy(tdf_2, normalize=False)\n",
    "#re_df_2 = real_entropy(tdf_2)"
   ]
  },
  {
   "cell_type": "code",
   "execution_count": 33,
   "metadata": {},
   "outputs": [],
   "source": [
    "data_un = data_entr.drop_duplicates(\n",
    "    subset=[\"page_id\"]\n",
    ")  # narrowing down to 518 politicians\n",
    "data_un = pd.merge(\n",
    "    data_un, ue_df_2, left_on=\"page_id\", right_on=\"uid\", how=\"left\"\n",
    ")  # mapping uncorrealted values back to dataframe with 518 politicians\n",
    "data_un = data_un.drop(\"uid\", axis=1)\n",
    "data_un.rename(\n",
    "    columns={\n",
    "        \"uncorrelated_entropy_x\": \"uncor_entropy\",\n",
    "        \"uncorrelated_entropy_y\": \"uncor_entropy >= 0.2\",\n",
    "    },\n",
    "    inplace=True,\n",
    ")"
   ]
  },
  {
   "cell_type": "markdown",
   "metadata": {},
   "source": [
    "## running through threshold >= 4"
   ]
  },
  {
   "cell_type": "code",
   "execution_count": 34,
   "metadata": {},
   "outputs": [],
   "source": [
    "# b = pd.read_csv(\"/Users/sofiepalmuskronborg/Desktop/minus_ba.csv\", index_col=0)\n",
    "threshold_4 = threshold_4[[\"page_id\", \"top_label\", \"ad_creation_time\"]]\n",
    "\n",
    "threshold_4[\"top_label_int\"] = (\n",
    "    pd.factorize(threshold_4[\"top_label\"], sort=True)[0] + 1\n",
    ")  # convert Categories to float starting from 1.0 alphabetically\n",
    "\n",
    "threshold_4[\"lat\"] = 0.0\n",
    "\n",
    "tdf_4 = skmob.TrajDataFrame(\n",
    "    threshold_4,\n",
    "    latitude=\"lat\",\n",
    "    longitude=\"top_label_int\",\n",
    "    datetime=\"ad_creation_time\",\n",
    "    user_id=\"page_id\",\n",
    ")"
   ]
  },
  {
   "cell_type": "code",
   "execution_count": null,
   "metadata": {},
   "outputs": [
    {
     "name": "stderr",
     "output_type": "stream",
     "text": [
      "100%|██████████| 516/516 [00:06<00:00, 79.19it/s] \n"
     ]
    }
   ],
   "source": [
    "# uncorrelated + real entropy\n",
    "ue_df_4 = uncorrelated_entropy(tdf_4, normalize=False)\n",
    "re_df_4 = real_entropy(tdf_4)"
   ]
  },
  {
   "cell_type": "code",
   "execution_count": 36,
   "metadata": {},
   "outputs": [],
   "source": [
    "data_un = pd.merge(\n",
    "    data_un, ue_df_4, left_on=\"page_id\", right_on=\"uid\", how=\"left\"\n",
    ")  # mapping uncorrealted values back to dataframe with 518 politicians\n",
    "data_un = data_un.drop(\"uid\", axis=1)\n",
    "data_un.rename(\n",
    "    columns={\n",
    "        \"uncorrelated_entropy\": \"uncor_entropy >= 0.4\",\n",
    "    },\n",
    "    inplace=True,\n",
    ")"
   ]
  },
  {
   "cell_type": "markdown",
   "metadata": {},
   "source": [
    "## Special case for the two biggest players"
   ]
  },
  {
   "cell_type": "code",
   "execution_count": null,
   "metadata": {},
   "outputs": [],
   "source": [
    "filtered_data_a_2 = threshold_2[\n",
    "    threshold_2[\"page_id\"].isin([1316372698453411])\n",
    "]  # bernie sanders\n",
    "midpoint = len(filtered_data_a_2) // 2\n",
    "\n",
    "# Split the DataFrame into two parts\n",
    "df_part1_a_2 = filtered_data_a_2.iloc[:midpoint]\n",
    "df_part2_a_2 = filtered_data_a_2.iloc[midpoint:]\n",
    "\n",
    "df_part1_a_2[\"page_id\"] = df_part1_a_2[\"page_id\"].replace(1316372698453411, 130000000000000)\n",
    "df_part2_a_2[\"page_id\"] = df_part2_a_2[\"page_id\"].replace(1316372698453411, 130000000000001)"
   ]
  },
  {
   "cell_type": "code",
   "execution_count": null,
   "metadata": {},
   "outputs": [],
   "source": [
    "filtered_data_a_4 = threshold_4[\n",
    "    threshold_4[\"page_id\"].isin([1316372698453411])\n",
    "]  # bernie sanders\n",
    "midpoint = len(filtered_data_a_4) // 2\n",
    "\n",
    "# Split the DataFrame into two parts\n",
    "df_part1_a_4 = filtered_data_a_4.iloc[:midpoint]\n",
    "df_part2_a_4 = filtered_data_a_4.iloc[midpoint:]\n",
    "\n",
    "df_part1_a_4[\"page_id\"] = df_part1_a_4[\"page_id\"].replace(1316372698453411, 130000000000000)\n",
    "df_part2_a_4[\"page_id\"] = df_part2_a_4[\"page_id\"].replace(1316372698453411, 130000000000001)"
   ]
  },
  {
   "cell_type": "code",
   "execution_count": null,
   "metadata": {},
   "outputs": [],
   "source": [
    "filtered_data_b_2 = threshold_2[\n",
    "    threshold_2[\"page_id\"].isin([124955570892789])\n",
    "]  # ocasio-Cortez\n",
    "midpoint = len(filtered_data_b_2) // 2\n",
    "\n",
    "# Split the DataFrame into two parts\n",
    "df_part1_b_2 = filtered_data_b_2.iloc[:midpoint]\n",
    "df_part2_b_2 = filtered_data_b_2.iloc[midpoint:]\n",
    "\n",
    "df_part1_b_2[\"page_id\"] = df_part1_b_2[\"page_id\"].replace(124955570892789, 120000000000000)\n",
    "df_part2_b_2[\"page_id\"] = df_part2_b_2[\"page_id\"].replace(124955570892789, 120000000000001)"
   ]
  },
  {
   "cell_type": "code",
   "execution_count": null,
   "metadata": {},
   "outputs": [],
   "source": [
    "filtered_data_b_4 = threshold_4[\n",
    "    threshold_4[\"page_id\"].isin([124955570892789])\n",
    "]  # ocasio-Cortez\n",
    "midpoint = len(filtered_data_b_4) // 2\n",
    "\n",
    "# Split the DataFrame into two parts\n",
    "df_part1_b_4 = filtered_data_b_4.iloc[:midpoint]\n",
    "df_part2_b_4 = filtered_data_b_4.iloc[midpoint:]\n",
    "\n",
    "df_part1_b_4[\"page_id\"] = df_part1_b_4[\"page_id\"].replace(124955570892789, 120000000000000)\n",
    "df_part2_b_4[\"page_id\"] = df_part2_b_4[\"page_id\"].replace(124955570892789, 120000000000001)"
   ]
  },
  {
   "cell_type": "markdown",
   "metadata": {},
   "source": [
    "## filtering away Call for Action"
   ]
  },
  {
   "cell_type": "code",
   "execution_count": 4,
   "metadata": {},
   "outputs": [],
   "source": [
    "data_filt = data[\n",
    "    data[\"top_label\"] != \"Call for Action\"\n",
    "]  # from 459.728 to 106.240  # 498 politicians (20 are filtered away)"
   ]
  },
  {
   "cell_type": "code",
   "execution_count": 65,
   "metadata": {},
   "outputs": [
    {
     "name": "stderr",
     "output_type": "stream",
     "text": [
      "100%|██████████| 498/498 [00:06<00:00, 79.04it/s] \n"
     ]
    }
   ],
   "source": [
    "data_filt = data_filt[[\"page_id\", \"page_name\", \"party\", \"top_label\", \"ad_creation_time\"]]\n",
    "\n",
    "data_filt[\"top_label_int\"] = (\n",
    "    pd.factorize(data_filt[\"top_label\"], sort=True)[0] + 1\n",
    ")  # convert Categories to float starting from 1.0 alphabetically\n",
    "\n",
    "data_filt[\"lat\"] = 0.0\n",
    "\n",
    "tdf = skmob.TrajDataFrame(\n",
    "    data_filt,\n",
    "    latitude=\"lat\",\n",
    "    longitude=\"top_label_int\",\n",
    "    datetime=\"ad_creation_time\",\n",
    "    user_id=\"page_id\",\n",
    ")\n",
    "ue_df_2 = uncorrelated_entropy(tdf, normalize=False)"
   ]
  },
  {
   "cell_type": "code",
   "execution_count": 63,
   "metadata": {},
   "outputs": [],
   "source": [
    "data = pd.read_csv(\n",
    "    \"/Users/sofiepalmuskronborg/Desktop/minus_cfa_batch_done.csv\",\n",
    "    names=[\"uid\", \"minus_cfa real entropy\"],\n",
    "    header=None,\n",
    ")"
   ]
  },
  {
   "cell_type": "code",
   "execution_count": 62,
   "metadata": {},
   "outputs": [],
   "source": [
    "data_filt = pd.read_csv(\n",
    "    \"/Users/sofiepalmuskronborg/Library/CloudStorage/OneDrive-ITU/ITU/minus_cfa.csv\",index_col=0,\n",
    ")"
   ]
  },
  {
   "cell_type": "code",
   "execution_count": 66,
   "metadata": {},
   "outputs": [],
   "source": [
    "data_filt = data_filt.drop_duplicates(subset=[\"page_id\"])"
   ]
  },
  {
   "cell_type": "code",
   "execution_count": 67,
   "metadata": {},
   "outputs": [],
   "source": [
    "data_un = pd.merge(\n",
    "    data_filt, ue_df_2, left_on=\"page_id\", right_on=\"uid\", how=\"left\"\n",
    ")  # mapping uncorrealted values back to dataframe with 518 politicians\n",
    "data_un = data_un.drop(\"uid\", axis=1)"
   ]
  },
  {
   "cell_type": "code",
   "execution_count": 69,
   "metadata": {},
   "outputs": [],
   "source": [
    "data_done = pd.merge(\n",
    "    data_un, data, left_on=\"page_id\", right_on=\"uid\", how=\"left\"\n",
    ")  # mapping uncorrealted values back to dataframe with 518 politicians\n",
    "data_done = data_done.drop(\"uid\", axis=1)"
   ]
  },
  {
   "cell_type": "code",
   "execution_count": 30,
   "metadata": {},
   "outputs": [
    {
     "data": {
      "image/png": "[encoded data removed]",
      "text/plain": [
       "<Figure size 1200x400 with 2 Axes>"
      ]
     },
     "metadata": {},
     "output_type": "display_data"
    }
   ],
   "source": [
    "import numpy as np\n",
    "import matplotlib.pyplot as plt\n",
    "\n",
    "# Calculate and normalize values for uncorrelated entropy\n",
    "values_uncor, bins = np.histogram(\n",
    "    data_done[\"uncorrelated_entropy\"], bins=np.linspace(0, 3.6, 19)\n",
    ")\n",
    "values_uncor = values_uncor / sum(values_uncor)\n",
    "\n",
    "# Calculate and normalize values for real entropy\n",
    "values_real, bins = np.histogram(\n",
    "    data_done[\"minus_cfa real entropy\"], bins= bins)\n",
    "\n",
    "values_real = values_real / sum(values_real)\n",
    "\n",
    "fig, axes = plt.subplots(nrows=1, ncols=2, figsize=(12, 4))\n",
    "\n",
    "axes[0].bar(\n",
    "    bins[:-1],\n",
    "    values_uncor,\n",
    "    align=\"edge\",\n",
    "    width=bins[1] - bins[0],\n",
    "    color=\"lightgrey\",\n",
    "    edgecolor=\"black\",\n",
    ")\n",
    "axes[0].set_title(\"uncorrelated entropy - minus CFA\")\n",
    "axes[0].set_ylabel(\"probability density\")\n",
    "axes[0].set_xlabel(\"uncorrelated entropy\")\n",
    "\n",
    "axes[1].bar(\n",
    "    bins[:-1],\n",
    "    values_real,\n",
    "    align=\"edge\",\n",
    "    width=bins[1] - bins[0],\n",
    "    color=\"lightgrey\",\n",
    "    edgecolor=\"black\",\n",
    ")\n",
    "axes[1].set_title(\"real entropy - minus CFA\")\n",
    "axes[1].set_ylabel(\"probability density\")\n",
    "axes[1].set_xlabel(\"real entropy\")\n",
    "axes[1].set_ylim(0, 0.14)\n",
    "\n",
    "plt.tight_layout()\n",
    "plt.show()"
   ]
  },
  {
   "cell_type": "markdown",
   "metadata": {},
   "source": [
    "## correlated plots"
   ]
  },
  {
   "cell_type": "code",
   "execution_count": 50,
   "metadata": {},
   "outputs": [],
   "source": [
    "df1 = data_done[data_done[\"party\"] == \"Democrat\"]\n",
    "df2 = data_done[data_done[\"party\"] == \"Republican\"]\n",
    "\n",
    "# normalize values for uncor + real entropy for Democrat\n",
    "values_uncor_d, bins = np.histogram(\n",
    "    df1[\"uncorrelated_entropy\"], bins=np.linspace(0, 3.6, 19)\n",
    ")\n",
    "values_uncor_d = values_uncor_d / sum(values_uncor_d)\n",
    "\n",
    "values_real_d, bins = np.histogram(\n",
    "    df1[\"minus_cfa real entropy\"], bins=np.linspace(0, 3.6, 19)\n",
    ")\n",
    "values_real_d = values_real_d / sum(values_real_d)\n",
    "\n",
    "# normalize values for uncor + real entropy for Republican\n",
    "values_uncor_r, bins = np.histogram(df2[\"uncorrelated_entropy\"], bins=bins)\n",
    "values_uncor_r = values_uncor_r / sum(values_uncor_r)\n",
    "\n",
    "values_real_r, bins = np.histogram(df2[\"minus_cfa real entropy\"], bins=bins)\n",
    "values_real_r = values_real_r / sum(values_real_r)"
   ]
  },
  {
   "cell_type": "code",
   "execution_count": 51,
   "metadata": {},
   "outputs": [],
   "source": [
    "# ensure the line starts at 0 + ends at 0\n",
    "\n",
    "# uncor\n",
    "values_uncor_d = np.insert(values_uncor_d, 0, 0)\n",
    "values_uncor_d = np.append(values_uncor_d, 0)\n",
    "\n",
    "values_uncor_r = np.insert(values_uncor_r, 0, 0)\n",
    "values_uncor_r = np.append(values_uncor_r, 0)\n",
    "\n",
    "# real\n",
    "values_real_d = np.insert(values_real_d, 0, 0)\n",
    "values_real_d = np.append(values_real_d, 0)\n",
    "\n",
    "values_real_r = np.insert(values_real_r, 0, 0)\n",
    "values_real_r = np.append(values_real_r, 0)"
   ]
  },
  {
   "cell_type": "code",
   "execution_count": 49,
   "metadata": {},
   "outputs": [
    {
     "data": {
      "image/png": "[encoded data removed]",
      "text/plain": [
       "<Figure size 640x480 with 1 Axes>"
      ]
     },
     "metadata": {},
     "output_type": "display_data"
    }
   ],
   "source": [
    "bins = np.append(bins, bins[-1] + (bins[1] - bins[0]))\n",
    "\n",
    "plt.step(\n",
    "    bins[:-1],\n",
    "    values_uncor_d[:-1],\n",
    "    label=\"Democrat\",\n",
    "    color=\"blue\",\n",
    ")\n",
    "\n",
    "plt.step(\n",
    "    bins[:-1],\n",
    "    values_uncor_r[:-1],\n",
    "    label=\"Republican\",\n",
    "    color=\"red\",\n",
    ")\n",
    "\n",
    "plt.title(\"Uncorrelated entropy (without 'Call for Action')\", fontsize=16)\n",
    "plt.ylabel(\"probability density\")\n",
    "plt.xlabel(\"uncorrelated entropy\")\n",
    "plt.legend()\n",
    "plt.ylim(0, 0.19)\n",
    "plt.ylim(0, 0.19)\n",
    "plt.gca().yaxis.set_major_formatter(ticker.FormatStrFormatter(\"%.2f\"))\n",
    "\n",
    "\n",
    "plt.tight_layout()"
   ]
  },
  {
   "cell_type": "code",
   "execution_count": 52,
   "metadata": {},
   "outputs": [
    {
     "data": {
      "image/png": "[encoded data removed]",
      "text/plain": [
       "<Figure size 640x480 with 1 Axes>"
      ]
     },
     "metadata": {},
     "output_type": "display_data"
    }
   ],
   "source": [
    "bins = np.append(bins, bins[-1] + (bins[1] - bins[0]))\n",
    "\n",
    "plt.step(\n",
    "    bins[:-1],\n",
    "    values_real_d[:-1],\n",
    "    label=\"Democrat\",\n",
    "    color=\"blue\",\n",
    ")\n",
    "\n",
    "plt.step(\n",
    "    bins[:-1],\n",
    "    values_real_r[:-1],\n",
    "    label=\"Republican\",\n",
    "    color=\"red\",\n",
    ")\n",
    "\n",
    "plt.title(\"Real entropy (without 'Call for Action')\", fontsize=16)\n",
    "plt.ylabel(\"probability density\")\n",
    "plt.xlabel(\"real entropy\")\n",
    "plt.legend()\n",
    "plt.ylim(0, 0.19)\n",
    "plt.ylim(0, 0.19)\n",
    "\n",
    "plt.gca().yaxis.set_major_formatter(ticker.FormatStrFormatter(\"%.2f\"))\n",
    "\n",
    "\n",
    "plt.tight_layout()"
   ]
  },
  {
   "cell_type": "markdown",
   "metadata": {},
   "source": [
    "## Kolmogorov-Smirnov test"
   ]
  },
  {
   "cell_type": "code",
   "execution_count": null,
   "metadata": {},
   "outputs": [],
   "source": [
    "## https://www.geeksforgeeks.org/kolmogorov-smirnov-test-ks-test/"
   ]
  },
  {
   "cell_type": "code",
   "execution_count": 2,
   "metadata": {},
   "outputs": [],
   "source": [
    "import pandas as pd\n",
    "from scipy.stats import ks_2samp"
   ]
  },
  {
   "cell_type": "code",
   "execution_count": 41,
   "metadata": {},
   "outputs": [],
   "source": [
    "ks = pd.read_csv('cola_entropy.csv')"
   ]
  },
  {
   "cell_type": "code",
   "execution_count": 44,
   "metadata": {},
   "outputs": [],
   "source": [
    "#filter away bernie + alex for stats sake\n",
    "id = [124955570892789, 1316372698453411]\n",
    "ks = ks[~ks[\"page_id\"].isin(id)]"
   ]
  },
  {
   "cell_type": "code",
   "execution_count": 91,
   "metadata": {},
   "outputs": [],
   "source": [
    "ks_d = ks[ks[\"party\"] == \"Democrat\"]\n",
    "ks_r = ks[ks[\"party\"] == \"Republican\"]"
   ]
  },
  {
   "cell_type": "code",
   "execution_count": 46,
   "metadata": {},
   "outputs": [
    {
     "name": "stdout",
     "output_type": "stream",
     "text": [
      "Comparing uncorrelated entropy across the two parties\n",
      "Kolmogorov–Smirnov Statistic: 0.1597709613910639\n",
      "P-value: 0.0023502998096288875\n",
      "Reject the null hypothesis. The two samples come from different distributions.\n"
     ]
    }
   ],
   "source": [
    "## Kolmogorov-Smirnow test uncor entropy\n",
    "sample_d_uncor = ks_d[\"uncor entropy\"]\n",
    "sample_r_uncor = ks_r[\"uncor entropy\"]\n",
    "\n",
    "ks_statistic, p_value = ks_2samp(sample_d_uncor, sample_r_uncor)\n",
    "\n",
    "print(f\"Comparing uncorrelated entropy across the two parties\")\n",
    "print(f\"Kolmogorov–Smirnov Statistic: {ks_statistic}\")\n",
    "print(f\"P-value: {p_value}\")\n",
    "\n",
    "alpha = 0.05\n",
    "if p_value < alpha:\n",
    "    print(\n",
    "        \"Reject the null hypothesis. The two samples come from different distributions.\"\n",
    "    )\n",
    "else:\n",
    "    print(\n",
    "        \"Fail to reject the null hypothesis. There is not enough evidence to suggest different distributions.\"\n",
    "    )"
   ]
  },
  {
   "cell_type": "code",
   "execution_count": 48,
   "metadata": {},
   "outputs": [
    {
     "name": "stdout",
     "output_type": "stream",
     "text": [
      "Comparing real entropy across the two parties\n",
      "Kolmogorov–Smirnov Statistic: 0.2512812035047115\n",
      "P-value: 1.163138154378667e-07\n",
      "Reject the null hypothesis. The two samples come from different distributions.\n"
     ]
    }
   ],
   "source": [
    "## Kolmogorov-Smirnow test real entropy\n",
    "sample_d_real = ks_d[\"real entropy\"]\n",
    "sample_r_real = ks_r[\"real entropy\"]\n",
    "ks_statistic, p_value = ks_2samp(sample_d_real, sample_r_real)\n",
    "\n",
    "print(f\"Comparing real entropy across the two parties\")\n",
    "print(f\"Kolmogorov–Smirnov Statistic: {ks_statistic}\")\n",
    "print(f\"P-value: {p_value}\")\n",
    "\n",
    "alpha = 0.05\n",
    "if p_value < alpha:\n",
    "    print(\n",
    "        \"Reject the null hypothesis. The two samples come from different distributions.\"\n",
    "    )\n",
    "else:\n",
    "    print(\n",
    "        \"Fail to reject the null hypothesis. There is not enough evidence to suggest different distributions.\"\n",
    "    )"
   ]
  },
  {
   "cell_type": "code",
   "execution_count": 86,
   "metadata": {},
   "outputs": [
    {
     "name": "stdout",
     "output_type": "stream",
     "text": [
      "Comparing uncor entropy >=2\n",
      "Kolmogorov–Smirnov Statistic: 0.24104637480010863\n",
      "P-value: 4.549145298767737e-07\n",
      "Reject the null hypothesis. The two samples come from different distributions.\n"
     ]
    }
   ],
   "source": [
    "## Kolmogorov-Smirnow uncor entropy >=2\n",
    "\n",
    "# filtering away Steven Cohen from dataset, because he has no rows after setting th and has a nan value\n",
    "id = [6358769182]\n",
    "ks_d = ks_d[~ks_d[\"page_id\"].isin(id)]\n",
    "\n",
    "sample1 = ks_d[\"real entropy >=2\"]\n",
    "sample2 = ks_r[\"real entropy >=2\"]\n",
    "ks_statistic, p_value = ks_2samp(sample1, sample2)\n",
    "\n",
    "print(f\"Comparing uncor entropy >=2\")\n",
    "print(f\"Kolmogorov–Smirnov Statistic: {ks_statistic}\")\n",
    "print(f\"P-value: {p_value}\")\n",
    "\n",
    "alpha = 0.05\n",
    "if p_value < alpha:\n",
    "    print(\n",
    "        \"Reject the null hypothesis. The two samples come from different distributions.\"\n",
    "    )\n",
    "else:\n",
    "    print(\n",
    "        \"Fail to reject the null hypothesis. There is not enough evidence to suggest different distributions.\"\n",
    "    )"
   ]
  },
  {
   "cell_type": "code",
   "execution_count": 87,
   "metadata": {},
   "outputs": [
    {
     "name": "stdout",
     "output_type": "stream",
     "text": [
      "Comparing uncor entropy >=2\n",
      "Kolmogorov–Smirnov Statistic: 0.15846483420330085\n",
      "P-value: 0.0026475372761390597\n",
      "Reject the null hypothesis. The two samples come from different distributions.\n"
     ]
    }
   ],
   "source": [
    "## Kolmogorov-Smirnow real entropy >=2\n",
    "\n",
    "sample1 = ks_d[\"uncor entropy >=2\"]\n",
    "sample2 = ks_r[\"uncor entropy >=2\"]\n",
    "ks_statistic, p_value = ks_2samp(sample1, sample2)\n",
    "\n",
    "print(f\"Comparing uncor entropy >=2\")\n",
    "print(f\"Kolmogorov–Smirnov Statistic: {ks_statistic}\")\n",
    "print(f\"P-value: {p_value}\")\n",
    "\n",
    "alpha = 0.05\n",
    "if p_value < alpha:\n",
    "    print(\n",
    "        \"Reject the null hypothesis. The two samples come from different distributions.\"\n",
    "    )\n",
    "else:\n",
    "    print(\n",
    "        \"Fail to reject the null hypothesis. There is not enough evidence to suggest different distributions.\"\n",
    "    )"
   ]
  },
  {
   "cell_type": "code",
   "execution_count": 88,
   "metadata": {},
   "outputs": [
    {
     "name": "stdout",
     "output_type": "stream",
     "text": [
      "Comparing uncor entropy >=4\n",
      "Kolmogorov–Smirnov Statistic: 0.16566703017084697\n",
      "P-value: 0.0014573374611393107\n",
      "Reject the null hypothesis. The two samples come from different distributions.\n"
     ]
    }
   ],
   "source": [
    "## Kolmogorov-Smirnow uncor entropy >=4\n",
    "\n",
    "# filtering away Shelby Labs from dataset, because he has no rows after setting th and has a nan value\n",
    "id = [108358104117725]\n",
    "ks_r = ks_r[~ks_r[\"page_id\"].isin(id)]\n",
    "\n",
    "sample1 = ks_d[\"uncor entropy >=4\"]\n",
    "sample2 = ks_r[\"uncor entropy >=4\"]\n",
    "ks_statistic, p_value = ks_2samp(sample1, sample2)\n",
    "\n",
    "print(f\"Comparing uncor entropy >=4\")\n",
    "print(f\"Kolmogorov–Smirnov Statistic: {ks_statistic}\")\n",
    "print(f\"P-value: {p_value}\")\n",
    "\n",
    "alpha = 0.05\n",
    "if p_value < alpha:\n",
    "    print(\n",
    "        \"Reject the null hypothesis. The two samples come from different distributions.\"\n",
    "    )\n",
    "else:\n",
    "    print(\n",
    "        \"Fail to reject the null hypothesis. There is not enough evidence to suggest different distributions.\"\n",
    "    )"
   ]
  },
  {
   "cell_type": "code",
   "execution_count": 90,
   "metadata": {},
   "outputs": [
    {
     "name": "stdout",
     "output_type": "stream",
     "text": [
      "Comparing real entropy >=4\n",
      "Kolmogorov–Smirnov Statistic: 0.2324912153156428\n",
      "P-value: 1.3592746595000357e-06\n",
      "Reject the null hypothesis. The two samples come from different distributions.\n"
     ]
    }
   ],
   "source": [
    "## Kolmogorov-Smirnow real entropy >=4\n",
    "\n",
    "sample1 = ks_d[\"real_entropy >=4\"]\n",
    "sample2 = ks_r[\"real_entropy >=4\"]\n",
    "ks_statistic, p_value = ks_2samp(sample1, sample2)\n",
    "\n",
    "print(f\"Comparing real entropy >=4\")\n",
    "print(f\"Kolmogorov–Smirnov Statistic: {ks_statistic}\")\n",
    "print(f\"P-value: {p_value}\")\n",
    "\n",
    "alpha = 0.05\n",
    "if p_value < alpha:\n",
    "    print(\n",
    "        \"Reject the null hypothesis. The two samples come from different distributions.\"\n",
    "    )\n",
    "else:\n",
    "    print(\n",
    "        \"Fail to reject the null hypothesis. There is not enough evidence to suggest different distributions.\"\n",
    "    )"
   ]
  },
  {
   "cell_type": "markdown",
   "metadata": {},
   "source": [
    "## sammenligner med minus CFA"
   ]
  },
  {
   "cell_type": "code",
   "execution_count": 95,
   "metadata": {},
   "outputs": [],
   "source": [
    "df1 = data_done[data_done[\"party\"] == \"Democrat\"]\n",
    "df2 = data_done[data_done[\"party\"] == \"Republican\"]"
   ]
  },
  {
   "cell_type": "code",
   "execution_count": 101,
   "metadata": {},
   "outputs": [
    {
     "name": "stdout",
     "output_type": "stream",
     "text": [
      "Comparing uncorrelated entropy for DEMOCRATS with original dataset vs minus call for action\n",
      "Kolmogorov–Smirnov Statistic: 0.316551376609098\n",
      "P-value: 7.408934218078916e-12\n",
      "Reject the null hypothesis. The two samples come from different distributions.\n"
     ]
    }
   ],
   "source": [
    "sample1 = ks_d[\"uncor entropy\"]\n",
    "sample2 = df1[\"uncorrelated_entropy\"] # where there is no\n",
    "ks_statistic, p_value = ks_2samp(sample1, sample2)\n",
    "\n",
    "print(f\"Comparing uncorrelated entropy for DEMOCRATS with original dataset vs minus call for action\")\n",
    "print(f\"Kolmogorov–Smirnov Statistic: {ks_statistic}\")\n",
    "print(f\"P-value: {p_value}\")\n",
    "\n",
    "alpha = 0.05\n",
    "if p_value < alpha:\n",
    "    print(\n",
    "        \"Reject the null hypothesis. The two samples come from different distributions.\"\n",
    "    )\n",
    "else:\n",
    "    print(\n",
    "        \"Fail to reject the null hypothesis. There is not enough evidence to suggest different distributions.\"\n",
    "    )"
   ]
  },
  {
   "cell_type": "code",
   "execution_count": 102,
   "metadata": {},
   "outputs": [
    {
     "name": "stdout",
     "output_type": "stream",
     "text": [
      "Comparing uncorrelated entropy for REPUBLICANS with original dataset vs minus call for action\n",
      "Kolmogorov–Smirnov Statistic: 0.33669857294791816\n",
      "P-value: 3.817094528289899e-13\n",
      "Reject the null hypothesis. The two samples come from different distributions.\n"
     ]
    }
   ],
   "source": [
    "sample1 = ks_r[\"uncor entropy\"]\n",
    "sample2 = df2[\"uncorrelated_entropy\"]\n",
    "ks_statistic, p_value = ks_2samp(sample1, sample2)\n",
    "\n",
    "print(f\"Comparing uncorrelated entropy for REPUBLICANS with original dataset vs minus call for action\")\n",
    "print(f\"Kolmogorov–Smirnov Statistic: {ks_statistic}\")\n",
    "print(f\"P-value: {p_value}\")\n",
    "\n",
    "alpha = 0.05\n",
    "if p_value < alpha:\n",
    "    print(\n",
    "        \"Reject the null hypothesis. The two samples come from different distributions.\"\n",
    "    )\n",
    "else:\n",
    "    print(\n",
    "        \"Fail to reject the null hypothesis. There is not enough evidence to suggest different distributions.\"\n",
    "    )"
   ]
  },
  {
   "cell_type": "code",
   "execution_count": 103,
   "metadata": {},
   "outputs": [
    {
     "name": "stdout",
     "output_type": "stream",
     "text": [
      "Comparing real entropy for DEMOCRATS with original dataset vs minus call for action\n",
      "Kolmogorov–Smirnov Statistic: 0.21236275902087437\n",
      "P-value: 1.5040526371612142e-05\n",
      "Reject the null hypothesis. The two samples come from different distributions.\n"
     ]
    }
   ],
   "source": [
    "sample1 = ks_d[\"real entropy\"]\n",
    "sample2 = df1[\"minus_cfa real entropy\"]\n",
    "ks_statistic, p_value = ks_2samp(sample1, sample2)\n",
    "\n",
    "print(\n",
    "    f\"Comparing real entropy for DEMOCRATS with original dataset vs minus call for action\"\n",
    ")\n",
    "print(f\"Kolmogorov–Smirnov Statistic: {ks_statistic}\")\n",
    "print(f\"P-value: {p_value}\")\n",
    "\n",
    "alpha = 0.05\n",
    "if p_value < alpha:\n",
    "    print(\n",
    "        \"Reject the null hypothesis. The two samples come from different distributions.\"\n",
    "    )\n",
    "else:\n",
    "    print(\n",
    "        \"Fail to reject the null hypothesis. There is not enough evidence to suggest different distributions.\"\n",
    "    )"
   ]
  },
  {
   "cell_type": "code",
   "execution_count": 104,
   "metadata": {},
   "outputs": [
    {
     "name": "stdout",
     "output_type": "stream",
     "text": [
      "Comparing real entropy for REPUBLICANS with original dataset vs minus call for action\n",
      "Kolmogorov–Smirnov Statistic: 0.27574328936298553\n",
      "P-value: 6.285264524526123e-09\n",
      "Reject the null hypothesis. The two samples come from different distributions.\n"
     ]
    }
   ],
   "source": [
    "sample1 = ks_r[\"real entropy\"]\n",
    "sample2 = df2[\"minus_cfa real entropy\"]\n",
    "ks_statistic, p_value = ks_2samp(sample1, sample2)\n",
    "\n",
    "print(\n",
    "    f\"Comparing real entropy for REPUBLICANS with original dataset vs minus call for action\"\n",
    ")\n",
    "print(f\"Kolmogorov–Smirnov Statistic: {ks_statistic}\")\n",
    "print(f\"P-value: {p_value}\")\n",
    "\n",
    "alpha = 0.05\n",
    "if p_value < alpha:\n",
    "    print(\n",
    "        \"Reject the null hypothesis. The two samples come from different distributions.\"\n",
    "    )\n",
    "else:\n",
    "    print(\n",
    "        \"Fail to reject the null hypothesis. There is not enough evidence to suggest different distributions.\"\n",
    "    )"
   ]
  }
 ],
 "metadata": {
  "kernelspec": {
   "display_name": "skmob",
   "language": "python",
   "name": "python3"
  },
  "language_info": {
   "codemirror_mode": {
    "name": "ipython",
    "version": 3
   },
   "file_extension": ".py",
   "mimetype": "text/x-python",
   "name": "python",
   "nbconvert_exporter": "python",
   "pygments_lexer": "ipython3",
   "version": "3.9.20"
  }
 },
 "nbformat": 4,
 "nbformat_minor": 2
}
