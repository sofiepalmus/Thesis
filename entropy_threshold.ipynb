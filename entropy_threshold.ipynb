{
 "cells": [
  {
   "cell_type": "code",
   "execution_count": 1,
   "metadata": {},
   "outputs": [],
   "source": [
    "import matplotlib.pyplot as plt\n",
    "from scipy.stats import entropy\n",
    "import skmob\n",
    "from skmob.measures.individual import real_entropy, uncorrelated_entropy\n",
    "import pandas as pd\n",
    "import numpy as np\n",
    "import seaborn as sns\n",
    "import matplotlib.pyplot as plt"
   ]
  },
  {
   "cell_type": "code",
   "execution_count": 48,
   "metadata": {},
   "outputs": [
    {
     "name": "stderr",
     "output_type": "stream",
     "text": [
      "/var/folders/cr/2b4bjd0d6cscnr8h_66vmrqm0000gn/T/ipykernel_25510/2226897674.py:4: DtypeWarning: Columns (19) have mixed types. Specify dtype option on import or set low_memory=False.\n",
      "  data_entr = pd.read_csv(\n"
     ]
    }
   ],
   "source": [
    "data = pd.read_csv(\n",
    "    \"/Users/sofiepalmuskronborg/Desktop/Thesis/csv files/mandagsmagi.csv\"\n",
    ")\n",
    "data_entr = pd.read_csv(\n",
    "    \"/Users/sofiepalmuskronborg/Library/CloudStorage/OneDrive-ITU/ITU/Thesis/Data/Data_med_entropy.csv\",\n",
    "    index_col=0,\n",
    ")"
   ]
  },
  {
   "cell_type": "code",
   "execution_count": 49,
   "metadata": {},
   "outputs": [],
   "source": [
    "data1 = data.drop_duplicates(subset=[\"ad_creative_body\", \"page_id\"])"
   ]
  },
  {
   "cell_type": "code",
   "execution_count": 50,
   "metadata": {},
   "outputs": [
    {
     "name": "stdout",
     "output_type": "stream",
     "text": [
      "<class 'pandas.core.frame.DataFrame'>\n",
      "Index: 58574 entries, 0 to 459727\n",
      "Data columns (total 22 columns):\n",
      " #   Column                    Non-Null Count  Dtype  \n",
      "---  ------                    --------------  -----  \n",
      " 0   Unnamed: 0.1              58574 non-null  int64  \n",
      " 1   Unnamed: 0                58574 non-null  int64  \n",
      " 2   ad_creation_time          58574 non-null  object \n",
      " 3   ad_creative_body          58574 non-null  object \n",
      " 4   spend                     58574 non-null  float64\n",
      " 5   impressions               58574 non-null  float64\n",
      " 6   delivery_by_region        58574 non-null  object \n",
      " 7   demographic_distribution  58574 non-null  object \n",
      " 8   page_id                   58574 non-null  int64  \n",
      " 9   page_name                 58574 non-null  object \n",
      " 10  bylines                   58339 non-null  object \n",
      " 11  id                        58574 non-null  int64  \n",
      " 12  spend_lo                  58574 non-null  int64  \n",
      " 13  spend_hi                  58574 non-null  int64  \n",
      " 14  impressions_lo            58574 non-null  int64  \n",
      " 15  impressions_hi            58574 non-null  int64  \n",
      " 16  party                     58574 non-null  object \n",
      " 17  state                     58574 non-null  object \n",
      " 18  labels                    58574 non-null  object \n",
      " 19  scores                    58574 non-null  object \n",
      " 20  top_label                 58574 non-null  object \n",
      " 21  top_score                 58574 non-null  float64\n",
      "dtypes: float64(3), int64(8), object(11)\n",
      "memory usage: 10.3+ MB\n"
     ]
    }
   ],
   "source": [
    "data1.info()"
   ]
  },
  {
   "cell_type": "code",
   "execution_count": 21,
   "metadata": {},
   "outputs": [
    {
     "data": {
      "text/html": [
       "<div>\n",
       "<style scoped>\n",
       "    .dataframe tbody tr th:only-of-type {\n",
       "        vertical-align: middle;\n",
       "    }\n",
       "\n",
       "    .dataframe tbody tr th {\n",
       "        vertical-align: top;\n",
       "    }\n",
       "\n",
       "    .dataframe thead th {\n",
       "        text-align: right;\n",
       "    }\n",
       "</style>\n",
       "<table border=\"1\" class=\"dataframe\">\n",
       "  <thead>\n",
       "    <tr style=\"text-align: right;\">\n",
       "      <th></th>\n",
       "      <th>ad_creative_body</th>\n",
       "      <th>spend</th>\n",
       "      <th>impressions</th>\n",
       "      <th>delivery_by_region</th>\n",
       "      <th>demographic_distribution</th>\n",
       "      <th>page_id</th>\n",
       "      <th>page_name</th>\n",
       "      <th>bylines</th>\n",
       "      <th>id</th>\n",
       "      <th>spend_lo</th>\n",
       "      <th>...</th>\n",
       "      <th>impressions_lo</th>\n",
       "      <th>impressions_hi</th>\n",
       "      <th>party</th>\n",
       "      <th>state</th>\n",
       "      <th>labels</th>\n",
       "      <th>scores</th>\n",
       "      <th>top_label</th>\n",
       "      <th>top_score</th>\n",
       "      <th>uncorrelated_entropy</th>\n",
       "      <th>real_entropy</th>\n",
       "    </tr>\n",
       "    <tr>\n",
       "      <th>ad_creation_time</th>\n",
       "      <th></th>\n",
       "      <th></th>\n",
       "      <th></th>\n",
       "      <th></th>\n",
       "      <th></th>\n",
       "      <th></th>\n",
       "      <th></th>\n",
       "      <th></th>\n",
       "      <th></th>\n",
       "      <th></th>\n",
       "      <th></th>\n",
       "      <th></th>\n",
       "      <th></th>\n",
       "      <th></th>\n",
       "      <th></th>\n",
       "      <th></th>\n",
       "      <th></th>\n",
       "      <th></th>\n",
       "      <th></th>\n",
       "      <th></th>\n",
       "      <th></th>\n",
       "    </tr>\n",
       "  </thead>\n",
       "  <tbody>\n",
       "    <tr>\n",
       "      <th>2020-02-12</th>\n",
       "      <td>Every kid in America should have the same acce...</td>\n",
       "      <td>49.5</td>\n",
       "      <td>499.5</td>\n",
       "      <td>[{'percentage': '0.001175', 'region': 'Alabama...</td>\n",
       "      <td>[{'percentage': '0.003529', 'age': '25-34', 'g...</td>\n",
       "      <td>38471053686</td>\n",
       "      <td>Elizabeth Warren</td>\n",
       "      <td>WARREN FOR PRESIDENT, INC.</td>\n",
       "      <td>488348208497291</td>\n",
       "      <td>0</td>\n",
       "      <td>...</td>\n",
       "      <td>0</td>\n",
       "      <td>999</td>\n",
       "      <td>Democrat</td>\n",
       "      <td>MA</td>\n",
       "      <td>['Education and Culture', 'Call for Action', '...</td>\n",
       "      <td>[0.521308422088623, 0.4189971387386322, 0.0142...</td>\n",
       "      <td>Education and Culture</td>\n",
       "      <td>0.521308422088623</td>\n",
       "      <td>1.595782</td>\n",
       "      <td>0.382612</td>\n",
       "    </tr>\n",
       "    <tr>\n",
       "      <th>2020-02-12</th>\n",
       "      <td>Every kid in America should have the same acce...</td>\n",
       "      <td>49.5</td>\n",
       "      <td>499.5</td>\n",
       "      <td>[{'percentage': '0.026738', 'region': 'Colorad...</td>\n",
       "      <td>[{'percentage': '0.002674', 'age': '25-34', 'g...</td>\n",
       "      <td>38471053686</td>\n",
       "      <td>Elizabeth Warren</td>\n",
       "      <td>WARREN FOR PRESIDENT, INC.</td>\n",
       "      <td>494013894629856</td>\n",
       "      <td>0</td>\n",
       "      <td>...</td>\n",
       "      <td>0</td>\n",
       "      <td>999</td>\n",
       "      <td>Democrat</td>\n",
       "      <td>MA</td>\n",
       "      <td>['Education and Culture', 'Call for Action', '...</td>\n",
       "      <td>[0.521308422088623, 0.4189971387386322, 0.0142...</td>\n",
       "      <td>Education and Culture</td>\n",
       "      <td>0.521308422088623</td>\n",
       "      <td>1.595782</td>\n",
       "      <td>0.382612</td>\n",
       "    </tr>\n",
       "    <tr>\n",
       "      <th>2020-02-12</th>\n",
       "      <td>Every kid in America should have the same acce...</td>\n",
       "      <td>49.5</td>\n",
       "      <td>1499.5</td>\n",
       "      <td>[{'percentage': '0.010661', 'region': 'Alabama...</td>\n",
       "      <td>[{'percentage': '0.001067', 'age': '35-44', 'g...</td>\n",
       "      <td>38471053686</td>\n",
       "      <td>Elizabeth Warren</td>\n",
       "      <td>WARREN FOR PRESIDENT, INC.</td>\n",
       "      <td>469970110548642</td>\n",
       "      <td>0</td>\n",
       "      <td>...</td>\n",
       "      <td>1000</td>\n",
       "      <td>1999</td>\n",
       "      <td>Democrat</td>\n",
       "      <td>MA</td>\n",
       "      <td>['Education and Culture', 'Call for Action', '...</td>\n",
       "      <td>[0.521308422088623, 0.4189971387386322, 0.0142...</td>\n",
       "      <td>Education and Culture</td>\n",
       "      <td>0.521308422088623</td>\n",
       "      <td>1.595782</td>\n",
       "      <td>0.382612</td>\n",
       "    </tr>\n",
       "    <tr>\n",
       "      <th>2020-02-12</th>\n",
       "      <td>Every kid in America should have the same acce...</td>\n",
       "      <td>49.5</td>\n",
       "      <td>499.5</td>\n",
       "      <td>[{'percentage': '0.004944', 'region': 'Alabama...</td>\n",
       "      <td>[{'percentage': '0.003708', 'age': '35-44', 'g...</td>\n",
       "      <td>38471053686</td>\n",
       "      <td>Elizabeth Warren</td>\n",
       "      <td>WARREN FOR PRESIDENT, INC.</td>\n",
       "      <td>271731930474720</td>\n",
       "      <td>0</td>\n",
       "      <td>...</td>\n",
       "      <td>0</td>\n",
       "      <td>999</td>\n",
       "      <td>Democrat</td>\n",
       "      <td>MA</td>\n",
       "      <td>['Education and Culture', 'Call for Action', '...</td>\n",
       "      <td>[0.521308422088623, 0.4189971387386322, 0.0142...</td>\n",
       "      <td>Education and Culture</td>\n",
       "      <td>0.521308422088623</td>\n",
       "      <td>1.595782</td>\n",
       "      <td>0.382612</td>\n",
       "    </tr>\n",
       "    <tr>\n",
       "      <th>2020-02-12</th>\n",
       "      <td>Every kid in America should have the same acce...</td>\n",
       "      <td>49.5</td>\n",
       "      <td>499.5</td>\n",
       "      <td>[{'percentage': '0.034682', 'region': 'Arizona...</td>\n",
       "      <td>[{'percentage': '0.138728', 'age': '35-44', 'g...</td>\n",
       "      <td>38471053686</td>\n",
       "      <td>Elizabeth Warren</td>\n",
       "      <td>WARREN FOR PRESIDENT, INC.</td>\n",
       "      <td>595816060977581</td>\n",
       "      <td>0</td>\n",
       "      <td>...</td>\n",
       "      <td>0</td>\n",
       "      <td>999</td>\n",
       "      <td>Democrat</td>\n",
       "      <td>MA</td>\n",
       "      <td>['Education and Culture', 'Call for Action', '...</td>\n",
       "      <td>[0.521308422088623, 0.4189971387386322, 0.0142...</td>\n",
       "      <td>Education and Culture</td>\n",
       "      <td>0.521308422088623</td>\n",
       "      <td>1.595782</td>\n",
       "      <td>0.382612</td>\n",
       "    </tr>\n",
       "  </tbody>\n",
       "</table>\n",
       "<p>5 rows × 21 columns</p>\n",
       "</div>"
      ],
      "text/plain": [
       "                                                   ad_creative_body  spend  \\\n",
       "ad_creation_time                                                             \n",
       "2020-02-12        Every kid in America should have the same acce...   49.5   \n",
       "2020-02-12        Every kid in America should have the same acce...   49.5   \n",
       "2020-02-12        Every kid in America should have the same acce...   49.5   \n",
       "2020-02-12        Every kid in America should have the same acce...   49.5   \n",
       "2020-02-12        Every kid in America should have the same acce...   49.5   \n",
       "\n",
       "                  impressions  \\\n",
       "ad_creation_time                \n",
       "2020-02-12              499.5   \n",
       "2020-02-12              499.5   \n",
       "2020-02-12             1499.5   \n",
       "2020-02-12              499.5   \n",
       "2020-02-12              499.5   \n",
       "\n",
       "                                                 delivery_by_region  \\\n",
       "ad_creation_time                                                      \n",
       "2020-02-12        [{'percentage': '0.001175', 'region': 'Alabama...   \n",
       "2020-02-12        [{'percentage': '0.026738', 'region': 'Colorad...   \n",
       "2020-02-12        [{'percentage': '0.010661', 'region': 'Alabama...   \n",
       "2020-02-12        [{'percentage': '0.004944', 'region': 'Alabama...   \n",
       "2020-02-12        [{'percentage': '0.034682', 'region': 'Arizona...   \n",
       "\n",
       "                                           demographic_distribution  \\\n",
       "ad_creation_time                                                      \n",
       "2020-02-12        [{'percentage': '0.003529', 'age': '25-34', 'g...   \n",
       "2020-02-12        [{'percentage': '0.002674', 'age': '25-34', 'g...   \n",
       "2020-02-12        [{'percentage': '0.001067', 'age': '35-44', 'g...   \n",
       "2020-02-12        [{'percentage': '0.003708', 'age': '35-44', 'g...   \n",
       "2020-02-12        [{'percentage': '0.138728', 'age': '35-44', 'g...   \n",
       "\n",
       "                      page_id         page_name                     bylines  \\\n",
       "ad_creation_time                                                              \n",
       "2020-02-12        38471053686  Elizabeth Warren  WARREN FOR PRESIDENT, INC.   \n",
       "2020-02-12        38471053686  Elizabeth Warren  WARREN FOR PRESIDENT, INC.   \n",
       "2020-02-12        38471053686  Elizabeth Warren  WARREN FOR PRESIDENT, INC.   \n",
       "2020-02-12        38471053686  Elizabeth Warren  WARREN FOR PRESIDENT, INC.   \n",
       "2020-02-12        38471053686  Elizabeth Warren  WARREN FOR PRESIDENT, INC.   \n",
       "\n",
       "                               id  spend_lo  ...  impressions_lo  \\\n",
       "ad_creation_time                             ...                   \n",
       "2020-02-12        488348208497291         0  ...               0   \n",
       "2020-02-12        494013894629856         0  ...               0   \n",
       "2020-02-12        469970110548642         0  ...            1000   \n",
       "2020-02-12        271731930474720         0  ...               0   \n",
       "2020-02-12        595816060977581         0  ...               0   \n",
       "\n",
       "                  impressions_hi     party state  \\\n",
       "ad_creation_time                                   \n",
       "2020-02-12                   999  Democrat    MA   \n",
       "2020-02-12                   999  Democrat    MA   \n",
       "2020-02-12                  1999  Democrat    MA   \n",
       "2020-02-12                   999  Democrat    MA   \n",
       "2020-02-12                   999  Democrat    MA   \n",
       "\n",
       "                                                             labels  \\\n",
       "ad_creation_time                                                      \n",
       "2020-02-12        ['Education and Culture', 'Call for Action', '...   \n",
       "2020-02-12        ['Education and Culture', 'Call for Action', '...   \n",
       "2020-02-12        ['Education and Culture', 'Call for Action', '...   \n",
       "2020-02-12        ['Education and Culture', 'Call for Action', '...   \n",
       "2020-02-12        ['Education and Culture', 'Call for Action', '...   \n",
       "\n",
       "                                                             scores  \\\n",
       "ad_creation_time                                                      \n",
       "2020-02-12        [0.521308422088623, 0.4189971387386322, 0.0142...   \n",
       "2020-02-12        [0.521308422088623, 0.4189971387386322, 0.0142...   \n",
       "2020-02-12        [0.521308422088623, 0.4189971387386322, 0.0142...   \n",
       "2020-02-12        [0.521308422088623, 0.4189971387386322, 0.0142...   \n",
       "2020-02-12        [0.521308422088623, 0.4189971387386322, 0.0142...   \n",
       "\n",
       "                              top_label          top_score  \\\n",
       "ad_creation_time                                             \n",
       "2020-02-12        Education and Culture  0.521308422088623   \n",
       "2020-02-12        Education and Culture  0.521308422088623   \n",
       "2020-02-12        Education and Culture  0.521308422088623   \n",
       "2020-02-12        Education and Culture  0.521308422088623   \n",
       "2020-02-12        Education and Culture  0.521308422088623   \n",
       "\n",
       "                 uncorrelated_entropy  real_entropy  \n",
       "ad_creation_time                                     \n",
       "2020-02-12                   1.595782      0.382612  \n",
       "2020-02-12                   1.595782      0.382612  \n",
       "2020-02-12                   1.595782      0.382612  \n",
       "2020-02-12                   1.595782      0.382612  \n",
       "2020-02-12                   1.595782      0.382612  \n",
       "\n",
       "[5 rows x 21 columns]"
      ]
     },
     "execution_count": 21,
     "metadata": {},
     "output_type": "execute_result"
    }
   ],
   "source": [
    "data_entr.head(5)"
   ]
  },
  {
   "cell_type": "code",
   "execution_count": 3,
   "metadata": {},
   "outputs": [],
   "source": [
    "data = data.drop_duplicates(subset=[\"page_id\"])"
   ]
  },
  {
   "cell_type": "code",
   "execution_count": 33,
   "metadata": {},
   "outputs": [],
   "source": [
    "data_entr = data_entr.drop_duplicates(subset=[\"page_id\"])\n",
    "datak = data_entr.sort_values(by=[\"page_id\", \"ad_creation_time\"])"
   ]
  },
  {
   "cell_type": "markdown",
   "metadata": {},
   "source": [
    "## testing uncor\n",
    "\n"
   ]
  },
  {
   "cell_type": "code",
   "execution_count": 24,
   "metadata": {},
   "outputs": [],
   "source": [
    "data1 = pd.read_csv(\n",
    "    \"/Users/sofiepalmuskronborg/Library/CloudStorage/OneDrive-ITU/ITU/entrop/th_mindre_batch_done.csv\",\n",
    "    names=[\"uid\", \"real2\"],\n",
    "    header=None,\n",
    ")"
   ]
  },
  {
   "cell_type": "code",
   "execution_count": 19,
   "metadata": {},
   "outputs": [],
   "source": [
    "data_un = pd.merge(data, data1, left_on=\"page_id\", right_on=\"uid\", how=\"left\")\n",
    "data_un = data_un.drop_duplicates(subset=[\"page_id\"])  # narrowing down to 518 politicians\n",
    "# mapping uncorrealted values back to dataframe with 518 politicians\n",
    "data_un = data_un.drop(\"uid\", axis=1)\n",
    "# data_un = pd.merge(data_un, re_df, left_on=\"page_id\", right_on=\"uid\", how=\"left\")\n",
    "# data_un = data_un.drop(\"uid\", axis=1)"
   ]
  },
  {
   "cell_type": "code",
   "execution_count": 23,
   "metadata": {},
   "outputs": [
    {
     "data": {
      "text/html": [
       "<div>\n",
       "<style scoped>\n",
       "    .dataframe tbody tr th:only-of-type {\n",
       "        vertical-align: middle;\n",
       "    }\n",
       "\n",
       "    .dataframe tbody tr th {\n",
       "        vertical-align: top;\n",
       "    }\n",
       "\n",
       "    .dataframe thead th {\n",
       "        text-align: right;\n",
       "    }\n",
       "</style>\n",
       "<table border=\"1\" class=\"dataframe\">\n",
       "  <thead>\n",
       "    <tr style=\"text-align: right;\">\n",
       "      <th></th>\n",
       "      <th>Unnamed: 0</th>\n",
       "      <th>ad_creation_time</th>\n",
       "      <th>ad_creative_body</th>\n",
       "      <th>spend</th>\n",
       "      <th>impressions</th>\n",
       "      <th>delivery_by_region</th>\n",
       "      <th>demographic_distribution</th>\n",
       "      <th>page_id</th>\n",
       "      <th>page_name</th>\n",
       "      <th>bylines</th>\n",
       "      <th>...</th>\n",
       "      <th>spend_hi</th>\n",
       "      <th>impressions_lo</th>\n",
       "      <th>impressions_hi</th>\n",
       "      <th>party</th>\n",
       "      <th>state</th>\n",
       "      <th>labels</th>\n",
       "      <th>scores</th>\n",
       "      <th>top_label</th>\n",
       "      <th>top_score</th>\n",
       "      <th>real2</th>\n",
       "    </tr>\n",
       "  </thead>\n",
       "  <tbody>\n",
       "    <tr>\n",
       "      <th>447458</th>\n",
       "      <td>447458</td>\n",
       "      <td>2021-07-22</td>\n",
       "      <td>America is drowning in liberal policies. Repub...</td>\n",
       "      <td>49.5</td>\n",
       "      <td>499.5</td>\n",
       "      <td>[{'percentage': '1', 'region': 'California'}]</td>\n",
       "      <td>[{'percentage': '0.009346', 'age': '18-24', 'g...</td>\n",
       "      <td>9157920604</td>\n",
       "      <td>Ken Calvert</td>\n",
       "      <td>KEN CALVERT FOR CONGRESS COMMITTEE</td>\n",
       "      <td>...</td>\n",
       "      <td>99</td>\n",
       "      <td>0</td>\n",
       "      <td>999</td>\n",
       "      <td>Republican</td>\n",
       "      <td>CA</td>\n",
       "      <td>['Call for Action', 'Defense', 'Other', 'Immig...</td>\n",
       "      <td>[0.9981767535209656, 0.00039640290196985006, 0...</td>\n",
       "      <td>Call for Action</td>\n",
       "      <td>0.998177</td>\n",
       "      <td>0.827208</td>\n",
       "    </tr>\n",
       "    <tr>\n",
       "      <th>447742</th>\n",
       "      <td>447742</td>\n",
       "      <td>2021-10-31</td>\n",
       "      <td>LIVE POLL: BIDEN-HARRIS APPROVAL \\n\\nWe want t...</td>\n",
       "      <td>149.5</td>\n",
       "      <td>7499.5</td>\n",
       "      <td>[{'percentage': '0.024631', 'region': 'Alabama...</td>\n",
       "      <td>[{'percentage': '0.001936', 'age': '55-64', 'g...</td>\n",
       "      <td>1636216106590985</td>\n",
       "      <td>Josh Hawley</td>\n",
       "      <td>NRSC</td>\n",
       "      <td>...</td>\n",
       "      <td>199</td>\n",
       "      <td>7000</td>\n",
       "      <td>7999</td>\n",
       "      <td>Republican</td>\n",
       "      <td>MO</td>\n",
       "      <td>['Call for Action', 'Foreign Affair', 'Other',...</td>\n",
       "      <td>[0.993141770362854, 0.00353661528788507, 0.000...</td>\n",
       "      <td>Call for Action</td>\n",
       "      <td>0.993142</td>\n",
       "      <td>0.030421</td>\n",
       "    </tr>\n",
       "    <tr>\n",
       "      <th>449826</th>\n",
       "      <td>449826</td>\n",
       "      <td>2018-10-30</td>\n",
       "      <td>We’ve got 7 days left. No regrets, only doors....</td>\n",
       "      <td>49.5</td>\n",
       "      <td>1499.5</td>\n",
       "      <td>[{'percentage': '1', 'region': 'Illinois'}]</td>\n",
       "      <td>[{'percentage': '0.006006', 'age': '18-24', 'g...</td>\n",
       "      <td>15338600709</td>\n",
       "      <td>Janice Schakowsky</td>\n",
       "      <td>Jan Schakowsky for Congress</td>\n",
       "      <td>...</td>\n",
       "      <td>99</td>\n",
       "      <td>1000</td>\n",
       "      <td>1999</td>\n",
       "      <td>Democrat</td>\n",
       "      <td>IL</td>\n",
       "      <td>['Labor and Employment', 'Call for Action', 'L...</td>\n",
       "      <td>[0.5645846724510193, 0.42280319333076477, 0.00...</td>\n",
       "      <td>Labor and Employment</td>\n",
       "      <td>0.564585</td>\n",
       "      <td>1.056126</td>\n",
       "    </tr>\n",
       "    <tr>\n",
       "      <th>459594</th>\n",
       "      <td>459594</td>\n",
       "      <td>2020-10-26</td>\n",
       "      <td>Michelle Littleton tells her story</td>\n",
       "      <td>1249.5</td>\n",
       "      <td>47499.5</td>\n",
       "      <td>[{'percentage': '1', 'region': 'Florida'}]</td>\n",
       "      <td>[{'percentage': '0.000142', 'age': '18-24', 'g...</td>\n",
       "      <td>280117065340803</td>\n",
       "      <td>Bill Posey for Congress</td>\n",
       "      <td>FRIENDS OF BILL POSEY</td>\n",
       "      <td>...</td>\n",
       "      <td>1499</td>\n",
       "      <td>45000</td>\n",
       "      <td>49999</td>\n",
       "      <td>Republican</td>\n",
       "      <td>FL</td>\n",
       "      <td>['Education and Culture', 'Labor and Employmen...</td>\n",
       "      <td>[0.18133902549743652, 0.09818907827138901, 0.0...</td>\n",
       "      <td>Education and Culture</td>\n",
       "      <td>0.181339</td>\n",
       "      <td>1.380890</td>\n",
       "    </tr>\n",
       "    <tr>\n",
       "      <th>459727</th>\n",
       "      <td>459727</td>\n",
       "      <td>2021-10-08</td>\n",
       "      <td>I am committed to helping middle-class familie...</td>\n",
       "      <td>449.5</td>\n",
       "      <td>12499.5</td>\n",
       "      <td>[{'percentage': '1', 'region': 'California'}]</td>\n",
       "      <td>[{'percentage': '0.001772', 'age': '65+', 'gen...</td>\n",
       "      <td>182567716746</td>\n",
       "      <td>Congressman John Garamendi</td>\n",
       "      <td>Office of Congressman John Garamendi</td>\n",
       "      <td>...</td>\n",
       "      <td>499</td>\n",
       "      <td>10000</td>\n",
       "      <td>14999</td>\n",
       "      <td>Democrat</td>\n",
       "      <td>CA</td>\n",
       "      <td>['Economy', 'Call for Action', 'Other', 'Labor...</td>\n",
       "      <td>[0.97571861743927, 0.01566304825246334, 0.0026...</td>\n",
       "      <td>Economy</td>\n",
       "      <td>0.975719</td>\n",
       "      <td>0.000000</td>\n",
       "    </tr>\n",
       "  </tbody>\n",
       "</table>\n",
       "<p>5 rows × 22 columns</p>\n",
       "</div>"
      ],
      "text/plain": [
       "        Unnamed: 0 ad_creation_time  \\\n",
       "447458      447458       2021-07-22   \n",
       "447742      447742       2021-10-31   \n",
       "449826      449826       2018-10-30   \n",
       "459594      459594       2020-10-26   \n",
       "459727      459727       2021-10-08   \n",
       "\n",
       "                                         ad_creative_body   spend  \\\n",
       "447458  America is drowning in liberal policies. Repub...    49.5   \n",
       "447742  LIVE POLL: BIDEN-HARRIS APPROVAL \\n\\nWe want t...   149.5   \n",
       "449826  We’ve got 7 days left. No regrets, only doors....    49.5   \n",
       "459594                 Michelle Littleton tells her story  1249.5   \n",
       "459727  I am committed to helping middle-class familie...   449.5   \n",
       "\n",
       "        impressions                                 delivery_by_region  \\\n",
       "447458        499.5      [{'percentage': '1', 'region': 'California'}]   \n",
       "447742       7499.5  [{'percentage': '0.024631', 'region': 'Alabama...   \n",
       "449826       1499.5        [{'percentage': '1', 'region': 'Illinois'}]   \n",
       "459594      47499.5         [{'percentage': '1', 'region': 'Florida'}]   \n",
       "459727      12499.5      [{'percentage': '1', 'region': 'California'}]   \n",
       "\n",
       "                                 demographic_distribution           page_id  \\\n",
       "447458  [{'percentage': '0.009346', 'age': '18-24', 'g...        9157920604   \n",
       "447742  [{'percentage': '0.001936', 'age': '55-64', 'g...  1636216106590985   \n",
       "449826  [{'percentage': '0.006006', 'age': '18-24', 'g...       15338600709   \n",
       "459594  [{'percentage': '0.000142', 'age': '18-24', 'g...   280117065340803   \n",
       "459727  [{'percentage': '0.001772', 'age': '65+', 'gen...      182567716746   \n",
       "\n",
       "                         page_name                               bylines  ...  \\\n",
       "447458                 Ken Calvert    KEN CALVERT FOR CONGRESS COMMITTEE  ...   \n",
       "447742                 Josh Hawley                                  NRSC  ...   \n",
       "449826           Janice Schakowsky           Jan Schakowsky for Congress  ...   \n",
       "459594     Bill Posey for Congress                 FRIENDS OF BILL POSEY  ...   \n",
       "459727  Congressman John Garamendi  Office of Congressman John Garamendi  ...   \n",
       "\n",
       "        spend_hi  impressions_lo  impressions_hi       party  state  \\\n",
       "447458        99               0             999  Republican     CA   \n",
       "447742       199            7000            7999  Republican     MO   \n",
       "449826        99            1000            1999    Democrat     IL   \n",
       "459594      1499           45000           49999  Republican     FL   \n",
       "459727       499           10000           14999    Democrat     CA   \n",
       "\n",
       "                                                   labels  \\\n",
       "447458  ['Call for Action', 'Defense', 'Other', 'Immig...   \n",
       "447742  ['Call for Action', 'Foreign Affair', 'Other',...   \n",
       "449826  ['Labor and Employment', 'Call for Action', 'L...   \n",
       "459594  ['Education and Culture', 'Labor and Employmen...   \n",
       "459727  ['Economy', 'Call for Action', 'Other', 'Labor...   \n",
       "\n",
       "                                                   scores  \\\n",
       "447458  [0.9981767535209656, 0.00039640290196985006, 0...   \n",
       "447742  [0.993141770362854, 0.00353661528788507, 0.000...   \n",
       "449826  [0.5645846724510193, 0.42280319333076477, 0.00...   \n",
       "459594  [0.18133902549743652, 0.09818907827138901, 0.0...   \n",
       "459727  [0.97571861743927, 0.01566304825246334, 0.0026...   \n",
       "\n",
       "                    top_label top_score     real2  \n",
       "447458        Call for Action  0.998177  0.827208  \n",
       "447742        Call for Action  0.993142  0.030421  \n",
       "449826   Labor and Employment  0.564585  1.056126  \n",
       "459594  Education and Culture  0.181339  1.380890  \n",
       "459727                Economy  0.975719  0.000000  \n",
       "\n",
       "[5 rows x 22 columns]"
      ]
     },
     "execution_count": 23,
     "metadata": {},
     "output_type": "execute_result"
    }
   ],
   "source": [
    "data_un.tail(5)"
   ]
  },
  {
   "cell_type": "code",
   "execution_count": 27,
   "metadata": {},
   "outputs": [
    {
     "data": {
      "image/png": "[encoded data removed]",
      "text/plain": [
       "<Figure size 1200x400 with 2 Axes>"
      ]
     },
     "metadata": {},
     "output_type": "display_data"
    }
   ],
   "source": [
    "df1 = data_un[data_un[\"party\"] == \"Democrat\"]\n",
    "df2 = data_un[data_un[\"party\"] == \"Republican\"]\n",
    "\n",
    "fig, axes = plt.subplots(nrows=1, ncols=2, figsize=(12, 4))\n",
    "\n",
    "axes[0].hist(\n",
    "    df1[\"real2\"],\n",
    "    bins=np.linspace(0, 3.6, 19),\n",
    "    alpha=0.5,\n",
    "    color=\"blue\",\n",
    "    edgecolor=\"darkblue\",\n",
    "    density=True,\n",
    ")\n",
    "axes[0].set_title(\"(normalized) real entropy - Democrats\")\n",
    "axes[0].set_ylabel(\"probability density\")\n",
    "axes[0].set_xlabel(\"uncorrelated entropy\")\n",
    "\n",
    "axes[1].hist(\n",
    "    df2[\"real2\"],\n",
    "    bins=np.linspace(0, 3.6, 19),\n",
    "    alpha=0.5,\n",
    "    color=\"red\",\n",
    "    edgecolor=\"darkred\",\n",
    "    # fill=False,\n",
    "    density=True,\n",
    ")\n",
    "axes[1].set_title(\"(normalized) real entropy - Republicans\")\n",
    "axes[1].set_ylabel(\"probability density\")\n",
    "axes[1].set_xlabel(\"uncorrelated entropy\")\n",
    "\n",
    "plt.tight_layout()\n",
    "plt.show()"
   ]
  },
  {
   "cell_type": "code",
   "execution_count": 28,
   "metadata": {},
   "outputs": [
    {
     "data": {
      "image/png": "[encoded data removed]",
      "text/plain": [
       "<Figure size 640x480 with 1 Axes>"
      ]
     },
     "metadata": {},
     "output_type": "display_data"
    }
   ],
   "source": [
    "plt.hist(\n",
    "    df1[\"real2\"],\n",
    "    bins=np.linspace(0, 3.6, 19),\n",
    "    label=\"Democrats\",\n",
    "    alpha=0.5,\n",
    "    color=\"blue\",\n",
    "    edgecolor=\"darkblue\",\n",
    "    density=True,\n",
    ")\n",
    "\n",
    "plt.hist(\n",
    "    df2[\"real2\"],\n",
    "    bins=np.linspace(0, 3.6, 19),\n",
    "    label=\"Republicans\",\n",
    "    alpha=0.5,\n",
    "    color=\"red\",\n",
    "    edgecolor=\"darkred\",\n",
    "    density=True,\n",
    ")\n",
    "\n",
    "plt.title(\"(normalized) real entropy - party level\", fontsize=16)\n",
    "plt.legend()\n",
    "plt.ylabel(\"probability density\")\n",
    "plt.xlabel(\"uncorrelated entropy\")\n",
    "plt.show()"
   ]
  },
  {
   "cell_type": "markdown",
   "metadata": {},
   "source": [
    "## sammenligner entropy"
   ]
  },
  {
   "cell_type": "code",
   "execution_count": 13,
   "metadata": {},
   "outputs": [
    {
     "name": "stderr",
     "output_type": "stream",
     "text": [
      "  2%|▏         | 8/518 [00:08<09:09,  1.08s/it]\n"
     ]
    },
    {
     "ename": "KeyboardInterrupt",
     "evalue": "",
     "output_type": "error",
     "traceback": [
      "\u001b[0;31m---------------------------------------------------------------------------\u001b[0m",
      "\u001b[0;31mKeyboardInterrupt\u001b[0m                         Traceback (most recent call last)",
      "Cell \u001b[0;32mIn[13], line 18\u001b[0m\n\u001b[1;32m      8\u001b[0m tdf \u001b[38;5;241m=\u001b[39m skmob\u001b[38;5;241m.\u001b[39mTrajDataFrame(\n\u001b[1;32m      9\u001b[0m     data,\n\u001b[1;32m     10\u001b[0m     latitude\u001b[38;5;241m=\u001b[39m\u001b[38;5;124m\"\u001b[39m\u001b[38;5;124mlat\u001b[39m\u001b[38;5;124m\"\u001b[39m,\n\u001b[0;32m   (...)\u001b[0m\n\u001b[1;32m     13\u001b[0m     user_id\u001b[38;5;241m=\u001b[39m\u001b[38;5;124m\"\u001b[39m\u001b[38;5;124mpage_id\u001b[39m\u001b[38;5;124m\"\u001b[39m,\n\u001b[1;32m     14\u001b[0m )\n\u001b[1;32m     17\u001b[0m \u001b[38;5;66;03m# Compute entropy for this batch\u001b[39;00m\n\u001b[0;32m---> 18\u001b[0m ue_df \u001b[38;5;241m=\u001b[39m \u001b[43mreal_entropy\u001b[49m\u001b[43m(\u001b[49m\u001b[43mtdf\u001b[49m\u001b[43m)\u001b[49m\n",
      "File \u001b[0;32m~/anaconda3/envs/skmob/lib/python3.9/site-packages/skmob/measures/individual.py:459\u001b[0m, in \u001b[0;36mreal_entropy\u001b[0;34m(traj, show_progress)\u001b[0m\n\u001b[1;32m    456\u001b[0m     \u001b[38;5;28;01mreturn\u001b[39;00m pd\u001b[38;5;241m.\u001b[39mDataFrame([_real_entropy_individual(traj)], columns\u001b[38;5;241m=\u001b[39m[sys\u001b[38;5;241m.\u001b[39m_getframe()\u001b[38;5;241m.\u001b[39mf_code\u001b[38;5;241m.\u001b[39mco_name])\n\u001b[1;32m    458\u001b[0m \u001b[38;5;28;01mif\u001b[39;00m show_progress:\n\u001b[0;32m--> 459\u001b[0m     df \u001b[38;5;241m=\u001b[39m \u001b[43mtraj\u001b[49m\u001b[38;5;241;43m.\u001b[39;49m\u001b[43mgroupby\u001b[49m\u001b[43m(\u001b[49m\u001b[43mconstants\u001b[49m\u001b[38;5;241;43m.\u001b[39;49m\u001b[43mUID\u001b[49m\u001b[43m)\u001b[49m\u001b[38;5;241;43m.\u001b[39;49m\u001b[43mprogress_apply\u001b[49m\u001b[43m(\u001b[49m\u001b[38;5;28;43;01mlambda\u001b[39;49;00m\u001b[43m \u001b[49m\u001b[43mx\u001b[49m\u001b[43m:\u001b[49m\u001b[43m \u001b[49m\u001b[43m_real_entropy_individual\u001b[49m\u001b[43m(\u001b[49m\u001b[43mx\u001b[49m\u001b[43m)\u001b[49m\u001b[43m)\u001b[49m\n\u001b[1;32m    460\u001b[0m \u001b[38;5;28;01melse\u001b[39;00m:\n\u001b[1;32m    461\u001b[0m     df \u001b[38;5;241m=\u001b[39m traj\u001b[38;5;241m.\u001b[39mgroupby(constants\u001b[38;5;241m.\u001b[39mUID)\u001b[38;5;241m.\u001b[39mapply(\u001b[38;5;28;01mlambda\u001b[39;00m x: _real_entropy_individual(x))\n",
      "File \u001b[0;32m~/anaconda3/envs/skmob/lib/python3.9/site-packages/tqdm/std.py:917\u001b[0m, in \u001b[0;36mtqdm.pandas.<locals>.inner_generator.<locals>.inner\u001b[0;34m(df, func, *args, **kwargs)\u001b[0m\n\u001b[1;32m    914\u001b[0m \u001b[38;5;66;03m# Apply the provided function (in **kwargs)\u001b[39;00m\n\u001b[1;32m    915\u001b[0m \u001b[38;5;66;03m# on the df using our wrapper (which provides bar updating)\u001b[39;00m\n\u001b[1;32m    916\u001b[0m \u001b[38;5;28;01mtry\u001b[39;00m:\n\u001b[0;32m--> 917\u001b[0m     \u001b[38;5;28;01mreturn\u001b[39;00m \u001b[38;5;28;43mgetattr\u001b[39;49m\u001b[43m(\u001b[49m\u001b[43mdf\u001b[49m\u001b[43m,\u001b[49m\u001b[43m \u001b[49m\u001b[43mdf_function\u001b[49m\u001b[43m)\u001b[49m\u001b[43m(\u001b[49m\u001b[43mwrapper\u001b[49m\u001b[43m,\u001b[49m\u001b[43m \u001b[49m\u001b[38;5;241;43m*\u001b[39;49m\u001b[38;5;241;43m*\u001b[39;49m\u001b[43mkwargs\u001b[49m\u001b[43m)\u001b[49m\n\u001b[1;32m    918\u001b[0m \u001b[38;5;28;01mfinally\u001b[39;00m:\n\u001b[1;32m    919\u001b[0m     t\u001b[38;5;241m.\u001b[39mclose()\n",
      "File \u001b[0;32m~/anaconda3/envs/skmob/lib/python3.9/site-packages/pandas/core/groupby/groupby.py:1824\u001b[0m, in \u001b[0;36mGroupBy.apply\u001b[0;34m(self, func, include_groups, *args, **kwargs)\u001b[0m\n\u001b[1;32m   1822\u001b[0m \u001b[38;5;28;01mwith\u001b[39;00m option_context(\u001b[38;5;124m\"\u001b[39m\u001b[38;5;124mmode.chained_assignment\u001b[39m\u001b[38;5;124m\"\u001b[39m, \u001b[38;5;28;01mNone\u001b[39;00m):\n\u001b[1;32m   1823\u001b[0m     \u001b[38;5;28;01mtry\u001b[39;00m:\n\u001b[0;32m-> 1824\u001b[0m         result \u001b[38;5;241m=\u001b[39m \u001b[38;5;28;43mself\u001b[39;49m\u001b[38;5;241;43m.\u001b[39;49m\u001b[43m_python_apply_general\u001b[49m\u001b[43m(\u001b[49m\u001b[43mf\u001b[49m\u001b[43m,\u001b[49m\u001b[43m \u001b[49m\u001b[38;5;28;43mself\u001b[39;49m\u001b[38;5;241;43m.\u001b[39;49m\u001b[43m_selected_obj\u001b[49m\u001b[43m)\u001b[49m\n\u001b[1;32m   1825\u001b[0m         \u001b[38;5;28;01mif\u001b[39;00m (\n\u001b[1;32m   1826\u001b[0m             \u001b[38;5;129;01mnot\u001b[39;00m \u001b[38;5;28misinstance\u001b[39m(\u001b[38;5;28mself\u001b[39m\u001b[38;5;241m.\u001b[39mobj, Series)\n\u001b[1;32m   1827\u001b[0m             \u001b[38;5;129;01mand\u001b[39;00m \u001b[38;5;28mself\u001b[39m\u001b[38;5;241m.\u001b[39m_selection \u001b[38;5;129;01mis\u001b[39;00m \u001b[38;5;28;01mNone\u001b[39;00m\n\u001b[1;32m   1828\u001b[0m             \u001b[38;5;129;01mand\u001b[39;00m \u001b[38;5;28mself\u001b[39m\u001b[38;5;241m.\u001b[39m_selected_obj\u001b[38;5;241m.\u001b[39mshape \u001b[38;5;241m!=\u001b[39m \u001b[38;5;28mself\u001b[39m\u001b[38;5;241m.\u001b[39m_obj_with_exclusions\u001b[38;5;241m.\u001b[39mshape\n\u001b[1;32m   1829\u001b[0m         ):\n\u001b[1;32m   1830\u001b[0m             warnings\u001b[38;5;241m.\u001b[39mwarn(\n\u001b[1;32m   1831\u001b[0m                 message\u001b[38;5;241m=\u001b[39m_apply_groupings_depr\u001b[38;5;241m.\u001b[39mformat(\n\u001b[1;32m   1832\u001b[0m                     \u001b[38;5;28mtype\u001b[39m(\u001b[38;5;28mself\u001b[39m)\u001b[38;5;241m.\u001b[39m\u001b[38;5;18m__name__\u001b[39m, \u001b[38;5;124m\"\u001b[39m\u001b[38;5;124mapply\u001b[39m\u001b[38;5;124m\"\u001b[39m\n\u001b[0;32m   (...)\u001b[0m\n\u001b[1;32m   1835\u001b[0m                 stacklevel\u001b[38;5;241m=\u001b[39mfind_stack_level(),\n\u001b[1;32m   1836\u001b[0m             )\n",
      "File \u001b[0;32m~/anaconda3/envs/skmob/lib/python3.9/site-packages/pandas/core/groupby/groupby.py:1885\u001b[0m, in \u001b[0;36mGroupBy._python_apply_general\u001b[0;34m(self, f, data, not_indexed_same, is_transform, is_agg)\u001b[0m\n\u001b[1;32m   1850\u001b[0m \u001b[38;5;129m@final\u001b[39m\n\u001b[1;32m   1851\u001b[0m \u001b[38;5;28;01mdef\u001b[39;00m \u001b[38;5;21m_python_apply_general\u001b[39m(\n\u001b[1;32m   1852\u001b[0m     \u001b[38;5;28mself\u001b[39m,\n\u001b[0;32m   (...)\u001b[0m\n\u001b[1;32m   1857\u001b[0m     is_agg: \u001b[38;5;28mbool\u001b[39m \u001b[38;5;241m=\u001b[39m \u001b[38;5;28;01mFalse\u001b[39;00m,\n\u001b[1;32m   1858\u001b[0m ) \u001b[38;5;241m-\u001b[39m\u001b[38;5;241m>\u001b[39m NDFrameT:\n\u001b[1;32m   1859\u001b[0m \u001b[38;5;250m    \u001b[39m\u001b[38;5;124;03m\"\"\"\u001b[39;00m\n\u001b[1;32m   1860\u001b[0m \u001b[38;5;124;03m    Apply function f in python space\u001b[39;00m\n\u001b[1;32m   1861\u001b[0m \n\u001b[0;32m   (...)\u001b[0m\n\u001b[1;32m   1883\u001b[0m \u001b[38;5;124;03m        data after applying f\u001b[39;00m\n\u001b[1;32m   1884\u001b[0m \u001b[38;5;124;03m    \"\"\"\u001b[39;00m\n\u001b[0;32m-> 1885\u001b[0m     values, mutated \u001b[38;5;241m=\u001b[39m \u001b[38;5;28;43mself\u001b[39;49m\u001b[38;5;241;43m.\u001b[39;49m\u001b[43m_grouper\u001b[49m\u001b[38;5;241;43m.\u001b[39;49m\u001b[43mapply_groupwise\u001b[49m\u001b[43m(\u001b[49m\u001b[43mf\u001b[49m\u001b[43m,\u001b[49m\u001b[43m \u001b[49m\u001b[43mdata\u001b[49m\u001b[43m,\u001b[49m\u001b[43m \u001b[49m\u001b[38;5;28;43mself\u001b[39;49m\u001b[38;5;241;43m.\u001b[39;49m\u001b[43maxis\u001b[49m\u001b[43m)\u001b[49m\n\u001b[1;32m   1886\u001b[0m     \u001b[38;5;28;01mif\u001b[39;00m not_indexed_same \u001b[38;5;129;01mis\u001b[39;00m \u001b[38;5;28;01mNone\u001b[39;00m:\n\u001b[1;32m   1887\u001b[0m         not_indexed_same \u001b[38;5;241m=\u001b[39m mutated\n",
      "File \u001b[0;32m~/anaconda3/envs/skmob/lib/python3.9/site-packages/pandas/core/groupby/ops.py:919\u001b[0m, in \u001b[0;36mBaseGrouper.apply_groupwise\u001b[0;34m(self, f, data, axis)\u001b[0m\n\u001b[1;32m    917\u001b[0m \u001b[38;5;66;03m# group might be modified\u001b[39;00m\n\u001b[1;32m    918\u001b[0m group_axes \u001b[38;5;241m=\u001b[39m group\u001b[38;5;241m.\u001b[39maxes\n\u001b[0;32m--> 919\u001b[0m res \u001b[38;5;241m=\u001b[39m \u001b[43mf\u001b[49m\u001b[43m(\u001b[49m\u001b[43mgroup\u001b[49m\u001b[43m)\u001b[49m\n\u001b[1;32m    920\u001b[0m \u001b[38;5;28;01mif\u001b[39;00m \u001b[38;5;129;01mnot\u001b[39;00m mutated \u001b[38;5;129;01mand\u001b[39;00m \u001b[38;5;129;01mnot\u001b[39;00m _is_indexed_like(res, group_axes, axis):\n\u001b[1;32m    921\u001b[0m     mutated \u001b[38;5;241m=\u001b[39m \u001b[38;5;28;01mTrue\u001b[39;00m\n",
      "File \u001b[0;32m~/anaconda3/envs/skmob/lib/python3.9/site-packages/tqdm/std.py:912\u001b[0m, in \u001b[0;36mtqdm.pandas.<locals>.inner_generator.<locals>.inner.<locals>.wrapper\u001b[0;34m(*args, **kwargs)\u001b[0m\n\u001b[1;32m    906\u001b[0m \u001b[38;5;28;01mdef\u001b[39;00m \u001b[38;5;21mwrapper\u001b[39m(\u001b[38;5;241m*\u001b[39margs, \u001b[38;5;241m*\u001b[39m\u001b[38;5;241m*\u001b[39mkwargs):\n\u001b[1;32m    907\u001b[0m     \u001b[38;5;66;03m# update tbar correctly\u001b[39;00m\n\u001b[1;32m    908\u001b[0m     \u001b[38;5;66;03m# it seems `pandas apply` calls `func` twice\u001b[39;00m\n\u001b[1;32m    909\u001b[0m     \u001b[38;5;66;03m# on the first column/row to decide whether it can\u001b[39;00m\n\u001b[1;32m    910\u001b[0m     \u001b[38;5;66;03m# take a fast or slow code path; so stop when t.total==t.n\u001b[39;00m\n\u001b[1;32m    911\u001b[0m     t\u001b[38;5;241m.\u001b[39mupdate(n\u001b[38;5;241m=\u001b[39m\u001b[38;5;241m1\u001b[39m \u001b[38;5;28;01mif\u001b[39;00m \u001b[38;5;129;01mnot\u001b[39;00m t\u001b[38;5;241m.\u001b[39mtotal \u001b[38;5;129;01mor\u001b[39;00m t\u001b[38;5;241m.\u001b[39mn \u001b[38;5;241m<\u001b[39m t\u001b[38;5;241m.\u001b[39mtotal \u001b[38;5;28;01melse\u001b[39;00m \u001b[38;5;241m0\u001b[39m)\n\u001b[0;32m--> 912\u001b[0m     \u001b[38;5;28;01mreturn\u001b[39;00m \u001b[43mfunc\u001b[49m\u001b[43m(\u001b[49m\u001b[38;5;241;43m*\u001b[39;49m\u001b[43margs\u001b[49m\u001b[43m,\u001b[49m\u001b[43m \u001b[49m\u001b[38;5;241;43m*\u001b[39;49m\u001b[38;5;241;43m*\u001b[39;49m\u001b[43mkwargs\u001b[49m\u001b[43m)\u001b[49m\n",
      "File \u001b[0;32m~/anaconda3/envs/skmob/lib/python3.9/site-packages/skmob/measures/individual.py:459\u001b[0m, in \u001b[0;36mreal_entropy.<locals>.<lambda>\u001b[0;34m(x)\u001b[0m\n\u001b[1;32m    456\u001b[0m     \u001b[38;5;28;01mreturn\u001b[39;00m pd\u001b[38;5;241m.\u001b[39mDataFrame([_real_entropy_individual(traj)], columns\u001b[38;5;241m=\u001b[39m[sys\u001b[38;5;241m.\u001b[39m_getframe()\u001b[38;5;241m.\u001b[39mf_code\u001b[38;5;241m.\u001b[39mco_name])\n\u001b[1;32m    458\u001b[0m \u001b[38;5;28;01mif\u001b[39;00m show_progress:\n\u001b[0;32m--> 459\u001b[0m     df \u001b[38;5;241m=\u001b[39m traj\u001b[38;5;241m.\u001b[39mgroupby(constants\u001b[38;5;241m.\u001b[39mUID)\u001b[38;5;241m.\u001b[39mprogress_apply(\u001b[38;5;28;01mlambda\u001b[39;00m x: \u001b[43m_real_entropy_individual\u001b[49m\u001b[43m(\u001b[49m\u001b[43mx\u001b[49m\u001b[43m)\u001b[49m)\n\u001b[1;32m    460\u001b[0m \u001b[38;5;28;01melse\u001b[39;00m:\n\u001b[1;32m    461\u001b[0m     df \u001b[38;5;241m=\u001b[39m traj\u001b[38;5;241m.\u001b[39mgroupby(constants\u001b[38;5;241m.\u001b[39mUID)\u001b[38;5;241m.\u001b[39mapply(\u001b[38;5;28;01mlambda\u001b[39;00m x: _real_entropy_individual(x))\n",
      "File \u001b[0;32m~/anaconda3/envs/skmob/lib/python3.9/site-packages/skmob/measures/individual.py:401\u001b[0m, in \u001b[0;36m_real_entropy_individual\u001b[0;34m(traj)\u001b[0m\n\u001b[1;32m    387\u001b[0m \u001b[38;5;250m\u001b[39m\u001b[38;5;124;03m\"\"\"\u001b[39;00m\n\u001b[1;32m    388\u001b[0m \u001b[38;5;124;03mCompute the real entropy of a single individual given their TrajDataFrame.\u001b[39;00m\n\u001b[1;32m    389\u001b[0m \n\u001b[0;32m   (...)\u001b[0m\n\u001b[1;32m    398\u001b[0m \u001b[38;5;124;03m    the real entropy of the individual.\u001b[39;00m\n\u001b[1;32m    399\u001b[0m \u001b[38;5;124;03m\"\"\"\u001b[39;00m\n\u001b[1;32m    400\u001b[0m time_series \u001b[38;5;241m=\u001b[39m \u001b[38;5;28mtuple\u001b[39m(\u001b[38;5;28mmap\u001b[39m(\u001b[38;5;28mtuple\u001b[39m, traj[[constants\u001b[38;5;241m.\u001b[39mLATITUDE, constants\u001b[38;5;241m.\u001b[39mLONGITUDE]]\u001b[38;5;241m.\u001b[39mvalues))\n\u001b[0;32m--> 401\u001b[0m entropy \u001b[38;5;241m=\u001b[39m \u001b[43m_true_entropy\u001b[49m\u001b[43m(\u001b[49m\u001b[43mtime_series\u001b[49m\u001b[43m)\u001b[49m\n\u001b[1;32m    402\u001b[0m \u001b[38;5;28;01mreturn\u001b[39;00m entropy\n",
      "File \u001b[0;32m~/anaconda3/envs/skmob/lib/python3.9/site-packages/skmob/measures/individual.py:378\u001b[0m, in \u001b[0;36m_true_entropy\u001b[0;34m(sequence)\u001b[0m\n\u001b[1;32m    376\u001b[0m \u001b[38;5;28;01mfor\u001b[39;00m i \u001b[38;5;129;01min\u001b[39;00m \u001b[38;5;28mrange\u001b[39m(\u001b[38;5;241m1\u001b[39m, n \u001b[38;5;241m-\u001b[39m \u001b[38;5;241m1\u001b[39m):\n\u001b[1;32m    377\u001b[0m     j \u001b[38;5;241m=\u001b[39m i \u001b[38;5;241m+\u001b[39m \u001b[38;5;241m1\u001b[39m\n\u001b[0;32m--> 378\u001b[0m     \u001b[38;5;28;01mwhile\u001b[39;00m j \u001b[38;5;241m<\u001b[39m n \u001b[38;5;129;01mand\u001b[39;00m \u001b[43min_seq\u001b[49m\u001b[43m(\u001b[49m\u001b[43msequence\u001b[49m\u001b[43m[\u001b[49m\u001b[43m:\u001b[49m\u001b[43mi\u001b[49m\u001b[43m]\u001b[49m\u001b[43m,\u001b[49m\u001b[43m \u001b[49m\u001b[43msequence\u001b[49m\u001b[43m[\u001b[49m\u001b[43mi\u001b[49m\u001b[43m:\u001b[49m\u001b[43mj\u001b[49m\u001b[43m]\u001b[49m\u001b[43m)\u001b[49m:\n\u001b[1;32m    379\u001b[0m         j \u001b[38;5;241m+\u001b[39m\u001b[38;5;241m=\u001b[39m \u001b[38;5;241m1\u001b[39m\n\u001b[1;32m    380\u001b[0m     \u001b[38;5;28;01mif\u001b[39;00m j \u001b[38;5;241m==\u001b[39m n: j \u001b[38;5;241m+\u001b[39m\u001b[38;5;241m=\u001b[39m \u001b[38;5;241m1\u001b[39m     \u001b[38;5;66;03m# EOF character\u001b[39;00m\n",
      "File \u001b[0;32m~/anaconda3/envs/skmob/lib/python3.9/site-packages/skmob/measures/individual.py:370\u001b[0m, in \u001b[0;36m_true_entropy.<locals>.in_seq\u001b[0;34m(a, b)\u001b[0m\n\u001b[1;32m    368\u001b[0m valid \u001b[38;5;241m=\u001b[39m \u001b[38;5;28;01mTrue\u001b[39;00m\n\u001b[1;32m    369\u001b[0m \u001b[38;5;28;01mfor\u001b[39;00m j, v \u001b[38;5;129;01min\u001b[39;00m \u001b[38;5;28menumerate\u001b[39m(b):\n\u001b[0;32m--> 370\u001b[0m     \u001b[38;5;28;01mif\u001b[39;00m \u001b[43ma\u001b[49m\u001b[43m[\u001b[49m\u001b[43mi\u001b[49m\u001b[43m \u001b[49m\u001b[38;5;241;43m+\u001b[39;49m\u001b[43m \u001b[49m\u001b[43mj\u001b[49m\u001b[43m]\u001b[49m \u001b[38;5;241m!=\u001b[39m v:\n\u001b[1;32m    371\u001b[0m         valid \u001b[38;5;241m=\u001b[39m \u001b[38;5;28;01mFalse\u001b[39;00m\n\u001b[1;32m    372\u001b[0m         \u001b[38;5;28;01mbreak\u001b[39;00m\n",
      "\u001b[0;31mKeyboardInterrupt\u001b[0m: "
     ]
    }
   ],
   "source": [
    "#data = pd.read_csv(\"mandagsmagi.csv\")\n",
    "\n",
    "data = data[[\"page_id\", \"page_name\", \"top_label\", \"ad_creation_time\"]]\n",
    "data[\"top_label_int\"] = pd.factorize(data[\"top_label\"], sort=True)[0] + 1\n",
    "data[\"lat\"] = 0.0\n",
    "\n",
    "# Convert data into a TrajDataFrame\n",
    "tdf = skmob.TrajDataFrame(\n",
    "    data,\n",
    "    latitude=\"lat\",\n",
    "    longitude=\"top_label_int\",\n",
    "    datetime=\"ad_creation_time\",\n",
    "    user_id=\"page_id\",\n",
    ")\n",
    "\n",
    "\n",
    "# Compute entropy for this batch\n",
    "ue_df = real_entropy(tdf)\n",
    "\n",
    "# re_df_batch = real_entropy(batch_tdf)"
   ]
  },
  {
   "cell_type": "code",
   "execution_count": 9,
   "metadata": {},
   "outputs": [
    {
     "name": "stdout",
     "output_type": "stream",
     "text": [
      "Batch Processing Results for First 2 Users:\n",
      "                uid  uncorrelated_entropy\n",
      "0        8408030527              1.446338\n",
      "1       13063797831              0.713197\n",
      "2       38471053686              1.588226\n",
      "3       79820371749              0.573872\n",
      "4   124955570892789              0.938130\n",
      "5   134597023235240              1.006580\n",
      "6   184609361596971              1.674923\n",
      "7   248922701788783              2.462502\n",
      "8   828902563856302              1.166299\n",
      "9  1413682351987764              1.527401\n"
     ]
    }
   ],
   "source": [
    "# Print or save the batch results\n",
    "print(\"Batch Processing Results for First 2 Users:\")\n",
    "print(ue_df)"
   ]
  },
  {
   "cell_type": "code",
   "execution_count": 10,
   "metadata": {},
   "outputs": [
    {
     "name": "stderr",
     "output_type": "stream",
     "text": [
      "100%|██████████| 518/518 [00:02<00:00, 174.63it/s]"
     ]
    },
    {
     "name": "stdout",
     "output_type": "stream",
     "text": [
      "Single Computation Results for First 2 Users:\n",
      "                  uid  uncorrelated_entropy\n",
      "45         8408030527              1.446338\n",
      "56        13063797831              0.713197\n",
      "75        38471053686              1.588226\n",
      "95        79820371749              0.573872\n",
      "200   124955570892789              0.938130\n",
      "208   134597023235240              1.006580\n",
      "254   184609361596971              1.674923\n",
      "290   248922701788783              2.462502\n",
      "426   828902563856302              1.166299\n",
      "462  1413682351987764              1.527401\n"
     ]
    },
    {
     "name": "stderr",
     "output_type": "stream",
     "text": [
      "\n"
     ]
    }
   ],
   "source": [
    "# Calculate real_entropy for the entire DataFrame and then filter the results\n",
    "re_df_single = uncorrelated_entropy(tdf)\n",
    "\n",
    "# Filter to the first 5 users in the single computation result\n",
    "re_df_first_5_single = re_df_single[re_df_single[\"uid\"].isin(first_5_users)]\n",
    "\n",
    "# Print or save the single computation results\n",
    "print(\"Single Computation Results for First 2 Users:\")\n",
    "print(re_df_first_5_single)"
   ]
  },
  {
   "cell_type": "code",
   "execution_count": 33,
   "metadata": {},
   "outputs": [],
   "source": [
    "data = pd.read_csv(\"mandagsmagi.csv\")"
   ]
  },
  {
   "cell_type": "code",
   "execution_count": 34,
   "metadata": {},
   "outputs": [],
   "source": [
    "data = data[[\"page_id\", \"page_name\", \"top_label\", \"ad_creation_time\"]]\n",
    "\n",
    "# Convert categorical data and add constant latitude\n",
    "data[\"top_label_int\"] = pd.factorize(data[\"top_label\"], sort=True)[0] + 1\n",
    "data[\"lat\"] = 0.0\n",
    "\n",
    "# Convert data into a TrajDataFrame\n",
    "tdf = skmob.TrajDataFrame(\n",
    "    data,\n",
    "    latitude=\"lat\",\n",
    "    longitude=\"top_label_int\",\n",
    "    datetime=\"ad_creation_time\",\n",
    "    user_id=\"page_id\",\n",
    ")"
   ]
  },
  {
   "cell_type": "code",
   "execution_count": 35,
   "metadata": {},
   "outputs": [
    {
     "name": "stderr",
     "output_type": "stream",
     "text": [
      "100%|██████████| 518/518 [00:03<00:00, 161.58it/s]\n"
     ]
    }
   ],
   "source": [
    "ue_df = uncorrelated_entropy(tdf, normalize=False)"
   ]
  },
  {
   "cell_type": "code",
   "execution_count": 36,
   "metadata": {},
   "outputs": [
    {
     "name": "stderr",
     "output_type": "stream",
     "text": [
      "  2%|▏         | 8/518 [00:24<26:00,  3.06s/it]\n"
     ]
    },
    {
     "ename": "KeyboardInterrupt",
     "evalue": "",
     "output_type": "error",
     "traceback": [
      "\u001b[0;31m---------------------------------------------------------------------------\u001b[0m",
      "\u001b[0;31mKeyboardInterrupt\u001b[0m                         Traceback (most recent call last)",
      "Cell \u001b[0;32mIn[36], line 1\u001b[0m\n\u001b[0;32m----> 1\u001b[0m re_df \u001b[38;5;241m=\u001b[39m \u001b[43mreal_entropy\u001b[49m\u001b[43m(\u001b[49m\u001b[43mtdf\u001b[49m\u001b[43m)\u001b[49m\n",
      "File \u001b[0;32m~/anaconda3/envs/skmob/lib/python3.9/site-packages/skmob/measures/individual.py:459\u001b[0m, in \u001b[0;36mreal_entropy\u001b[0;34m(traj, show_progress)\u001b[0m\n\u001b[1;32m    456\u001b[0m     \u001b[38;5;28;01mreturn\u001b[39;00m pd\u001b[38;5;241m.\u001b[39mDataFrame([_real_entropy_individual(traj)], columns\u001b[38;5;241m=\u001b[39m[sys\u001b[38;5;241m.\u001b[39m_getframe()\u001b[38;5;241m.\u001b[39mf_code\u001b[38;5;241m.\u001b[39mco_name])\n\u001b[1;32m    458\u001b[0m \u001b[38;5;28;01mif\u001b[39;00m show_progress:\n\u001b[0;32m--> 459\u001b[0m     df \u001b[38;5;241m=\u001b[39m \u001b[43mtraj\u001b[49m\u001b[38;5;241;43m.\u001b[39;49m\u001b[43mgroupby\u001b[49m\u001b[43m(\u001b[49m\u001b[43mconstants\u001b[49m\u001b[38;5;241;43m.\u001b[39;49m\u001b[43mUID\u001b[49m\u001b[43m)\u001b[49m\u001b[38;5;241;43m.\u001b[39;49m\u001b[43mprogress_apply\u001b[49m\u001b[43m(\u001b[49m\u001b[38;5;28;43;01mlambda\u001b[39;49;00m\u001b[43m \u001b[49m\u001b[43mx\u001b[49m\u001b[43m:\u001b[49m\u001b[43m \u001b[49m\u001b[43m_real_entropy_individual\u001b[49m\u001b[43m(\u001b[49m\u001b[43mx\u001b[49m\u001b[43m)\u001b[49m\u001b[43m)\u001b[49m\n\u001b[1;32m    460\u001b[0m \u001b[38;5;28;01melse\u001b[39;00m:\n\u001b[1;32m    461\u001b[0m     df \u001b[38;5;241m=\u001b[39m traj\u001b[38;5;241m.\u001b[39mgroupby(constants\u001b[38;5;241m.\u001b[39mUID)\u001b[38;5;241m.\u001b[39mapply(\u001b[38;5;28;01mlambda\u001b[39;00m x: _real_entropy_individual(x))\n",
      "File \u001b[0;32m~/anaconda3/envs/skmob/lib/python3.9/site-packages/tqdm/std.py:917\u001b[0m, in \u001b[0;36mtqdm.pandas.<locals>.inner_generator.<locals>.inner\u001b[0;34m(df, func, *args, **kwargs)\u001b[0m\n\u001b[1;32m    914\u001b[0m \u001b[38;5;66;03m# Apply the provided function (in **kwargs)\u001b[39;00m\n\u001b[1;32m    915\u001b[0m \u001b[38;5;66;03m# on the df using our wrapper (which provides bar updating)\u001b[39;00m\n\u001b[1;32m    916\u001b[0m \u001b[38;5;28;01mtry\u001b[39;00m:\n\u001b[0;32m--> 917\u001b[0m     \u001b[38;5;28;01mreturn\u001b[39;00m \u001b[38;5;28;43mgetattr\u001b[39;49m\u001b[43m(\u001b[49m\u001b[43mdf\u001b[49m\u001b[43m,\u001b[49m\u001b[43m \u001b[49m\u001b[43mdf_function\u001b[49m\u001b[43m)\u001b[49m\u001b[43m(\u001b[49m\u001b[43mwrapper\u001b[49m\u001b[43m,\u001b[49m\u001b[43m \u001b[49m\u001b[38;5;241;43m*\u001b[39;49m\u001b[38;5;241;43m*\u001b[39;49m\u001b[43mkwargs\u001b[49m\u001b[43m)\u001b[49m\n\u001b[1;32m    918\u001b[0m \u001b[38;5;28;01mfinally\u001b[39;00m:\n\u001b[1;32m    919\u001b[0m     t\u001b[38;5;241m.\u001b[39mclose()\n",
      "File \u001b[0;32m~/anaconda3/envs/skmob/lib/python3.9/site-packages/pandas/core/groupby/groupby.py:1824\u001b[0m, in \u001b[0;36mGroupBy.apply\u001b[0;34m(self, func, include_groups, *args, **kwargs)\u001b[0m\n\u001b[1;32m   1822\u001b[0m \u001b[38;5;28;01mwith\u001b[39;00m option_context(\u001b[38;5;124m\"\u001b[39m\u001b[38;5;124mmode.chained_assignment\u001b[39m\u001b[38;5;124m\"\u001b[39m, \u001b[38;5;28;01mNone\u001b[39;00m):\n\u001b[1;32m   1823\u001b[0m     \u001b[38;5;28;01mtry\u001b[39;00m:\n\u001b[0;32m-> 1824\u001b[0m         result \u001b[38;5;241m=\u001b[39m \u001b[38;5;28;43mself\u001b[39;49m\u001b[38;5;241;43m.\u001b[39;49m\u001b[43m_python_apply_general\u001b[49m\u001b[43m(\u001b[49m\u001b[43mf\u001b[49m\u001b[43m,\u001b[49m\u001b[43m \u001b[49m\u001b[38;5;28;43mself\u001b[39;49m\u001b[38;5;241;43m.\u001b[39;49m\u001b[43m_selected_obj\u001b[49m\u001b[43m)\u001b[49m\n\u001b[1;32m   1825\u001b[0m         \u001b[38;5;28;01mif\u001b[39;00m (\n\u001b[1;32m   1826\u001b[0m             \u001b[38;5;129;01mnot\u001b[39;00m \u001b[38;5;28misinstance\u001b[39m(\u001b[38;5;28mself\u001b[39m\u001b[38;5;241m.\u001b[39mobj, Series)\n\u001b[1;32m   1827\u001b[0m             \u001b[38;5;129;01mand\u001b[39;00m \u001b[38;5;28mself\u001b[39m\u001b[38;5;241m.\u001b[39m_selection \u001b[38;5;129;01mis\u001b[39;00m \u001b[38;5;28;01mNone\u001b[39;00m\n\u001b[1;32m   1828\u001b[0m             \u001b[38;5;129;01mand\u001b[39;00m \u001b[38;5;28mself\u001b[39m\u001b[38;5;241m.\u001b[39m_selected_obj\u001b[38;5;241m.\u001b[39mshape \u001b[38;5;241m!=\u001b[39m \u001b[38;5;28mself\u001b[39m\u001b[38;5;241m.\u001b[39m_obj_with_exclusions\u001b[38;5;241m.\u001b[39mshape\n\u001b[1;32m   1829\u001b[0m         ):\n\u001b[1;32m   1830\u001b[0m             warnings\u001b[38;5;241m.\u001b[39mwarn(\n\u001b[1;32m   1831\u001b[0m                 message\u001b[38;5;241m=\u001b[39m_apply_groupings_depr\u001b[38;5;241m.\u001b[39mformat(\n\u001b[1;32m   1832\u001b[0m                     \u001b[38;5;28mtype\u001b[39m(\u001b[38;5;28mself\u001b[39m)\u001b[38;5;241m.\u001b[39m\u001b[38;5;18m__name__\u001b[39m, \u001b[38;5;124m\"\u001b[39m\u001b[38;5;124mapply\u001b[39m\u001b[38;5;124m\"\u001b[39m\n\u001b[0;32m   (...)\u001b[0m\n\u001b[1;32m   1835\u001b[0m                 stacklevel\u001b[38;5;241m=\u001b[39mfind_stack_level(),\n\u001b[1;32m   1836\u001b[0m             )\n",
      "File \u001b[0;32m~/anaconda3/envs/skmob/lib/python3.9/site-packages/pandas/core/groupby/groupby.py:1885\u001b[0m, in \u001b[0;36mGroupBy._python_apply_general\u001b[0;34m(self, f, data, not_indexed_same, is_transform, is_agg)\u001b[0m\n\u001b[1;32m   1850\u001b[0m \u001b[38;5;129m@final\u001b[39m\n\u001b[1;32m   1851\u001b[0m \u001b[38;5;28;01mdef\u001b[39;00m \u001b[38;5;21m_python_apply_general\u001b[39m(\n\u001b[1;32m   1852\u001b[0m     \u001b[38;5;28mself\u001b[39m,\n\u001b[0;32m   (...)\u001b[0m\n\u001b[1;32m   1857\u001b[0m     is_agg: \u001b[38;5;28mbool\u001b[39m \u001b[38;5;241m=\u001b[39m \u001b[38;5;28;01mFalse\u001b[39;00m,\n\u001b[1;32m   1858\u001b[0m ) \u001b[38;5;241m-\u001b[39m\u001b[38;5;241m>\u001b[39m NDFrameT:\n\u001b[1;32m   1859\u001b[0m \u001b[38;5;250m    \u001b[39m\u001b[38;5;124;03m\"\"\"\u001b[39;00m\n\u001b[1;32m   1860\u001b[0m \u001b[38;5;124;03m    Apply function f in python space\u001b[39;00m\n\u001b[1;32m   1861\u001b[0m \n\u001b[0;32m   (...)\u001b[0m\n\u001b[1;32m   1883\u001b[0m \u001b[38;5;124;03m        data after applying f\u001b[39;00m\n\u001b[1;32m   1884\u001b[0m \u001b[38;5;124;03m    \"\"\"\u001b[39;00m\n\u001b[0;32m-> 1885\u001b[0m     values, mutated \u001b[38;5;241m=\u001b[39m \u001b[38;5;28;43mself\u001b[39;49m\u001b[38;5;241;43m.\u001b[39;49m\u001b[43m_grouper\u001b[49m\u001b[38;5;241;43m.\u001b[39;49m\u001b[43mapply_groupwise\u001b[49m\u001b[43m(\u001b[49m\u001b[43mf\u001b[49m\u001b[43m,\u001b[49m\u001b[43m \u001b[49m\u001b[43mdata\u001b[49m\u001b[43m,\u001b[49m\u001b[43m \u001b[49m\u001b[38;5;28;43mself\u001b[39;49m\u001b[38;5;241;43m.\u001b[39;49m\u001b[43maxis\u001b[49m\u001b[43m)\u001b[49m\n\u001b[1;32m   1886\u001b[0m     \u001b[38;5;28;01mif\u001b[39;00m not_indexed_same \u001b[38;5;129;01mis\u001b[39;00m \u001b[38;5;28;01mNone\u001b[39;00m:\n\u001b[1;32m   1887\u001b[0m         not_indexed_same \u001b[38;5;241m=\u001b[39m mutated\n",
      "File \u001b[0;32m~/anaconda3/envs/skmob/lib/python3.9/site-packages/pandas/core/groupby/ops.py:919\u001b[0m, in \u001b[0;36mBaseGrouper.apply_groupwise\u001b[0;34m(self, f, data, axis)\u001b[0m\n\u001b[1;32m    917\u001b[0m \u001b[38;5;66;03m# group might be modified\u001b[39;00m\n\u001b[1;32m    918\u001b[0m group_axes \u001b[38;5;241m=\u001b[39m group\u001b[38;5;241m.\u001b[39maxes\n\u001b[0;32m--> 919\u001b[0m res \u001b[38;5;241m=\u001b[39m \u001b[43mf\u001b[49m\u001b[43m(\u001b[49m\u001b[43mgroup\u001b[49m\u001b[43m)\u001b[49m\n\u001b[1;32m    920\u001b[0m \u001b[38;5;28;01mif\u001b[39;00m \u001b[38;5;129;01mnot\u001b[39;00m mutated \u001b[38;5;129;01mand\u001b[39;00m \u001b[38;5;129;01mnot\u001b[39;00m _is_indexed_like(res, group_axes, axis):\n\u001b[1;32m    921\u001b[0m     mutated \u001b[38;5;241m=\u001b[39m \u001b[38;5;28;01mTrue\u001b[39;00m\n",
      "File \u001b[0;32m~/anaconda3/envs/skmob/lib/python3.9/site-packages/tqdm/std.py:912\u001b[0m, in \u001b[0;36mtqdm.pandas.<locals>.inner_generator.<locals>.inner.<locals>.wrapper\u001b[0;34m(*args, **kwargs)\u001b[0m\n\u001b[1;32m    906\u001b[0m \u001b[38;5;28;01mdef\u001b[39;00m \u001b[38;5;21mwrapper\u001b[39m(\u001b[38;5;241m*\u001b[39margs, \u001b[38;5;241m*\u001b[39m\u001b[38;5;241m*\u001b[39mkwargs):\n\u001b[1;32m    907\u001b[0m     \u001b[38;5;66;03m# update tbar correctly\u001b[39;00m\n\u001b[1;32m    908\u001b[0m     \u001b[38;5;66;03m# it seems `pandas apply` calls `func` twice\u001b[39;00m\n\u001b[1;32m    909\u001b[0m     \u001b[38;5;66;03m# on the first column/row to decide whether it can\u001b[39;00m\n\u001b[1;32m    910\u001b[0m     \u001b[38;5;66;03m# take a fast or slow code path; so stop when t.total==t.n\u001b[39;00m\n\u001b[1;32m    911\u001b[0m     t\u001b[38;5;241m.\u001b[39mupdate(n\u001b[38;5;241m=\u001b[39m\u001b[38;5;241m1\u001b[39m \u001b[38;5;28;01mif\u001b[39;00m \u001b[38;5;129;01mnot\u001b[39;00m t\u001b[38;5;241m.\u001b[39mtotal \u001b[38;5;129;01mor\u001b[39;00m t\u001b[38;5;241m.\u001b[39mn \u001b[38;5;241m<\u001b[39m t\u001b[38;5;241m.\u001b[39mtotal \u001b[38;5;28;01melse\u001b[39;00m \u001b[38;5;241m0\u001b[39m)\n\u001b[0;32m--> 912\u001b[0m     \u001b[38;5;28;01mreturn\u001b[39;00m \u001b[43mfunc\u001b[49m\u001b[43m(\u001b[49m\u001b[38;5;241;43m*\u001b[39;49m\u001b[43margs\u001b[49m\u001b[43m,\u001b[49m\u001b[43m \u001b[49m\u001b[38;5;241;43m*\u001b[39;49m\u001b[38;5;241;43m*\u001b[39;49m\u001b[43mkwargs\u001b[49m\u001b[43m)\u001b[49m\n",
      "File \u001b[0;32m~/anaconda3/envs/skmob/lib/python3.9/site-packages/skmob/measures/individual.py:459\u001b[0m, in \u001b[0;36mreal_entropy.<locals>.<lambda>\u001b[0;34m(x)\u001b[0m\n\u001b[1;32m    456\u001b[0m     \u001b[38;5;28;01mreturn\u001b[39;00m pd\u001b[38;5;241m.\u001b[39mDataFrame([_real_entropy_individual(traj)], columns\u001b[38;5;241m=\u001b[39m[sys\u001b[38;5;241m.\u001b[39m_getframe()\u001b[38;5;241m.\u001b[39mf_code\u001b[38;5;241m.\u001b[39mco_name])\n\u001b[1;32m    458\u001b[0m \u001b[38;5;28;01mif\u001b[39;00m show_progress:\n\u001b[0;32m--> 459\u001b[0m     df \u001b[38;5;241m=\u001b[39m traj\u001b[38;5;241m.\u001b[39mgroupby(constants\u001b[38;5;241m.\u001b[39mUID)\u001b[38;5;241m.\u001b[39mprogress_apply(\u001b[38;5;28;01mlambda\u001b[39;00m x: \u001b[43m_real_entropy_individual\u001b[49m\u001b[43m(\u001b[49m\u001b[43mx\u001b[49m\u001b[43m)\u001b[49m)\n\u001b[1;32m    460\u001b[0m \u001b[38;5;28;01melse\u001b[39;00m:\n\u001b[1;32m    461\u001b[0m     df \u001b[38;5;241m=\u001b[39m traj\u001b[38;5;241m.\u001b[39mgroupby(constants\u001b[38;5;241m.\u001b[39mUID)\u001b[38;5;241m.\u001b[39mapply(\u001b[38;5;28;01mlambda\u001b[39;00m x: _real_entropy_individual(x))\n",
      "File \u001b[0;32m~/anaconda3/envs/skmob/lib/python3.9/site-packages/skmob/measures/individual.py:401\u001b[0m, in \u001b[0;36m_real_entropy_individual\u001b[0;34m(traj)\u001b[0m\n\u001b[1;32m    387\u001b[0m \u001b[38;5;250m\u001b[39m\u001b[38;5;124;03m\"\"\"\u001b[39;00m\n\u001b[1;32m    388\u001b[0m \u001b[38;5;124;03mCompute the real entropy of a single individual given their TrajDataFrame.\u001b[39;00m\n\u001b[1;32m    389\u001b[0m \n\u001b[0;32m   (...)\u001b[0m\n\u001b[1;32m    398\u001b[0m \u001b[38;5;124;03m    the real entropy of the individual.\u001b[39;00m\n\u001b[1;32m    399\u001b[0m \u001b[38;5;124;03m\"\"\"\u001b[39;00m\n\u001b[1;32m    400\u001b[0m time_series \u001b[38;5;241m=\u001b[39m \u001b[38;5;28mtuple\u001b[39m(\u001b[38;5;28mmap\u001b[39m(\u001b[38;5;28mtuple\u001b[39m, traj[[constants\u001b[38;5;241m.\u001b[39mLATITUDE, constants\u001b[38;5;241m.\u001b[39mLONGITUDE]]\u001b[38;5;241m.\u001b[39mvalues))\n\u001b[0;32m--> 401\u001b[0m entropy \u001b[38;5;241m=\u001b[39m \u001b[43m_true_entropy\u001b[49m\u001b[43m(\u001b[49m\u001b[43mtime_series\u001b[49m\u001b[43m)\u001b[49m\n\u001b[1;32m    402\u001b[0m \u001b[38;5;28;01mreturn\u001b[39;00m entropy\n",
      "File \u001b[0;32m~/anaconda3/envs/skmob/lib/python3.9/site-packages/skmob/measures/individual.py:378\u001b[0m, in \u001b[0;36m_true_entropy\u001b[0;34m(sequence)\u001b[0m\n\u001b[1;32m    376\u001b[0m \u001b[38;5;28;01mfor\u001b[39;00m i \u001b[38;5;129;01min\u001b[39;00m \u001b[38;5;28mrange\u001b[39m(\u001b[38;5;241m1\u001b[39m, n \u001b[38;5;241m-\u001b[39m \u001b[38;5;241m1\u001b[39m):\n\u001b[1;32m    377\u001b[0m     j \u001b[38;5;241m=\u001b[39m i \u001b[38;5;241m+\u001b[39m \u001b[38;5;241m1\u001b[39m\n\u001b[0;32m--> 378\u001b[0m     \u001b[38;5;28;01mwhile\u001b[39;00m j \u001b[38;5;241m<\u001b[39m n \u001b[38;5;129;01mand\u001b[39;00m \u001b[43min_seq\u001b[49m\u001b[43m(\u001b[49m\u001b[43msequence\u001b[49m\u001b[43m[\u001b[49m\u001b[43m:\u001b[49m\u001b[43mi\u001b[49m\u001b[43m]\u001b[49m\u001b[43m,\u001b[49m\u001b[43m \u001b[49m\u001b[43msequence\u001b[49m\u001b[43m[\u001b[49m\u001b[43mi\u001b[49m\u001b[43m:\u001b[49m\u001b[43mj\u001b[49m\u001b[43m]\u001b[49m\u001b[43m)\u001b[49m:\n\u001b[1;32m    379\u001b[0m         j \u001b[38;5;241m+\u001b[39m\u001b[38;5;241m=\u001b[39m \u001b[38;5;241m1\u001b[39m\n\u001b[1;32m    380\u001b[0m     \u001b[38;5;28;01mif\u001b[39;00m j \u001b[38;5;241m==\u001b[39m n: j \u001b[38;5;241m+\u001b[39m\u001b[38;5;241m=\u001b[39m \u001b[38;5;241m1\u001b[39m     \u001b[38;5;66;03m# EOF character\u001b[39;00m\n",
      "File \u001b[0;32m~/anaconda3/envs/skmob/lib/python3.9/site-packages/skmob/measures/individual.py:370\u001b[0m, in \u001b[0;36m_true_entropy.<locals>.in_seq\u001b[0;34m(a, b)\u001b[0m\n\u001b[1;32m    368\u001b[0m valid \u001b[38;5;241m=\u001b[39m \u001b[38;5;28;01mTrue\u001b[39;00m\n\u001b[1;32m    369\u001b[0m \u001b[38;5;28;01mfor\u001b[39;00m j, v \u001b[38;5;129;01min\u001b[39;00m \u001b[38;5;28menumerate\u001b[39m(b):\n\u001b[0;32m--> 370\u001b[0m     \u001b[38;5;28;01mif\u001b[39;00m \u001b[43ma\u001b[49m\u001b[43m[\u001b[49m\u001b[43mi\u001b[49m\u001b[43m \u001b[49m\u001b[38;5;241;43m+\u001b[39;49m\u001b[43m \u001b[49m\u001b[43mj\u001b[49m\u001b[43m]\u001b[49m \u001b[38;5;241m!=\u001b[39m v:\n\u001b[1;32m    371\u001b[0m         valid \u001b[38;5;241m=\u001b[39m \u001b[38;5;28;01mFalse\u001b[39;00m\n\u001b[1;32m    372\u001b[0m         \u001b[38;5;28;01mbreak\u001b[39;00m\n",
      "\u001b[0;31mKeyboardInterrupt\u001b[0m: "
     ]
    }
   ],
   "source": [
    "re_df = real_entropy(tdf)\n"
   ]
  },
  {
   "cell_type": "markdown",
   "metadata": {},
   "source": [
    "## filtering"
   ]
  },
  {
   "cell_type": "code",
   "execution_count": 52,
   "metadata": {},
   "outputs": [],
   "source": [
    "threshold_2 = data[data[\"top_score\"] >= 0.2]  # from 459.728 to 457.609  # 517 politicians (1 is filtered away)\n",
    "threshold_4 = data[data[\"top_score\"] >= 0.4]  # from 459.728 to 442.854  # 516 politicians (2 is filtered away)"
   ]
  },
  {
   "cell_type": "markdown",
   "metadata": {},
   "source": [
    "## ny filtering"
   ]
  },
  {
   "cell_type": "code",
   "execution_count": 4,
   "metadata": {},
   "outputs": [],
   "source": [
    "id_B = [124955570892789, 1316372698453411]\n",
    "filtered_data = data[~data[\"page_id\"].isin(id_B)]"
   ]
  },
  {
   "cell_type": "code",
   "execution_count": 5,
   "metadata": {},
   "outputs": [
    {
     "name": "stderr",
     "output_type": "stream",
     "text": [
      "/var/folders/cr/2b4bjd0d6cscnr8h_66vmrqm0000gn/T/ipykernel_1129/1061959410.py:8: SettingWithCopyWarning: \n",
      "A value is trying to be set on a copy of a slice from a DataFrame.\n",
      "Try using .loc[row_indexer,col_indexer] = value instead\n",
      "\n",
      "See the caveats in the documentation: https://pandas.pydata.org/pandas-docs/stable/user_guide/indexing.html#returning-a-view-versus-a-copy\n",
      "  df_part1[\"page_id\"] = df_part1[\"page_id\"].replace(1316372698453411, 130000000000000)\n",
      "/var/folders/cr/2b4bjd0d6cscnr8h_66vmrqm0000gn/T/ipykernel_1129/1061959410.py:9: SettingWithCopyWarning: \n",
      "A value is trying to be set on a copy of a slice from a DataFrame.\n",
      "Try using .loc[row_indexer,col_indexer] = value instead\n",
      "\n",
      "See the caveats in the documentation: https://pandas.pydata.org/pandas-docs/stable/user_guide/indexing.html#returning-a-view-versus-a-copy\n",
      "  df_part2[\"page_id\"] = df_part2[\"page_id\"].replace(1316372698453411, 130000000000001)\n"
     ]
    }
   ],
   "source": [
    "filtered_data_a = data[data[\"page_id\"].isin([1316372698453411])]\n",
    "midpoint = len(filtered_data_a) // 2\n",
    "\n",
    "# Split the DataFrame into two parts\n",
    "df_part1 = filtered_data_a.iloc[:midpoint]\n",
    "df_part2 = filtered_data_a.iloc[midpoint:]\n",
    "\n",
    "df_part1[\"page_id\"] = df_part1[\"page_id\"].replace(1316372698453411, 130000000000000)\n",
    "df_part2[\"page_id\"] = df_part2[\"page_id\"].replace(1316372698453411, 130000000000001)"
   ]
  },
  {
   "cell_type": "code",
   "execution_count": 13,
   "metadata": {},
   "outputs": [
    {
     "name": "stderr",
     "output_type": "stream",
     "text": [
      "/var/folders/cr/2b4bjd0d6cscnr8h_66vmrqm0000gn/T/ipykernel_14238/1023623031.py:8: SettingWithCopyWarning: \n",
      "A value is trying to be set on a copy of a slice from a DataFrame.\n",
      "Try using .loc[row_indexer,col_indexer] = value instead\n",
      "\n",
      "See the caveats in the documentation: https://pandas.pydata.org/pandas-docs/stable/user_guide/indexing.html#returning-a-view-versus-a-copy\n",
      "  df_part1_b[\"page_id\"] = df_part1_b[\"page_id\"].replace(124955570892789, 120000000000000)\n",
      "/var/folders/cr/2b4bjd0d6cscnr8h_66vmrqm0000gn/T/ipykernel_14238/1023623031.py:9: SettingWithCopyWarning: \n",
      "A value is trying to be set on a copy of a slice from a DataFrame.\n",
      "Try using .loc[row_indexer,col_indexer] = value instead\n",
      "\n",
      "See the caveats in the documentation: https://pandas.pydata.org/pandas-docs/stable/user_guide/indexing.html#returning-a-view-versus-a-copy\n",
      "  df_part2_b[\"page_id\"] = df_part2_b[\"page_id\"].replace(124955570892789, 120000000000001)\n"
     ]
    }
   ],
   "source": [
    "filtered_data_b = threshold_4[threshold_4[\"page_id\"].isin([124955570892789])]\n",
    "midpoint = len(filtered_data_b) // 2\n",
    "\n",
    "# Split the DataFrame into two parts\n",
    "df_part1_b = filtered_data_b.iloc[:midpoint]\n",
    "df_part2_b = filtered_data_b.iloc[midpoint:]\n",
    "\n",
    "df_part1_b[\"page_id\"] = df_part1_b[\"page_id\"].replace(124955570892789, 120000000000000)\n",
    "df_part2_b[\"page_id\"] = df_part2_b[\"page_id\"].replace(124955570892789, 120000000000001)"
   ]
  },
  {
   "cell_type": "code",
   "execution_count": 14,
   "metadata": {},
   "outputs": [],
   "source": [
    "combined_df = pd.concat(\n",
    "    [filtered_data, df_part1, df_part2, df_part2_b, df_part1_b], ignore_index=True\n",
    ")"
   ]
  },
  {
   "cell_type": "code",
   "execution_count": 7,
   "metadata": {},
   "outputs": [],
   "source": [
    "df_part2.to_csv(\"alex2_krampe.csv\")"
   ]
  },
  {
   "cell_type": "code",
   "execution_count": 20,
   "metadata": {},
   "outputs": [
    {
     "data": {
      "text/plain": [
       "Unnamed: 0                  442854\n",
       "ad_creation_time              1233\n",
       "ad_creative_body             53846\n",
       "spend                           42\n",
       "impressions                     39\n",
       "delivery_by_region          327047\n",
       "demographic_distribution    442364\n",
       "page_id                        518\n",
       "page_name                      551\n",
       "bylines                        948\n",
       "id                          442854\n",
       "spend_lo                        42\n",
       "spend_hi                        42\n",
       "impressions_lo                  39\n",
       "impressions_hi                  39\n",
       "party                            2\n",
       "state                           54\n",
       "labels                       51888\n",
       "scores                       53592\n",
       "top_label                       16\n",
       "top_score                    51686\n",
       "dtype: int64"
      ]
     },
     "execution_count": 20,
     "metadata": {},
     "output_type": "execute_result"
    }
   ],
   "source": [
    "combined_df.nunique()"
   ]
  },
  {
   "cell_type": "markdown",
   "metadata": {},
   "source": [
    "## running through threshold >= 2"
   ]
  },
  {
   "cell_type": "code",
   "execution_count": 53,
   "metadata": {},
   "outputs": [
    {
     "name": "stdout",
     "output_type": "stream",
     "text": [
      "<class 'pandas.core.frame.DataFrame'>\n",
      "Index: 457609 entries, 0 to 459727\n",
      "Data columns (total 22 columns):\n",
      " #   Column                    Non-Null Count   Dtype  \n",
      "---  ------                    --------------   -----  \n",
      " 0   Unnamed: 0.1              457609 non-null  int64  \n",
      " 1   Unnamed: 0                457609 non-null  int64  \n",
      " 2   ad_creation_time          457609 non-null  object \n",
      " 3   ad_creative_body          457609 non-null  object \n",
      " 4   spend                     457609 non-null  float64\n",
      " 5   impressions               457609 non-null  float64\n",
      " 6   delivery_by_region        457609 non-null  object \n",
      " 7   demographic_distribution  457609 non-null  object \n",
      " 8   page_id                   457609 non-null  int64  \n",
      " 9   page_name                 457609 non-null  object \n",
      " 10  bylines                   456391 non-null  object \n",
      " 11  id                        457609 non-null  int64  \n",
      " 12  spend_lo                  457609 non-null  int64  \n",
      " 13  spend_hi                  457609 non-null  int64  \n",
      " 14  impressions_lo            457609 non-null  int64  \n",
      " 15  impressions_hi            457609 non-null  int64  \n",
      " 16  party                     457609 non-null  object \n",
      " 17  state                     457609 non-null  object \n",
      " 18  labels                    457609 non-null  object \n",
      " 19  scores                    457609 non-null  object \n",
      " 20  top_label                 457609 non-null  object \n",
      " 21  top_score                 457609 non-null  float64\n",
      "dtypes: float64(3), int64(8), object(11)\n",
      "memory usage: 80.3+ MB\n"
     ]
    }
   ],
   "source": [
    "threshold_2.info()"
   ]
  },
  {
   "cell_type": "code",
   "execution_count": 54,
   "metadata": {},
   "outputs": [],
   "source": [
    "threshold_2 = threshold_2[threshold_2[\"page_id\"] == 6358769182]"
   ]
  },
  {
   "cell_type": "code",
   "execution_count": 55,
   "metadata": {},
   "outputs": [
    {
     "name": "stdout",
     "output_type": "stream",
     "text": [
      "<class 'pandas.core.frame.DataFrame'>\n",
      "Index: 0 entries\n",
      "Data columns (total 22 columns):\n",
      " #   Column                    Non-Null Count  Dtype  \n",
      "---  ------                    --------------  -----  \n",
      " 0   Unnamed: 0.1              0 non-null      int64  \n",
      " 1   Unnamed: 0                0 non-null      int64  \n",
      " 2   ad_creation_time          0 non-null      object \n",
      " 3   ad_creative_body          0 non-null      object \n",
      " 4   spend                     0 non-null      float64\n",
      " 5   impressions               0 non-null      float64\n",
      " 6   delivery_by_region        0 non-null      object \n",
      " 7   demographic_distribution  0 non-null      object \n",
      " 8   page_id                   0 non-null      int64  \n",
      " 9   page_name                 0 non-null      object \n",
      " 10  bylines                   0 non-null      object \n",
      " 11  id                        0 non-null      int64  \n",
      " 12  spend_lo                  0 non-null      int64  \n",
      " 13  spend_hi                  0 non-null      int64  \n",
      " 14  impressions_lo            0 non-null      int64  \n",
      " 15  impressions_hi            0 non-null      int64  \n",
      " 16  party                     0 non-null      object \n",
      " 17  state                     0 non-null      object \n",
      " 18  labels                    0 non-null      object \n",
      " 19  scores                    0 non-null      object \n",
      " 20  top_label                 0 non-null      object \n",
      " 21  top_score                 0 non-null      float64\n",
      "dtypes: float64(3), int64(8), object(11)\n",
      "memory usage: 0.0+ bytes\n"
     ]
    }
   ],
   "source": [
    "threshold_2.info()"
   ]
  },
  {
   "cell_type": "code",
   "execution_count": 31,
   "metadata": {},
   "outputs": [],
   "source": [
    "# b = pd.read_csv(\"/Users/sofiepalmuskronborg/Desktop/minus_ba.csv\", index_col=0)\n",
    "threshold_2 = threshold_2[[\"page_id\", \"top_label\", \"ad_creation_time\"]]\n",
    "\n",
    "threshold_2[\"top_label_int\"] = (\n",
    "    pd.factorize(threshold_2[\"top_label\"], sort=True)[0] + 1\n",
    ")  # convert Categories to float starting from 1.0 alphabetically\n",
    "\n",
    "threshold_2[\"lat\"] = 0.0\n",
    "\n",
    "tdf_2 = skmob.TrajDataFrame(\n",
    "    threshold_2,\n",
    "    latitude=\"lat\",\n",
    "    longitude=\"top_label_int\",\n",
    "    datetime=\"ad_creation_time\",\n",
    "    user_id=\"page_id\",\n",
    ")\n"
   ]
  },
  {
   "cell_type": "code",
   "execution_count": 32,
   "metadata": {},
   "outputs": [
    {
     "name": "stderr",
     "output_type": "stream",
     "text": [
      "100%|██████████| 517/517 [00:05<00:00, 92.58it/s] \n"
     ]
    }
   ],
   "source": [
    "# uncorrelated + real entropy\n",
    "ue_df_2 = uncorrelated_entropy(tdf_2, normalize=False)\n",
    "#re_df_2 = real_entropy(tdf_2)"
   ]
  },
  {
   "cell_type": "code",
   "execution_count": 33,
   "metadata": {},
   "outputs": [],
   "source": [
    "data_un = data_entr.drop_duplicates(\n",
    "    subset=[\"page_id\"]\n",
    ")  # narrowing down to 518 politicians\n",
    "data_un = pd.merge(\n",
    "    data_un, ue_df_2, left_on=\"page_id\", right_on=\"uid\", how=\"left\"\n",
    ")  # mapping uncorrealted values back to dataframe with 518 politicians\n",
    "data_un = data_un.drop(\"uid\", axis=1)\n",
    "data_un.rename(\n",
    "    columns={\n",
    "        \"uncorrelated_entropy_x\": \"uncor_entropy\",\n",
    "        \"uncorrelated_entropy_y\": \"uncor_entropy >= 0.2\",\n",
    "    },\n",
    "    inplace=True,\n",
    ")"
   ]
  },
  {
   "cell_type": "code",
   "execution_count": 21,
   "metadata": {},
   "outputs": [
    {
     "data": {
      "text/html": [
       "<div>\n",
       "<style scoped>\n",
       "    .dataframe tbody tr th:only-of-type {\n",
       "        vertical-align: middle;\n",
       "    }\n",
       "\n",
       "    .dataframe tbody tr th {\n",
       "        vertical-align: top;\n",
       "    }\n",
       "\n",
       "    .dataframe thead th {\n",
       "        text-align: right;\n",
       "    }\n",
       "</style>\n",
       "<table border=\"1\" class=\"dataframe\">\n",
       "  <thead>\n",
       "    <tr style=\"text-align: right;\">\n",
       "      <th></th>\n",
       "      <th>ad_creative_body</th>\n",
       "      <th>spend</th>\n",
       "      <th>impressions</th>\n",
       "      <th>delivery_by_region</th>\n",
       "      <th>demographic_distribution</th>\n",
       "      <th>page_id</th>\n",
       "      <th>page_name</th>\n",
       "      <th>bylines</th>\n",
       "      <th>id</th>\n",
       "      <th>spend_lo</th>\n",
       "      <th>...</th>\n",
       "      <th>impressions_hi</th>\n",
       "      <th>party</th>\n",
       "      <th>state</th>\n",
       "      <th>labels</th>\n",
       "      <th>scores</th>\n",
       "      <th>top_label</th>\n",
       "      <th>top_score</th>\n",
       "      <th>uncorrelated_entropy</th>\n",
       "      <th>real_entropy</th>\n",
       "      <th>uncorrelated_entropy &gt;= 0.2</th>\n",
       "    </tr>\n",
       "  </thead>\n",
       "  <tbody>\n",
       "    <tr>\n",
       "      <th>0</th>\n",
       "      <td>Every kid in America should have the same acce...</td>\n",
       "      <td>49.5</td>\n",
       "      <td>499.5</td>\n",
       "      <td>[{'percentage': '0.001175', 'region': 'Alabama...</td>\n",
       "      <td>[{'percentage': '0.003529', 'age': '25-34', 'g...</td>\n",
       "      <td>38471053686</td>\n",
       "      <td>Elizabeth Warren</td>\n",
       "      <td>WARREN FOR PRESIDENT, INC.</td>\n",
       "      <td>488348208497291</td>\n",
       "      <td>0</td>\n",
       "      <td>...</td>\n",
       "      <td>999</td>\n",
       "      <td>Democrat</td>\n",
       "      <td>MA</td>\n",
       "      <td>['Education and Culture', 'Call for Action', '...</td>\n",
       "      <td>[0.521308422088623, 0.4189971387386322, 0.0142...</td>\n",
       "      <td>Education and Culture</td>\n",
       "      <td>0.521308422088623</td>\n",
       "      <td>1.595782</td>\n",
       "      <td>0.382612</td>\n",
       "      <td>1.586605</td>\n",
       "    </tr>\n",
       "    <tr>\n",
       "      <th>1</th>\n",
       "      <td>Scott Pruitt is a climate change denier and he...</td>\n",
       "      <td>49.5</td>\n",
       "      <td>2499.5</td>\n",
       "      <td>[{'percentage': '1', 'region': 'Michigan'}]</td>\n",
       "      <td>[{'percentage': '0.019285', 'age': '18-24', 'g...</td>\n",
       "      <td>8408030527</td>\n",
       "      <td>Debbie Stabenow</td>\n",
       "      <td>Stabenow for U.S. Senate</td>\n",
       "      <td>2081170495464207</td>\n",
       "      <td>0</td>\n",
       "      <td>...</td>\n",
       "      <td>2999</td>\n",
       "      <td>Democrat</td>\n",
       "      <td>MI</td>\n",
       "      <td>['Call for Action', 'Climate', 'Other', 'Defen...</td>\n",
       "      <td>[0.9937354326248169, 0.003931672777980566, 0.0...</td>\n",
       "      <td>Call for Action</td>\n",
       "      <td>0.9937354326248169</td>\n",
       "      <td>1.446338</td>\n",
       "      <td>0.879410</td>\n",
       "      <td>1.446338</td>\n",
       "    </tr>\n",
       "    <tr>\n",
       "      <th>2</th>\n",
       "      <td>I’m humbly asking you: can you donate to suppo...</td>\n",
       "      <td>49.5</td>\n",
       "      <td>499.5</td>\n",
       "      <td>[{'percentage': '0.006186', 'region': 'Alaska'...</td>\n",
       "      <td>[{'percentage': '0.002062', 'age': '25-34', 'g...</td>\n",
       "      <td>828902563856302</td>\n",
       "      <td>Chuck Schumer D-NY</td>\n",
       "      <td>FRIENDS OF SCHUMER</td>\n",
       "      <td>297075041792749</td>\n",
       "      <td>0</td>\n",
       "      <td>...</td>\n",
       "      <td>999</td>\n",
       "      <td>Democrat</td>\n",
       "      <td>NY</td>\n",
       "      <td>['Call for Action', 'Other', 'Climate', 'Defen...</td>\n",
       "      <td>[0.9946742653846741, 0.001705612288787961, 0.0...</td>\n",
       "      <td>Call for Action</td>\n",
       "      <td>0.9946742653846741</td>\n",
       "      <td>1.166299</td>\n",
       "      <td>0.644102</td>\n",
       "      <td>1.151984</td>\n",
       "    </tr>\n",
       "    <tr>\n",
       "      <th>3</th>\n",
       "      <td>Ayanna’s bold, progressive leadership has neve...</td>\n",
       "      <td>49.5</td>\n",
       "      <td>499.5</td>\n",
       "      <td>[{'percentage': '0.018519', 'region': 'Alaska'...</td>\n",
       "      <td>[{'percentage': '0.009259', 'age': '35-44', 'g...</td>\n",
       "      <td>79820371749</td>\n",
       "      <td>Ayanna Pressley</td>\n",
       "      <td>THE COMMITTEE TO ELECT AYANNA PRESSLEY</td>\n",
       "      <td>411627883927859</td>\n",
       "      <td>0</td>\n",
       "      <td>...</td>\n",
       "      <td>999</td>\n",
       "      <td>Democrat</td>\n",
       "      <td>MA</td>\n",
       "      <td>['Call for Action', 'Defense', 'Labor and Empl...</td>\n",
       "      <td>[0.5172978043556213, 0.47809359431266785, 0.00...</td>\n",
       "      <td>Call for Action</td>\n",
       "      <td>0.5172978043556213</td>\n",
       "      <td>0.573872</td>\n",
       "      <td>0.121228</td>\n",
       "      <td>0.572437</td>\n",
       "    </tr>\n",
       "    <tr>\n",
       "      <th>4</th>\n",
       "      <td>When you contribute to our campaign, you’re no...</td>\n",
       "      <td>49.5</td>\n",
       "      <td>2499.5</td>\n",
       "      <td>[{'percentage': '0.00066', 'region': 'Mississi...</td>\n",
       "      <td>[{'percentage': '0.000657', 'age': '18-24', 'g...</td>\n",
       "      <td>134597023235240</td>\n",
       "      <td>Rashida Tlaib</td>\n",
       "      <td>RASHIDA TLAIB FOR CONGRESS</td>\n",
       "      <td>136549268563064</td>\n",
       "      <td>0</td>\n",
       "      <td>...</td>\n",
       "      <td>2999</td>\n",
       "      <td>Democrat</td>\n",
       "      <td>MI</td>\n",
       "      <td>['Call for Action', 'Climate', 'Other', 'Civil...</td>\n",
       "      <td>[0.9879468679428101, 0.006698802579194307, 0.0...</td>\n",
       "      <td>Call for Action</td>\n",
       "      <td>0.9879468679428101</td>\n",
       "      <td>1.006580</td>\n",
       "      <td>0.595553</td>\n",
       "      <td>0.988705</td>\n",
       "    </tr>\n",
       "  </tbody>\n",
       "</table>\n",
       "<p>5 rows × 22 columns</p>\n",
       "</div>"
      ],
      "text/plain": [
       "                                    ad_creative_body  spend  impressions  \\\n",
       "0  Every kid in America should have the same acce...   49.5        499.5   \n",
       "1  Scott Pruitt is a climate change denier and he...   49.5       2499.5   \n",
       "2  I’m humbly asking you: can you donate to suppo...   49.5        499.5   \n",
       "3  Ayanna’s bold, progressive leadership has neve...   49.5        499.5   \n",
       "4  When you contribute to our campaign, you’re no...   49.5       2499.5   \n",
       "\n",
       "                                  delivery_by_region  \\\n",
       "0  [{'percentage': '0.001175', 'region': 'Alabama...   \n",
       "1        [{'percentage': '1', 'region': 'Michigan'}]   \n",
       "2  [{'percentage': '0.006186', 'region': 'Alaska'...   \n",
       "3  [{'percentage': '0.018519', 'region': 'Alaska'...   \n",
       "4  [{'percentage': '0.00066', 'region': 'Mississi...   \n",
       "\n",
       "                            demographic_distribution          page_id  \\\n",
       "0  [{'percentage': '0.003529', 'age': '25-34', 'g...      38471053686   \n",
       "1  [{'percentage': '0.019285', 'age': '18-24', 'g...       8408030527   \n",
       "2  [{'percentage': '0.002062', 'age': '25-34', 'g...  828902563856302   \n",
       "3  [{'percentage': '0.009259', 'age': '35-44', 'g...      79820371749   \n",
       "4  [{'percentage': '0.000657', 'age': '18-24', 'g...  134597023235240   \n",
       "\n",
       "            page_name                                 bylines  \\\n",
       "0    Elizabeth Warren              WARREN FOR PRESIDENT, INC.   \n",
       "1     Debbie Stabenow                Stabenow for U.S. Senate   \n",
       "2  Chuck Schumer D-NY                      FRIENDS OF SCHUMER   \n",
       "3     Ayanna Pressley  THE COMMITTEE TO ELECT AYANNA PRESSLEY   \n",
       "4       Rashida Tlaib              RASHIDA TLAIB FOR CONGRESS   \n",
       "\n",
       "                 id  spend_lo  ...  impressions_hi     party  state  \\\n",
       "0   488348208497291         0  ...             999  Democrat     MA   \n",
       "1  2081170495464207         0  ...            2999  Democrat     MI   \n",
       "2   297075041792749         0  ...             999  Democrat     NY   \n",
       "3   411627883927859         0  ...             999  Democrat     MA   \n",
       "4   136549268563064         0  ...            2999  Democrat     MI   \n",
       "\n",
       "                                              labels  \\\n",
       "0  ['Education and Culture', 'Call for Action', '...   \n",
       "1  ['Call for Action', 'Climate', 'Other', 'Defen...   \n",
       "2  ['Call for Action', 'Other', 'Climate', 'Defen...   \n",
       "3  ['Call for Action', 'Defense', 'Labor and Empl...   \n",
       "4  ['Call for Action', 'Climate', 'Other', 'Civil...   \n",
       "\n",
       "                                              scores              top_label  \\\n",
       "0  [0.521308422088623, 0.4189971387386322, 0.0142...  Education and Culture   \n",
       "1  [0.9937354326248169, 0.003931672777980566, 0.0...        Call for Action   \n",
       "2  [0.9946742653846741, 0.001705612288787961, 0.0...        Call for Action   \n",
       "3  [0.5172978043556213, 0.47809359431266785, 0.00...        Call for Action   \n",
       "4  [0.9879468679428101, 0.006698802579194307, 0.0...        Call for Action   \n",
       "\n",
       "            top_score uncorrelated_entropy real_entropy  \\\n",
       "0   0.521308422088623             1.595782     0.382612   \n",
       "1  0.9937354326248169             1.446338     0.879410   \n",
       "2  0.9946742653846741             1.166299     0.644102   \n",
       "3  0.5172978043556213             0.573872     0.121228   \n",
       "4  0.9879468679428101             1.006580     0.595553   \n",
       "\n",
       "   uncorrelated_entropy >= 0.2  \n",
       "0                     1.586605  \n",
       "1                     1.446338  \n",
       "2                     1.151984  \n",
       "3                     0.572437  \n",
       "4                     0.988705  \n",
       "\n",
       "[5 rows x 22 columns]"
      ]
     },
     "execution_count": 21,
     "metadata": {},
     "output_type": "execute_result"
    }
   ],
   "source": [
    "data_un.head(5)"
   ]
  },
  {
   "cell_type": "markdown",
   "metadata": {},
   "source": [
    "## running through threshold >= 4"
   ]
  },
  {
   "cell_type": "code",
   "execution_count": 34,
   "metadata": {},
   "outputs": [],
   "source": [
    "# b = pd.read_csv(\"/Users/sofiepalmuskronborg/Desktop/minus_ba.csv\", index_col=0)\n",
    "threshold_4 = threshold_4[[\"page_id\", \"top_label\", \"ad_creation_time\"]]\n",
    "\n",
    "threshold_4[\"top_label_int\"] = (\n",
    "    pd.factorize(threshold_4[\"top_label\"], sort=True)[0] + 1\n",
    ")  # convert Categories to float starting from 1.0 alphabetically\n",
    "\n",
    "threshold_4[\"lat\"] = 0.0\n",
    "\n",
    "tdf_4 = skmob.TrajDataFrame(\n",
    "    threshold_4,\n",
    "    latitude=\"lat\",\n",
    "    longitude=\"top_label_int\",\n",
    "    datetime=\"ad_creation_time\",\n",
    "    user_id=\"page_id\",\n",
    ")"
   ]
  },
  {
   "cell_type": "code",
   "execution_count": 35,
   "metadata": {},
   "outputs": [
    {
     "name": "stderr",
     "output_type": "stream",
     "text": [
      "100%|██████████| 516/516 [00:06<00:00, 79.19it/s] \n"
     ]
    }
   ],
   "source": [
    "# uncorrelated + real entropy\n",
    "ue_df_4 = uncorrelated_entropy(tdf_4, normalize=False)\n",
    "# re_df_2 = real_entropy(tdf_2)"
   ]
  },
  {
   "cell_type": "code",
   "execution_count": 36,
   "metadata": {},
   "outputs": [],
   "source": [
    "data_un = pd.merge(\n",
    "    data_un, ue_df_4, left_on=\"page_id\", right_on=\"uid\", how=\"left\"\n",
    ")  # mapping uncorrealted values back to dataframe with 518 politicians\n",
    "data_un = data_un.drop(\"uid\", axis=1)\n",
    "data_un.rename(\n",
    "    columns={\n",
    "        \"uncorrelated_entropy\": \"uncor_entropy >= 0.4\",\n",
    "    },\n",
    "    inplace=True,\n",
    ")"
   ]
  },
  {
   "cell_type": "code",
   "execution_count": 38,
   "metadata": {},
   "outputs": [],
   "source": [
    "data_un.to_csv(\"data_threshold_entropy.csv\")"
   ]
  },
  {
   "cell_type": "code",
   "execution_count": 4,
   "metadata": {},
   "outputs": [],
   "source": [
    "data_done = pd.read_csv(\"minus_cfa_plus_entropy.csv\", index_col=0)"
   ]
  },
  {
   "cell_type": "markdown",
   "metadata": {},
   "source": [
    "## filtering away Call for Action"
   ]
  },
  {
   "cell_type": "code",
   "execution_count": 4,
   "metadata": {},
   "outputs": [],
   "source": [
    "data_filt = data[\n",
    "    data[\"top_label\"] != \"Call for Action\"\n",
    "]  # from 459.728 to 106.240  # 498 politicians (20 are filtered away)"
   ]
  },
  {
   "cell_type": "code",
   "execution_count": 65,
   "metadata": {},
   "outputs": [
    {
     "name": "stderr",
     "output_type": "stream",
     "text": [
      "100%|██████████| 498/498 [00:06<00:00, 79.04it/s] \n"
     ]
    }
   ],
   "source": [
    "data_filt = data_filt[[\"page_id\", \"page_name\", \"party\", \"top_label\", \"ad_creation_time\"]]\n",
    "\n",
    "data_filt[\"top_label_int\"] = (\n",
    "    pd.factorize(data_filt[\"top_label\"], sort=True)[0] + 1\n",
    ")  # convert Categories to float starting from 1.0 alphabetically\n",
    "\n",
    "data_filt[\"lat\"] = 0.0\n",
    "\n",
    "tdf = skmob.TrajDataFrame(\n",
    "    data_filt,\n",
    "    latitude=\"lat\",\n",
    "    longitude=\"top_label_int\",\n",
    "    datetime=\"ad_creation_time\",\n",
    "    user_id=\"page_id\",\n",
    ")\n",
    "ue_df_2 = uncorrelated_entropy(tdf, normalize=False)"
   ]
  },
  {
   "cell_type": "code",
   "execution_count": 63,
   "metadata": {},
   "outputs": [],
   "source": [
    "data = pd.read_csv(\n",
    "    \"/Users/sofiepalmuskronborg/Desktop/minus_cfa_batch_done.csv\",\n",
    "    names=[\"uid\", \"minus_cfa real entropy\"],\n",
    "    header=None,\n",
    ")"
   ]
  },
  {
   "cell_type": "code",
   "execution_count": 62,
   "metadata": {},
   "outputs": [],
   "source": [
    "data_filt = pd.read_csv(\n",
    "    \"/Users/sofiepalmuskronborg/Library/CloudStorage/OneDrive-ITU/ITU/minus_cfa.csv\",index_col=0,\n",
    ")"
   ]
  },
  {
   "cell_type": "code",
   "execution_count": 66,
   "metadata": {},
   "outputs": [],
   "source": [
    "data_filt = data_filt.drop_duplicates(subset=[\"page_id\"])"
   ]
  },
  {
   "cell_type": "code",
   "execution_count": 67,
   "metadata": {},
   "outputs": [],
   "source": [
    "data_un = pd.merge(\n",
    "    data_filt, ue_df_2, left_on=\"page_id\", right_on=\"uid\", how=\"left\"\n",
    ")  # mapping uncorrealted values back to dataframe with 518 politicians\n",
    "data_un = data_un.drop(\"uid\", axis=1)"
   ]
  },
  {
   "cell_type": "code",
   "execution_count": 68,
   "metadata": {},
   "outputs": [
    {
     "data": {
      "text/html": [
       "<div>\n",
       "<style scoped>\n",
       "    .dataframe tbody tr th:only-of-type {\n",
       "        vertical-align: middle;\n",
       "    }\n",
       "\n",
       "    .dataframe tbody tr th {\n",
       "        vertical-align: top;\n",
       "    }\n",
       "\n",
       "    .dataframe thead th {\n",
       "        text-align: right;\n",
       "    }\n",
       "</style>\n",
       "<table border=\"1\" class=\"dataframe\">\n",
       "  <thead>\n",
       "    <tr style=\"text-align: right;\">\n",
       "      <th></th>\n",
       "      <th>uid</th>\n",
       "      <th>minus_cfa real entropy</th>\n",
       "    </tr>\n",
       "  </thead>\n",
       "  <tbody>\n",
       "    <tr>\n",
       "      <th>0</th>\n",
       "      <td>2222844871168340</td>\n",
       "      <td>2.190005</td>\n",
       "    </tr>\n",
       "    <tr>\n",
       "      <th>1</th>\n",
       "      <td>2225580284361712</td>\n",
       "      <td>1.865068</td>\n",
       "    </tr>\n",
       "    <tr>\n",
       "      <th>2</th>\n",
       "      <td>2382869555319923</td>\n",
       "      <td>1.445414</td>\n",
       "    </tr>\n",
       "    <tr>\n",
       "      <th>3</th>\n",
       "      <td>2429204567121956</td>\n",
       "      <td>0.666667</td>\n",
       "    </tr>\n",
       "    <tr>\n",
       "      <th>4</th>\n",
       "      <td>2452029394813890</td>\n",
       "      <td>2.415119</td>\n",
       "    </tr>\n",
       "  </tbody>\n",
       "</table>\n",
       "</div>"
      ],
      "text/plain": [
       "                uid  minus_cfa real entropy\n",
       "0  2222844871168340                2.190005\n",
       "1  2225580284361712                1.865068\n",
       "2  2382869555319923                1.445414\n",
       "3  2429204567121956                0.666667\n",
       "4  2452029394813890                2.415119"
      ]
     },
     "execution_count": 68,
     "metadata": {},
     "output_type": "execute_result"
    }
   ],
   "source": [
    "data.head(5)"
   ]
  },
  {
   "cell_type": "code",
   "execution_count": 69,
   "metadata": {},
   "outputs": [],
   "source": [
    "data_done = pd.merge(\n",
    "    data_un, data, left_on=\"page_id\", right_on=\"uid\", how=\"left\"\n",
    ")  # mapping uncorrealted values back to dataframe with 518 politicians\n",
    "data_done = data_done.drop(\"uid\", axis=1)"
   ]
  },
  {
   "cell_type": "code",
   "execution_count": 23,
   "metadata": {},
   "outputs": [],
   "source": [
    "data_done = pd.read_csv(\n",
    "    \"/Users/sofiepalmuskronborg/Desktop/Thesis/csv files/minus_cfa_plus_entropy.csv\"\n",
    ")"
   ]
  },
  {
   "cell_type": "code",
   "execution_count": 4,
   "metadata": {},
   "outputs": [
    {
     "data": {
      "image/png": "[encoded data removed]",
      "text/plain": [
       "<Figure size 1200x400 with 2 Axes>"
      ]
     },
     "metadata": {},
     "output_type": "display_data"
    }
   ],
   "source": [
    "import numpy as np\n",
    "import matplotlib.pyplot as plt\n",
    "\n",
    "# Calculate and normalize values for uncorrelated entropy\n",
    "values_uncor, bins = np.histogram(\n",
    "    data_done[\"uncorrelated_entropy\"], bins=np.linspace(0, 3.6, 19)\n",
    ")\n",
    "values_uncor = values_uncor / sum(values_uncor)\n",
    "\n",
    "# Calculate and normalize values for real entropy\n",
    "values_real, bins = np.histogram(\n",
    "    data_done[\"minus_cfa real entropy\"], bins= bins)\n",
    "\n",
    "values_real = values_real / sum(values_real)\n",
    "\n",
    "fig, axes = plt.subplots(nrows=1, ncols=2, figsize=(12, 4))\n",
    "\n",
    "axes[0].bar(\n",
    "    bins[:-1],\n",
    "    values_uncor,\n",
    "    align=\"edge\",\n",
    "    width=bins[1] - bins[0],\n",
    "    color=\"lightgrey\",\n",
    "    edgecolor=\"black\",\n",
    ")\n",
    "axes[0].set_title(\"uncorrelated entropy - minus CFA\")\n",
    "axes[0].set_ylabel(\"probability density\")\n",
    "axes[0].set_xlabel(\"uncorrelated entropy\")\n",
    "\n",
    "axes[1].bar(\n",
    "    bins[:-1],\n",
    "    values_real,\n",
    "    align=\"edge\",\n",
    "    width=bins[1] - bins[0],\n",
    "    color=\"lightgrey\",\n",
    "    edgecolor=\"black\",\n",
    ")\n",
    "axes[1].set_title(\"real entropy - minus CFA\")\n",
    "axes[1].set_ylabel(\"probability density\")\n",
    "axes[1].set_xlabel(\"real entropy\")\n",
    "axes[1].set_ylim(0, 0.14)\n",
    "\n",
    "plt.tight_layout()\n",
    "plt.show()"
   ]
  },
  {
   "cell_type": "markdown",
   "metadata": {},
   "source": [
    "## correlated plots"
   ]
  },
  {
   "cell_type": "code",
   "execution_count": 18,
   "metadata": {},
   "outputs": [],
   "source": [
    "df1 = data_done[data_done[\"party\"] == \"Democrat\"]\n",
    "df2 = data_done[data_done[\"party\"] == \"Republican\"]\n",
    "\n",
    "# normalize values for uncor + real entropy for Democrat\n",
    "values_uncor_d, bins = np.histogram(\n",
    "    df1[\"uncorrelated_entropy\"], bins=np.linspace(0, 3.6, 19)\n",
    ")\n",
    "values_uncor_d = values_uncor_d / sum(values_uncor_d)\n",
    "\n",
    "values_real_d, bins = np.histogram(\n",
    "    df1[\"minus_cfa real entropy\"], bins=np.linspace(0, 3.6, 19)\n",
    ")\n",
    "values_real_d = values_real_d / sum(values_real_d)\n",
    "\n",
    "# normalize values for uncor + real entropy for Republican\n",
    "values_uncor_r, bins = np.histogram(df2[\"uncorrelated_entropy\"], bins=bins)\n",
    "values_uncor_r = values_uncor_r / sum(values_uncor_r)\n",
    "\n",
    "values_real_r, bins = np.histogram(df2[\"minus_cfa real entropy\"], bins=bins)\n",
    "values_real_r = values_real_r / sum(values_real_r)"
   ]
  },
  {
   "cell_type": "code",
   "execution_count": 19,
   "metadata": {},
   "outputs": [],
   "source": [
    "# ensure the line starts at 0 + ends at 0\n",
    "\n",
    "# uncor\n",
    "values_uncor_d = np.insert(values_uncor_d, 0, 0)\n",
    "values_uncor_d = np.append(values_uncor_d, 0)\n",
    "\n",
    "values_uncor_r = np.insert(values_uncor_r, 0, 0)\n",
    "values_uncor_r = np.append(values_uncor_r, 0)\n",
    "\n",
    "# real\n",
    "values_real_d = np.insert(values_real_d, 0, 0)\n",
    "values_real_d = np.append(values_real_d, 0)\n",
    "\n",
    "values_real_r = np.insert(values_real_r, 0, 0)\n",
    "values_real_r = np.append(values_real_r, 0)"
   ]
  },
  {
   "cell_type": "code",
   "execution_count": 20,
   "metadata": {},
   "outputs": [
    {
     "data": {
      "image/png": "[encoded data removed]",
      "text/plain": [
       "<Figure size 1200x400 with 2 Axes>"
      ]
     },
     "metadata": {},
     "output_type": "display_data"
    }
   ],
   "source": [
    "# two plots\n",
    "fig, axes = plt.subplots(nrows=1, ncols=1, figsize=(12, 4))\n",
    "\n",
    "bins = np.append(bins, bins[-1] + (bins[1] - bins[0]))\n",
    "\n",
    "axes[0].step(\n",
    "    bins[:-1],\n",
    "    values_uncor_d[:-1],\n",
    "    label=\"Democrats\",\n",
    "    color=\"blue\",\n",
    ")\n",
    "\n",
    "axes[0].step(\n",
    "    bins[:-1],\n",
    "    values_uncor_r[:-1],\n",
    "    label=\"Republican\",\n",
    "    color=\"red\",\n",
    ")\n",
    "\n",
    "\n",
    "axes[0].set_title(\"uncorrelated entropy (without 'Call for Action')\", fontsize=16)\n",
    "axes[0].set_ylabel(\"probability density\")\n",
    "axes[0].set_xlabel(\"uncorrelated entropy\")\n",
    "axes[0].set_ylim(bottom=0)\n",
    "axes[0].legend()\n",
    "\n",
    "axes[1].step(\n",
    "    bins[:-1],\n",
    "    values_real_d[:-1],\n",
    "    label=\"Democrat\",\n",
    "    color=\"blue\",\n",
    ")\n",
    "\n",
    "axes[1].step(\n",
    "    bins[:-1],\n",
    "    values_real_r[:-1],\n",
    "    label=\"Republican\",\n",
    "    color=\"red\",\n",
    ")\n",
    "\n",
    "axes[1].set_title(\"real entropy (without 'Call for Action')\", fontsize=16)\n",
    "axes[1].set_ylabel(\"probability density\")\n",
    "axes[1].set_xlabel(\"uncorrelated entropy\")\n",
    "axes[1].set_ylim(bottom=0)\n",
    "axes[1].legend()\n",
    "axes[1].set_ylim(0, 0.16)\n",
    "axes[0].set_ylim(0, 0.16)\n",
    "\n",
    "\n",
    "# keep only two decimal numbers\n",
    "import matplotlib.ticker as ticker\n",
    "\n",
    "formatter = ticker.FormatStrFormatter(\"%.2f\")\n",
    "axes[0].yaxis.set_major_formatter(formatter)\n",
    "axes[1].yaxis.set_major_formatter(formatter)\n",
    "\n",
    "\n",
    "plt.tight_layout()"
   ]
  },
  {
   "cell_type": "code",
   "execution_count": 45,
   "metadata": {},
   "outputs": [
    {
     "data": {
      "image/png": "[encoded data removed]",
      "text/plain": [
       "<Figure size 640x480 with 1 Axes>"
      ]
     },
     "metadata": {},
     "output_type": "display_data"
    }
   ],
   "source": [
    "plt.step(\n",
    "    bins[:-1],\n",
    "    values_uncor_d[:-1],\n",
    "    label=\"Democrat\",\n",
    "    color=\"blue\",\n",
    ")\n",
    "\n",
    "plt.step(\n",
    "    bins[:-1],\n",
    "    values_uncor_r[:-1],\n",
    "    label=\"Republican\",\n",
    "    color=\"red\",\n",
    ")\n",
    "\n",
    "plt.title(\"Uncorrelated entropy (without 'Call for Action')\", fontsize=16)\n",
    "plt.ylabel(\"probability density\")\n",
    "plt.xlabel(\"uncorrelated entropy\")\n",
    "plt.legend()\n",
    "plt.ylim(0, 0.16)\n",
    "plt.ylim(0, 0.16)\n",
    "\n",
    "plt.tight_layout()"
   ]
  },
  {
   "cell_type": "code",
   "execution_count": 46,
   "metadata": {},
   "outputs": [
    {
     "data": {
      "image/png": "[encoded data removed]",
      "text/plain": [
       "<Figure size 640x480 with 1 Axes>"
      ]
     },
     "metadata": {},
     "output_type": "display_data"
    }
   ],
   "source": [
    "plt.step(\n",
    "    bins[:-1],\n",
    "    values_real_d[:-1],\n",
    "    label=\"Democrat\",\n",
    "    color=\"blue\",\n",
    ")\n",
    "\n",
    "plt.step(\n",
    "    bins[:-1],\n",
    "    values_real_r[:-1],\n",
    "    label=\"Republican\",\n",
    "    color=\"red\",\n",
    ")\n",
    "\n",
    "plt.title(\"Real entropy (without 'Call for Action')\", fontsize=16)\n",
    "plt.ylabel(\"probability density\")\n",
    "plt.xlabel(\"real entropy\")\n",
    "plt.legend()\n",
    "plt.ylim(0, 0.16)\n",
    "plt.ylim(0, 0.16)\n",
    "\n",
    "plt.tight_layout()"
   ]
  },
  {
   "cell_type": "code",
   "execution_count": 26,
   "metadata": {},
   "outputs": [],
   "source": [
    "data_org = pd.read_csv(\n",
    "    \"/Users/sofiepalmuskronborg/Desktop/Thesis/csv files/mandagsmagi.csv\", index_col=0\n",
    ")"
   ]
  },
  {
   "cell_type": "code",
   "execution_count": 36,
   "metadata": {},
   "outputs": [
    {
     "data": {
      "text/plain": [
       "Unnamed: 0                498\n",
       "page_id                   498\n",
       "page_name                 498\n",
       "party                       2\n",
       "top_label                  15\n",
       "ad_creation_time          296\n",
       "top_label_int              15\n",
       "lat                         1\n",
       "uncorrelated_entropy      443\n",
       "minus_cfa real entropy    452\n",
       "dtype: int64"
      ]
     },
     "execution_count": 36,
     "metadata": {},
     "output_type": "execute_result"
    }
   ],
   "source": [
    "data_done.nunique()"
   ]
  },
  {
   "cell_type": "code",
   "execution_count": 33,
   "metadata": {},
   "outputs": [],
   "source": [
    "data_org = data_org[~data_org[\"top_label\"].isin([\"Call for Action\"])]"
   ]
  },
  {
   "cell_type": "code",
   "execution_count": 32,
   "metadata": {},
   "outputs": [
    {
     "name": "stdout",
     "output_type": "stream",
     "text": [
      "<class 'pandas.core.frame.DataFrame'>\n",
      "Index: 106240 entries, 0 to 459727\n",
      "Data columns (total 21 columns):\n",
      " #   Column                    Non-Null Count   Dtype  \n",
      "---  ------                    --------------   -----  \n",
      " 0   Unnamed: 0                106240 non-null  int64  \n",
      " 1   ad_creation_time          106240 non-null  object \n",
      " 2   ad_creative_body          106240 non-null  object \n",
      " 3   spend                     106240 non-null  float64\n",
      " 4   impressions               106240 non-null  float64\n",
      " 5   delivery_by_region        106240 non-null  object \n",
      " 6   demographic_distribution  106240 non-null  object \n",
      " 7   page_id                   106240 non-null  int64  \n",
      " 8   page_name                 106240 non-null  object \n",
      " 9   bylines                   105683 non-null  object \n",
      " 10  id                        106240 non-null  int64  \n",
      " 11  spend_lo                  106240 non-null  int64  \n",
      " 12  spend_hi                  106240 non-null  int64  \n",
      " 13  impressions_lo            106240 non-null  int64  \n",
      " 14  impressions_hi            106240 non-null  int64  \n",
      " 15  party                     106240 non-null  object \n",
      " 16  state                     106240 non-null  object \n",
      " 17  labels                    106240 non-null  object \n",
      " 18  scores                    106240 non-null  object \n",
      " 19  top_label                 106240 non-null  object \n",
      " 20  top_score                 106240 non-null  float64\n",
      "dtypes: float64(3), int64(7), object(11)\n",
      "memory usage: 17.8+ MB\n"
     ]
    }
   ],
   "source": [
    "data_org.info()"
   ]
  },
  {
   "cell_type": "code",
   "execution_count": 34,
   "metadata": {},
   "outputs": [],
   "source": [
    "data_un = data_org.drop_duplicates(subset=[\"ad_creative_body\", \"page_id\"])"
   ]
  },
  {
   "cell_type": "code",
   "execution_count": 38,
   "metadata": {},
   "outputs": [
    {
     "name": "stdout",
     "output_type": "stream",
     "text": [
      "<class 'pandas.core.frame.DataFrame'>\n",
      "Index: 20275 entries, 0 to 459727\n",
      "Data columns (total 21 columns):\n",
      " #   Column                    Non-Null Count  Dtype  \n",
      "---  ------                    --------------  -----  \n",
      " 0   Unnamed: 0                20275 non-null  int64  \n",
      " 1   ad_creation_time          20275 non-null  object \n",
      " 2   ad_creative_body          20275 non-null  object \n",
      " 3   spend                     20275 non-null  float64\n",
      " 4   impressions               20275 non-null  float64\n",
      " 5   delivery_by_region        20275 non-null  object \n",
      " 6   demographic_distribution  20275 non-null  object \n",
      " 7   page_id                   20275 non-null  int64  \n",
      " 8   page_name                 20275 non-null  object \n",
      " 9   bylines                   20147 non-null  object \n",
      " 10  id                        20275 non-null  int64  \n",
      " 11  spend_lo                  20275 non-null  int64  \n",
      " 12  spend_hi                  20275 non-null  int64  \n",
      " 13  impressions_lo            20275 non-null  int64  \n",
      " 14  impressions_hi            20275 non-null  int64  \n",
      " 15  party                     20275 non-null  object \n",
      " 16  state                     20275 non-null  object \n",
      " 17  labels                    20275 non-null  object \n",
      " 18  scores                    20275 non-null  object \n",
      " 19  top_label                 20275 non-null  object \n",
      " 20  top_score                 20275 non-null  float64\n",
      "dtypes: float64(3), int64(7), object(11)\n",
      "memory usage: 3.4+ MB\n"
     ]
    }
   ],
   "source": [
    "data_un.info()"
   ]
  },
  {
   "cell_type": "code",
   "execution_count": 35,
   "metadata": {},
   "outputs": [
    {
     "name": "stdout",
     "output_type": "stream",
     "text": [
      "Stats on top labels for UNIQUE ADS :\n",
      "\n",
      "Healthcare: 3331 ads (16.43%)\n",
      "Law and Crime: 3251 ads (16.03%)\n",
      "Economy: 2587 ads (12.76%)\n",
      "Other: 1861 ads (9.18%)\n",
      "Defense: 1578 ads (7.78%)\n",
      "Immigration: 1553 ads (7.66%)\n",
      "Education and Culture: 1543 ads (7.61%)\n",
      "Climate: 1114 ads (5.49%)\n",
      "Foreign Affair: 1029 ads (5.08%)\n",
      "Labor and Employment: 828 ads (4.08%)\n",
      "Agriculture: 509 ads (2.51%)\n",
      "Civil Rights: 457 ads (2.25%)\n",
      "Transport: 271 ads (1.34%)\n",
      "Social Welfare: 189 ads (0.93%)\n",
      "Housing: 174 ads (0.86%)\n",
      "\n",
      "Stats on top labels for DUPLICATE ads:\n",
      "\n",
      "Healthcare: 20754 ads (19.54%)\n",
      "Law and Crime: 17701 ads (16.66%)\n",
      "Economy: 10691 ads (10.06%)\n",
      "Climate: 10426 ads (9.81%)\n",
      "Immigration: 9408 ads (8.86%)\n",
      "Defense: 8676 ads (8.17%)\n",
      "Other: 6747 ads (6.35%)\n",
      "Education and Culture: 5048 ads (4.75%)\n",
      "Labor and Employment: 4585 ads (4.32%)\n",
      "Foreign Affair: 4035 ads (3.80%)\n",
      "Civil Rights: 3213 ads (3.02%)\n",
      "Agriculture: 1555 ads (1.46%)\n",
      "Housing: 1192 ads (1.12%)\n",
      "Transport: 1135 ads (1.07%)\n",
      "Social Welfare: 1074 ads (1.01%)\n"
     ]
    }
   ],
   "source": [
    "###### For unique ads\n",
    "top_labels_un = (data_un[\"top_label\"].value_counts()).iloc[:18]  # all labels\n",
    "\n",
    "# calcu the amount + % for each top\n",
    "top_percentages_un = (data_un[\"top_label\"].value_counts(normalize=True).iloc[:18]) * 100\n",
    "\n",
    "# Print the counts and percentages in a readable format\n",
    "print(\"Stats on top labels for UNIQUE ADS :\\n\")\n",
    "for label, count, percentage in zip(\n",
    "    top_labels_un.index, top_labels_un.values, top_percentages_un.values\n",
    "):\n",
    "    print(f\"{label}: {count} ads ({percentage:.2f}%)\")\n",
    "\n",
    "\n",
    "###### For non-unique ads\n",
    "top_labels = (data_org[\"top_label\"].value_counts()).iloc[:18]  # all labels\n",
    "\n",
    "# calcu the amount + % for each top\n",
    "top_percentages = (data_org[\"top_label\"].value_counts(normalize=True).iloc[:18]) * 100\n",
    "\n",
    "# Print the counts and percentages in a readable format\n",
    "print(\"\\nStats on top labels for DUPLICATE ads:\\n\")\n",
    "for label, count, percentage in zip(\n",
    "    top_labels.index, top_labels.values, top_percentages.values\n",
    "):\n",
    "    print(f\"{label}: {count} ads ({percentage:.2f}%)\")"
   ]
  },
  {
   "cell_type": "code",
   "execution_count": 78,
   "metadata": {},
   "outputs": [],
   "source": [
    "data_done.to_csv(\"minus_cfa_plus_entropy.csv\")"
   ]
  },
  {
   "cell_type": "markdown",
   "metadata": {},
   "source": [
    "## Kolmogorov-Smirnov test"
   ]
  },
  {
   "cell_type": "code",
   "execution_count": null,
   "metadata": {},
   "outputs": [],
   "source": [
    "## https://www.geeksforgeeks.org/kolmogorov-smirnov-test-ks-test/"
   ]
  },
  {
   "cell_type": "code",
   "execution_count": 2,
   "metadata": {},
   "outputs": [],
   "source": [
    "import pandas as pd\n",
    "from scipy.stats import ks_2samp"
   ]
  },
  {
   "cell_type": "code",
   "execution_count": 41,
   "metadata": {},
   "outputs": [],
   "source": [
    "ks = pd.read_csv('cola_entropy.csv')"
   ]
  },
  {
   "cell_type": "code",
   "execution_count": 44,
   "metadata": {},
   "outputs": [],
   "source": [
    "#filter away bernie + alex for stats sake\n",
    "id = [124955570892789, 1316372698453411]\n",
    "ks = ks[~ks[\"page_id\"].isin(id)]"
   ]
  },
  {
   "cell_type": "code",
   "execution_count": 91,
   "metadata": {},
   "outputs": [],
   "source": [
    "ks_d = ks[ks[\"party\"] == \"Democrat\"]\n",
    "ks_r = ks[ks[\"party\"] == \"Republican\"]"
   ]
  },
  {
   "cell_type": "code",
   "execution_count": 46,
   "metadata": {},
   "outputs": [
    {
     "name": "stdout",
     "output_type": "stream",
     "text": [
      "Comparing uncorrelated entropy across the two parties\n",
      "Kolmogorov–Smirnov Statistic: 0.1597709613910639\n",
      "P-value: 0.0023502998096288875\n",
      "Reject the null hypothesis. The two samples come from different distributions.\n"
     ]
    }
   ],
   "source": [
    "## Kolmogorov-Smirnow test uncor entropy\n",
    "sample_d_uncor = ks_d[\"uncor entropy\"]\n",
    "sample_r_uncor = ks_r[\"uncor entropy\"]\n",
    "\n",
    "ks_statistic, p_value = ks_2samp(sample_d_uncor, sample_r_uncor)\n",
    "\n",
    "print(f\"Comparing uncorrelated entropy across the two parties\")\n",
    "print(f\"Kolmogorov–Smirnov Statistic: {ks_statistic}\")\n",
    "print(f\"P-value: {p_value}\")\n",
    "\n",
    "alpha = 0.05\n",
    "if p_value < alpha:\n",
    "    print(\n",
    "        \"Reject the null hypothesis. The two samples come from different distributions.\"\n",
    "    )\n",
    "else:\n",
    "    print(\n",
    "        \"Fail to reject the null hypothesis. There is not enough evidence to suggest different distributions.\"\n",
    "    )"
   ]
  },
  {
   "cell_type": "code",
   "execution_count": 48,
   "metadata": {},
   "outputs": [
    {
     "name": "stdout",
     "output_type": "stream",
     "text": [
      "Comparing real entropy across the two parties\n",
      "Kolmogorov–Smirnov Statistic: 0.2512812035047115\n",
      "P-value: 1.163138154378667e-07\n",
      "Reject the null hypothesis. The two samples come from different distributions.\n"
     ]
    }
   ],
   "source": [
    "## Kolmogorov-Smirnow test real entropy\n",
    "sample_d_real = ks_d[\"real entropy\"]\n",
    "sample_r_real = ks_r[\"real entropy\"]\n",
    "ks_statistic, p_value = ks_2samp(sample_d_real, sample_r_real)\n",
    "\n",
    "print(f\"Comparing real entropy across the two parties\")\n",
    "print(f\"Kolmogorov–Smirnov Statistic: {ks_statistic}\")\n",
    "print(f\"P-value: {p_value}\")\n",
    "\n",
    "alpha = 0.05\n",
    "if p_value < alpha:\n",
    "    print(\n",
    "        \"Reject the null hypothesis. The two samples come from different distributions.\"\n",
    "    )\n",
    "else:\n",
    "    print(\n",
    "        \"Fail to reject the null hypothesis. There is not enough evidence to suggest different distributions.\"\n",
    "    )"
   ]
  },
  {
   "cell_type": "code",
   "execution_count": 86,
   "metadata": {},
   "outputs": [
    {
     "name": "stdout",
     "output_type": "stream",
     "text": [
      "Comparing uncor entropy >=2\n",
      "Kolmogorov–Smirnov Statistic: 0.24104637480010863\n",
      "P-value: 4.549145298767737e-07\n",
      "Reject the null hypothesis. The two samples come from different distributions.\n"
     ]
    }
   ],
   "source": [
    "## Kolmogorov-Smirnow uncor entropy >=2\n",
    "\n",
    "# filtering away Steven Cohen from dataset, because he has no rows after setting th and has a nan value\n",
    "id = [6358769182]\n",
    "ks_d = ks_d[~ks_d[\"page_id\"].isin(id)]\n",
    "\n",
    "sample1 = ks_d[\"real entropy >=2\"]\n",
    "sample2 = ks_r[\"real entropy >=2\"]\n",
    "ks_statistic, p_value = ks_2samp(sample1, sample2)\n",
    "\n",
    "print(f\"Comparing uncor entropy >=2\")\n",
    "print(f\"Kolmogorov–Smirnov Statistic: {ks_statistic}\")\n",
    "print(f\"P-value: {p_value}\")\n",
    "\n",
    "alpha = 0.05\n",
    "if p_value < alpha:\n",
    "    print(\n",
    "        \"Reject the null hypothesis. The two samples come from different distributions.\"\n",
    "    )\n",
    "else:\n",
    "    print(\n",
    "        \"Fail to reject the null hypothesis. There is not enough evidence to suggest different distributions.\"\n",
    "    )"
   ]
  },
  {
   "cell_type": "code",
   "execution_count": 87,
   "metadata": {},
   "outputs": [
    {
     "name": "stdout",
     "output_type": "stream",
     "text": [
      "Comparing uncor entropy >=2\n",
      "Kolmogorov–Smirnov Statistic: 0.15846483420330085\n",
      "P-value: 0.0026475372761390597\n",
      "Reject the null hypothesis. The two samples come from different distributions.\n"
     ]
    }
   ],
   "source": [
    "## Kolmogorov-Smirnow real entropy >=2\n",
    "\n",
    "sample1 = ks_d[\"uncor entropy >=2\"]\n",
    "sample2 = ks_r[\"uncor entropy >=2\"]\n",
    "ks_statistic, p_value = ks_2samp(sample1, sample2)\n",
    "\n",
    "print(f\"Comparing uncor entropy >=2\")\n",
    "print(f\"Kolmogorov–Smirnov Statistic: {ks_statistic}\")\n",
    "print(f\"P-value: {p_value}\")\n",
    "\n",
    "alpha = 0.05\n",
    "if p_value < alpha:\n",
    "    print(\n",
    "        \"Reject the null hypothesis. The two samples come from different distributions.\"\n",
    "    )\n",
    "else:\n",
    "    print(\n",
    "        \"Fail to reject the null hypothesis. There is not enough evidence to suggest different distributions.\"\n",
    "    )"
   ]
  },
  {
   "cell_type": "code",
   "execution_count": 88,
   "metadata": {},
   "outputs": [
    {
     "name": "stdout",
     "output_type": "stream",
     "text": [
      "Comparing uncor entropy >=4\n",
      "Kolmogorov–Smirnov Statistic: 0.16566703017084697\n",
      "P-value: 0.0014573374611393107\n",
      "Reject the null hypothesis. The two samples come from different distributions.\n"
     ]
    }
   ],
   "source": [
    "## Kolmogorov-Smirnow uncor entropy >=4\n",
    "\n",
    "# filtering away Shelby Labs from dataset, because he has no rows after setting th and has a nan value\n",
    "id = [108358104117725]\n",
    "ks_r = ks_r[~ks_r[\"page_id\"].isin(id)]\n",
    "\n",
    "sample1 = ks_d[\"uncor entropy >=4\"]\n",
    "sample2 = ks_r[\"uncor entropy >=4\"]\n",
    "ks_statistic, p_value = ks_2samp(sample1, sample2)\n",
    "\n",
    "print(f\"Comparing uncor entropy >=4\")\n",
    "print(f\"Kolmogorov–Smirnov Statistic: {ks_statistic}\")\n",
    "print(f\"P-value: {p_value}\")\n",
    "\n",
    "alpha = 0.05\n",
    "if p_value < alpha:\n",
    "    print(\n",
    "        \"Reject the null hypothesis. The two samples come from different distributions.\"\n",
    "    )\n",
    "else:\n",
    "    print(\n",
    "        \"Fail to reject the null hypothesis. There is not enough evidence to suggest different distributions.\"\n",
    "    )"
   ]
  },
  {
   "cell_type": "code",
   "execution_count": 90,
   "metadata": {},
   "outputs": [
    {
     "name": "stdout",
     "output_type": "stream",
     "text": [
      "Comparing real entropy >=4\n",
      "Kolmogorov–Smirnov Statistic: 0.2324912153156428\n",
      "P-value: 1.3592746595000357e-06\n",
      "Reject the null hypothesis. The two samples come from different distributions.\n"
     ]
    }
   ],
   "source": [
    "## Kolmogorov-Smirnow real entropy >=4\n",
    "\n",
    "sample1 = ks_d[\"real_entropy >=4\"]\n",
    "sample2 = ks_r[\"real_entropy >=4\"]\n",
    "ks_statistic, p_value = ks_2samp(sample1, sample2)\n",
    "\n",
    "print(f\"Comparing real entropy >=4\")\n",
    "print(f\"Kolmogorov–Smirnov Statistic: {ks_statistic}\")\n",
    "print(f\"P-value: {p_value}\")\n",
    "\n",
    "alpha = 0.05\n",
    "if p_value < alpha:\n",
    "    print(\n",
    "        \"Reject the null hypothesis. The two samples come from different distributions.\"\n",
    "    )\n",
    "else:\n",
    "    print(\n",
    "        \"Fail to reject the null hypothesis. There is not enough evidence to suggest different distributions.\"\n",
    "    )"
   ]
  },
  {
   "cell_type": "markdown",
   "metadata": {},
   "source": [
    "## sammenligner med minus CFA"
   ]
  },
  {
   "cell_type": "code",
   "execution_count": 95,
   "metadata": {},
   "outputs": [],
   "source": [
    "df1 = data_done[data_done[\"party\"] == \"Democrat\"]\n",
    "df2 = data_done[data_done[\"party\"] == \"Republican\"]"
   ]
  },
  {
   "cell_type": "code",
   "execution_count": 101,
   "metadata": {},
   "outputs": [
    {
     "name": "stdout",
     "output_type": "stream",
     "text": [
      "Comparing uncorrelated entropy for DEMOCRATS with original dataset vs minus call for action\n",
      "Kolmogorov–Smirnov Statistic: 0.316551376609098\n",
      "P-value: 7.408934218078916e-12\n",
      "Reject the null hypothesis. The two samples come from different distributions.\n"
     ]
    }
   ],
   "source": [
    "sample1 = ks_d[\"uncor entropy\"]\n",
    "sample2 = df1[\"uncorrelated_entropy\"] # where there is no\n",
    "ks_statistic, p_value = ks_2samp(sample1, sample2)\n",
    "\n",
    "print(f\"Comparing uncorrelated entropy for DEMOCRATS with original dataset vs minus call for action\")\n",
    "print(f\"Kolmogorov–Smirnov Statistic: {ks_statistic}\")\n",
    "print(f\"P-value: {p_value}\")\n",
    "\n",
    "alpha = 0.05\n",
    "if p_value < alpha:\n",
    "    print(\n",
    "        \"Reject the null hypothesis. The two samples come from different distributions.\"\n",
    "    )\n",
    "else:\n",
    "    print(\n",
    "        \"Fail to reject the null hypothesis. There is not enough evidence to suggest different distributions.\"\n",
    "    )"
   ]
  },
  {
   "cell_type": "code",
   "execution_count": 102,
   "metadata": {},
   "outputs": [
    {
     "name": "stdout",
     "output_type": "stream",
     "text": [
      "Comparing uncorrelated entropy for REPUBLICANS with original dataset vs minus call for action\n",
      "Kolmogorov–Smirnov Statistic: 0.33669857294791816\n",
      "P-value: 3.817094528289899e-13\n",
      "Reject the null hypothesis. The two samples come from different distributions.\n"
     ]
    }
   ],
   "source": [
    "sample1 = ks_r[\"uncor entropy\"]\n",
    "sample2 = df2[\"uncorrelated_entropy\"]\n",
    "ks_statistic, p_value = ks_2samp(sample1, sample2)\n",
    "\n",
    "print(f\"Comparing uncorrelated entropy for REPUBLICANS with original dataset vs minus call for action\")\n",
    "print(f\"Kolmogorov–Smirnov Statistic: {ks_statistic}\")\n",
    "print(f\"P-value: {p_value}\")\n",
    "\n",
    "alpha = 0.05\n",
    "if p_value < alpha:\n",
    "    print(\n",
    "        \"Reject the null hypothesis. The two samples come from different distributions.\"\n",
    "    )\n",
    "else:\n",
    "    print(\n",
    "        \"Fail to reject the null hypothesis. There is not enough evidence to suggest different distributions.\"\n",
    "    )"
   ]
  },
  {
   "cell_type": "code",
   "execution_count": 103,
   "metadata": {},
   "outputs": [
    {
     "name": "stdout",
     "output_type": "stream",
     "text": [
      "Comparing real entropy for DEMOCRATS with original dataset vs minus call for action\n",
      "Kolmogorov–Smirnov Statistic: 0.21236275902087437\n",
      "P-value: 1.5040526371612142e-05\n",
      "Reject the null hypothesis. The two samples come from different distributions.\n"
     ]
    }
   ],
   "source": [
    "sample1 = ks_d[\"real entropy\"]\n",
    "sample2 = df1[\"minus_cfa real entropy\"]\n",
    "ks_statistic, p_value = ks_2samp(sample1, sample2)\n",
    "\n",
    "print(\n",
    "    f\"Comparing real entropy for DEMOCRATS with original dataset vs minus call for action\"\n",
    ")\n",
    "print(f\"Kolmogorov–Smirnov Statistic: {ks_statistic}\")\n",
    "print(f\"P-value: {p_value}\")\n",
    "\n",
    "alpha = 0.05\n",
    "if p_value < alpha:\n",
    "    print(\n",
    "        \"Reject the null hypothesis. The two samples come from different distributions.\"\n",
    "    )\n",
    "else:\n",
    "    print(\n",
    "        \"Fail to reject the null hypothesis. There is not enough evidence to suggest different distributions.\"\n",
    "    )"
   ]
  },
  {
   "cell_type": "code",
   "execution_count": 104,
   "metadata": {},
   "outputs": [
    {
     "name": "stdout",
     "output_type": "stream",
     "text": [
      "Comparing real entropy for REPUBLICANS with original dataset vs minus call for action\n",
      "Kolmogorov–Smirnov Statistic: 0.27574328936298553\n",
      "P-value: 6.285264524526123e-09\n",
      "Reject the null hypothesis. The two samples come from different distributions.\n"
     ]
    }
   ],
   "source": [
    "sample1 = ks_r[\"real entropy\"]\n",
    "sample2 = df2[\"minus_cfa real entropy\"]\n",
    "ks_statistic, p_value = ks_2samp(sample1, sample2)\n",
    "\n",
    "print(\n",
    "    f\"Comparing real entropy for REPUBLICANS with original dataset vs minus call for action\"\n",
    ")\n",
    "print(f\"Kolmogorov–Smirnov Statistic: {ks_statistic}\")\n",
    "print(f\"P-value: {p_value}\")\n",
    "\n",
    "alpha = 0.05\n",
    "if p_value < alpha:\n",
    "    print(\n",
    "        \"Reject the null hypothesis. The two samples come from different distributions.\"\n",
    "    )\n",
    "else:\n",
    "    print(\n",
    "        \"Fail to reject the null hypothesis. There is not enough evidence to suggest different distributions.\"\n",
    "    )"
   ]
  }
 ],
 "metadata": {
  "kernelspec": {
   "display_name": "skmob",
   "language": "python",
   "name": "python3"
  },
  "language_info": {
   "codemirror_mode": {
    "name": "ipython",
    "version": 3
   },
   "file_extension": ".py",
   "mimetype": "text/x-python",
   "name": "python",
   "nbconvert_exporter": "python",
   "pygments_lexer": "ipython3",
   "version": "3.9.20"
  }
 },
 "nbformat": 4,
 "nbformat_minor": 2
}
