{
 "cells": [
  {
   "cell_type": "code",
   "execution_count": 1,
   "metadata": {},
   "outputs": [],
   "source": [
    "import pickle\n",
    "from datetime import datetime\n",
    "import pandas as pd\n",
    "import numpy as np\n",
    "import nltk\n",
    "from nltk.sentiment import SentimentIntensityAnalyzer\n",
    "from collections import Counter\n",
    "from scipy.stats import pearsonr\n",
    "\n",
    "import matplotlib.pyplot as plt\n",
    "import matplotlib\n",
    "matplotlib.rc('font',**{'family':'sans-serif','sans-serif':['Helvetica'],'size':8})\n",
    "matplotlib.rcParams['pdf.fonttype'] = 42\n"
   ]
  },
  {
   "cell_type": "code",
   "execution_count": 14,
   "metadata": {},
   "outputs": [
    {
     "name": "stdout",
     "output_type": "stream",
     "text": [
      "number of ads (602544, 17)\n"
     ]
    }
   ],
   "source": [
    "# load data\n",
    "file_in = open(\"all_ads_labeled.pickle\", \"rb\")\n",
    "dat = pickle.load(file_in)\n",
    "\n",
    "print(\"number of ads\", dat.shape)"
   ]
  },
  {
   "cell_type": "code",
   "execution_count": 2,
   "metadata": {},
   "outputs": [],
   "source": [
    "data = pd.read_csv(\"ad_data.csv\")"
   ]
  },
  {
   "cell_type": "code",
   "execution_count": 3,
   "metadata": {},
   "outputs": [
    {
     "name": "stdout",
     "output_type": "stream",
     "text": [
      "number of ads (602544, 17)\n"
     ]
    }
   ],
   "source": [
    "print(\"number of ads\", data.shape)"
   ]
  },
  {
   "cell_type": "code",
   "execution_count": 33,
   "metadata": {},
   "outputs": [],
   "source": [
    "pd.reset_option(\"display.max_rows\")\n",
    "pd.reset_option(\"display.max_columns\")\n",
    "pd.reset_option(\"display.max_colwidth\")"
   ]
  },
  {
   "cell_type": "code",
   "execution_count": 41,
   "metadata": {},
   "outputs": [
    {
     "data": {
      "text/html": [
       "<div>\n",
       "<style scoped>\n",
       "    .dataframe tbody tr th:only-of-type {\n",
       "        vertical-align: middle;\n",
       "    }\n",
       "\n",
       "    .dataframe tbody tr th {\n",
       "        vertical-align: top;\n",
       "    }\n",
       "\n",
       "    .dataframe thead th {\n",
       "        text-align: right;\n",
       "    }\n",
       "</style>\n",
       "<table border=\"1\" class=\"dataframe\">\n",
       "  <thead>\n",
       "    <tr style=\"text-align: right;\">\n",
       "      <th></th>\n",
       "      <th>ad_creation_time</th>\n",
       "      <th>ad_creative_body</th>\n",
       "      <th>spend</th>\n",
       "      <th>impressions</th>\n",
       "      <th>delivery_by_region</th>\n",
       "      <th>demographic_distribution</th>\n",
       "      <th>page_id</th>\n",
       "      <th>page_name</th>\n",
       "      <th>bylines</th>\n",
       "      <th>id</th>\n",
       "      <th>spend_lo</th>\n",
       "      <th>spend_hi</th>\n",
       "      <th>impressions_lo</th>\n",
       "      <th>impressions_hi</th>\n",
       "      <th>label</th>\n",
       "      <th>party</th>\n",
       "      <th>state</th>\n",
       "    </tr>\n",
       "  </thead>\n",
       "  <tbody>\n",
       "    <tr>\n",
       "      <th>602539</th>\n",
       "      <td>2018-08-30</td>\n",
       "      <td>It’s Mike’s Birthday and he wants a clean plan...</td>\n",
       "      <td>49.5</td>\n",
       "      <td>499.5</td>\n",
       "      <td>[{'percentage': '1', 'region': 'Pennsylvania'}]</td>\n",
       "      <td>[{'percentage': '0.002494', 'age': '18-24', 'g...</td>\n",
       "      <td>174750213023790</td>\n",
       "      <td>Mike Doyle for PA Representative, 170th District</td>\n",
       "      <td>Friends To Elect Mike Doyle</td>\n",
       "      <td>228443758015782</td>\n",
       "      <td>0</td>\n",
       "      <td>99</td>\n",
       "      <td>0</td>\n",
       "      <td>999</td>\n",
       "      <td>non-climate</td>\n",
       "      <td>Democrat</td>\n",
       "      <td>PA</td>\n",
       "    </tr>\n",
       "    <tr>\n",
       "      <th>602540</th>\n",
       "      <td>2018-08-30</td>\n",
       "      <td>Send Mike a \"birthday\" gift for his 41st birth...</td>\n",
       "      <td>49.5</td>\n",
       "      <td>1499.5</td>\n",
       "      <td>[{'percentage': '1', 'region': 'Pennsylvania'}]</td>\n",
       "      <td>[{'percentage': '0.001106', 'age': '18-24', 'g...</td>\n",
       "      <td>174750213023790</td>\n",
       "      <td>Mike Doyle for PA Representative, 170th District</td>\n",
       "      <td>Friends To Elect Mike Doyle</td>\n",
       "      <td>470785400088043</td>\n",
       "      <td>0</td>\n",
       "      <td>99</td>\n",
       "      <td>1000</td>\n",
       "      <td>1999</td>\n",
       "      <td>non-climate</td>\n",
       "      <td>Democrat</td>\n",
       "      <td>PA</td>\n",
       "    </tr>\n",
       "    <tr>\n",
       "      <th>602541</th>\n",
       "      <td>2018-08-24</td>\n",
       "      <td>Mike's turning 41! Help him celebrate his birt...</td>\n",
       "      <td>49.5</td>\n",
       "      <td>499.5</td>\n",
       "      <td>[{'percentage': '1', 'region': 'Pennsylvania'}]</td>\n",
       "      <td>[{'percentage': '0.003205', 'age': '18-24', 'g...</td>\n",
       "      <td>174750213023790</td>\n",
       "      <td>Mike Doyle for PA Representative, 170th District</td>\n",
       "      <td>Friends To Elect Mike Doyle</td>\n",
       "      <td>382470918955364</td>\n",
       "      <td>0</td>\n",
       "      <td>99</td>\n",
       "      <td>0</td>\n",
       "      <td>999</td>\n",
       "      <td>non-climate</td>\n",
       "      <td>Democrat</td>\n",
       "      <td>PA</td>\n",
       "    </tr>\n",
       "    <tr>\n",
       "      <th>602542</th>\n",
       "      <td>2018-08-22</td>\n",
       "      <td>Hope to see everyone tonight!</td>\n",
       "      <td>49.5</td>\n",
       "      <td>499.5</td>\n",
       "      <td>[{'percentage': '1', 'region': 'Pennsylvania'}]</td>\n",
       "      <td>[{'percentage': '0.066806', 'age': '25-34', 'g...</td>\n",
       "      <td>174750213023790</td>\n",
       "      <td>Mike Doyle for PA Representative, 170th District</td>\n",
       "      <td>Friends To Elect Mike Doyle</td>\n",
       "      <td>457482704660129</td>\n",
       "      <td>0</td>\n",
       "      <td>99</td>\n",
       "      <td>0</td>\n",
       "      <td>999</td>\n",
       "      <td>non-climate</td>\n",
       "      <td>Democrat</td>\n",
       "      <td>PA</td>\n",
       "    </tr>\n",
       "    <tr>\n",
       "      <th>602543</th>\n",
       "      <td>2021-10-08</td>\n",
       "      <td>I am committed to helping middle-class familie...</td>\n",
       "      <td>449.5</td>\n",
       "      <td>12499.5</td>\n",
       "      <td>[{'percentage': '1', 'region': 'California'}]</td>\n",
       "      <td>[{'percentage': '0.001772', 'age': '65+', 'gen...</td>\n",
       "      <td>182567716746</td>\n",
       "      <td>Congressman John Garamendi</td>\n",
       "      <td>Office of Congressman John Garamendi</td>\n",
       "      <td>970233850221789</td>\n",
       "      <td>400</td>\n",
       "      <td>499</td>\n",
       "      <td>10000</td>\n",
       "      <td>14999</td>\n",
       "      <td>non-climate</td>\n",
       "      <td>Democrat</td>\n",
       "      <td>CA</td>\n",
       "    </tr>\n",
       "  </tbody>\n",
       "</table>\n",
       "</div>"
      ],
      "text/plain": [
       "       ad_creation_time                                   ad_creative_body   \n",
       "602539       2018-08-30  It’s Mike’s Birthday and he wants a clean plan...  \\\n",
       "602540       2018-08-30  Send Mike a \"birthday\" gift for his 41st birth...   \n",
       "602541       2018-08-24  Mike's turning 41! Help him celebrate his birt...   \n",
       "602542       2018-08-22                      Hope to see everyone tonight!   \n",
       "602543       2021-10-08  I am committed to helping middle-class familie...   \n",
       "\n",
       "        spend  impressions                               delivery_by_region   \n",
       "602539   49.5        499.5  [{'percentage': '1', 'region': 'Pennsylvania'}]  \\\n",
       "602540   49.5       1499.5  [{'percentage': '1', 'region': 'Pennsylvania'}]   \n",
       "602541   49.5        499.5  [{'percentage': '1', 'region': 'Pennsylvania'}]   \n",
       "602542   49.5        499.5  [{'percentage': '1', 'region': 'Pennsylvania'}]   \n",
       "602543  449.5      12499.5    [{'percentage': '1', 'region': 'California'}]   \n",
       "\n",
       "                                 demographic_distribution          page_id   \n",
       "602539  [{'percentage': '0.002494', 'age': '18-24', 'g...  174750213023790  \\\n",
       "602540  [{'percentage': '0.001106', 'age': '18-24', 'g...  174750213023790   \n",
       "602541  [{'percentage': '0.003205', 'age': '18-24', 'g...  174750213023790   \n",
       "602542  [{'percentage': '0.066806', 'age': '25-34', 'g...  174750213023790   \n",
       "602543  [{'percentage': '0.001772', 'age': '65+', 'gen...     182567716746   \n",
       "\n",
       "                                               page_name   \n",
       "602539  Mike Doyle for PA Representative, 170th District  \\\n",
       "602540  Mike Doyle for PA Representative, 170th District   \n",
       "602541  Mike Doyle for PA Representative, 170th District   \n",
       "602542  Mike Doyle for PA Representative, 170th District   \n",
       "602543                        Congressman John Garamendi   \n",
       "\n",
       "                                     bylines               id  spend_lo   \n",
       "602539           Friends To Elect Mike Doyle  228443758015782         0  \\\n",
       "602540           Friends To Elect Mike Doyle  470785400088043         0   \n",
       "602541           Friends To Elect Mike Doyle  382470918955364         0   \n",
       "602542           Friends To Elect Mike Doyle  457482704660129         0   \n",
       "602543  Office of Congressman John Garamendi  970233850221789       400   \n",
       "\n",
       "        spend_hi  impressions_lo  impressions_hi        label     party state  \n",
       "602539        99               0             999  non-climate  Democrat    PA  \n",
       "602540        99            1000            1999  non-climate  Democrat    PA  \n",
       "602541        99               0             999  non-climate  Democrat    PA  \n",
       "602542        99               0             999  non-climate  Democrat    PA  \n",
       "602543       499           10000           14999  non-climate  Democrat    CA  "
      ]
     },
     "execution_count": 41,
     "metadata": {},
     "output_type": "execute_result"
    }
   ],
   "source": [
    "data.tail(5)"
   ]
  },
  {
   "cell_type": "code",
   "execution_count": 35,
   "metadata": {},
   "outputs": [
    {
     "name": "stdout",
     "output_type": "stream",
     "text": [
      "<class 'pandas.core.frame.DataFrame'>\n",
      "RangeIndex: 602544 entries, 0 to 602543\n",
      "Data columns (total 17 columns):\n",
      " #   Column                    Non-Null Count   Dtype  \n",
      "---  ------                    --------------   -----  \n",
      " 0   ad_creation_time          602544 non-null  object \n",
      " 1   ad_creative_body          598057 non-null  object \n",
      " 2   spend                     602544 non-null  float64\n",
      " 3   impressions               602544 non-null  float64\n",
      " 4   delivery_by_region        463401 non-null  object \n",
      " 5   demographic_distribution  463401 non-null  object \n",
      " 6   page_id                   602544 non-null  int64  \n",
      " 7   page_name                 602544 non-null  object \n",
      " 8   bylines                   600813 non-null  object \n",
      " 9   id                        602544 non-null  int64  \n",
      " 10  spend_lo                  602544 non-null  int64  \n",
      " 11  spend_hi                  602544 non-null  int64  \n",
      " 12  impressions_lo            602544 non-null  int64  \n",
      " 13  impressions_hi            602544 non-null  int64  \n",
      " 14  label                     602544 non-null  object \n",
      " 15  party                     602544 non-null  object \n",
      " 16  state                     602544 non-null  object \n",
      "dtypes: float64(2), int64(6), object(9)\n",
      "memory usage: 78.1+ MB\n"
     ]
    }
   ],
   "source": [
    "data.info()"
   ]
  },
  {
   "cell_type": "code",
   "execution_count": 36,
   "metadata": {},
   "outputs": [
    {
     "data": {
      "text/plain": [
       "ad_creation_time                 0\n",
       "ad_creative_body              4487\n",
       "spend                            0\n",
       "impressions                      0\n",
       "delivery_by_region          139143\n",
       "demographic_distribution    139143\n",
       "page_id                          0\n",
       "page_name                        0\n",
       "bylines                       1731\n",
       "id                               0\n",
       "spend_lo                         0\n",
       "spend_hi                         0\n",
       "impressions_lo                   0\n",
       "impressions_hi                   0\n",
       "label                            0\n",
       "party                            0\n",
       "state                            0\n",
       "dtype: int64"
      ]
     },
     "execution_count": 36,
     "metadata": {},
     "output_type": "execute_result"
    }
   ],
   "source": [
    "data.isnull().sum()"
   ]
  },
  {
   "cell_type": "code",
   "execution_count": 37,
   "metadata": {},
   "outputs": [
    {
     "data": {
      "text/plain": [
       "ad_creation_time              1238\n",
       "ad_creative_body             60635\n",
       "spend                           42\n",
       "impressions                     39\n",
       "delivery_by_region          337533\n",
       "demographic_distribution    462909\n",
       "page_id                        520\n",
       "page_name                      555\n",
       "bylines                        957\n",
       "id                          602544\n",
       "spend_lo                        42\n",
       "spend_hi                        42\n",
       "impressions_lo                  39\n",
       "impressions_hi                  39\n",
       "label                            2\n",
       "party                            3\n",
       "state                           54\n",
       "dtype: int64"
      ]
     },
     "execution_count": 37,
     "metadata": {},
     "output_type": "execute_result"
    }
   ],
   "source": [
    "data.nunique()"
   ]
  },
  {
   "cell_type": "markdown",
   "metadata": {},
   "source": [
    "## Cleaning the data"
   ]
  },
  {
   "cell_type": "code",
   "execution_count": 12,
   "metadata": {},
   "outputs": [],
   "source": [
    "# Removing nans and empty strings (ad_creative_body, demographic_distribution, delivery_by_region)\n",
    "\n",
    "# filter out nans in creative sentiment (e.g. they are probably videos), removes 4487 ads (0.74%)\n",
    "data = data[~data['ad_creative_body'].isna()]\n",
    "# filter out ads which just have empty space as text, e.g '  '(no 'real' text content), removes 40 in total out of (602544)\n",
    "data = data[data['ad_creative_body'].str.strip() != '']\n",
    "# filter out ads that do not have any targeting info (removes 138289 ads - 22.95% of all ads) - see analysis below\n",
    "#data = data[~((data['demographic_distribution'].isna()) | (data['delivery_by_region'].isna()))]\n",
    "\n",
    "# remove ads where demographic_distribution = [{'percentage': '1'}], not sure what that means, removes 6 ads\n",
    "data = data[data['demographic_distribution'].map(lambda x: 1 if x == [{'percentage': '1'}] else 0) == 0]\n",
    "\n",
    "# relabel Independents as Democrats - as the two independent politicians caucus with the Democrats\n",
    "data['party'].replace('Independent','Democrat',inplace=True)"
   ]
  },
  {
   "cell_type": "code",
   "execution_count": 13,
   "metadata": {},
   "outputs": [
    {
     "name": "stdout",
     "output_type": "stream",
     "text": [
      "Number of ads after basic cleaning (598017, 17)\n"
     ]
    }
   ],
   "source": [
    "print(\"Number of ads after basic cleaning\", data.shape)"
   ]
  },
  {
   "cell_type": "code",
   "execution_count": 45,
   "metadata": {},
   "outputs": [
    {
     "name": "stdout",
     "output_type": "stream",
     "text": [
      "Number of ads part 2 (139944, 17)\n"
     ]
    }
   ],
   "source": [
    "# remove all adds with low spend and low impressions\n",
    "\n",
    "#dat = data[(data[\"spend_lo\"] != 0) & (data[\"impressions_lo\"] != 0)]\n",
    "\n",
    "#print(\"Number of ads part 2\", dat.shape)"
   ]
  },
  {
   "cell_type": "code",
   "execution_count": 46,
   "metadata": {},
   "outputs": [
    {
     "name": "stdout",
     "output_type": "stream",
     "text": [
      "<class 'pandas.core.frame.DataFrame'>\n",
      "Index: 139944 entries, 67 to 602543\n",
      "Data columns (total 17 columns):\n",
      " #   Column                    Non-Null Count   Dtype  \n",
      "---  ------                    --------------   -----  \n",
      " 0   ad_creation_time          139944 non-null  object \n",
      " 1   ad_creative_body          139944 non-null  object \n",
      " 2   spend                     139944 non-null  float64\n",
      " 3   impressions               139944 non-null  float64\n",
      " 4   delivery_by_region        139944 non-null  object \n",
      " 5   demographic_distribution  139944 non-null  object \n",
      " 6   page_id                   139944 non-null  int64  \n",
      " 7   page_name                 139944 non-null  object \n",
      " 8   bylines                   139663 non-null  object \n",
      " 9   id                        139944 non-null  int64  \n",
      " 10  spend_lo                  139944 non-null  int64  \n",
      " 11  spend_hi                  139944 non-null  int64  \n",
      " 12  impressions_lo            139944 non-null  int64  \n",
      " 13  impressions_hi            139944 non-null  int64  \n",
      " 14  label                     139944 non-null  object \n",
      " 15  party                     139944 non-null  object \n",
      " 16  state                     139944 non-null  object \n",
      "dtypes: float64(2), int64(6), object(9)\n",
      "memory usage: 19.2+ MB\n"
     ]
    }
   ],
   "source": [
    "dat.info()"
   ]
  }
 ],
 "metadata": {
  "kernelspec": {
   "display_name": "base",
   "language": "python",
   "name": "python3"
  },
  "language_info": {
   "codemirror_mode": {
    "name": "ipython",
    "version": 3
   },
   "file_extension": ".py",
   "mimetype": "text/x-python",
   "name": "python",
   "nbconvert_exporter": "python",
   "pygments_lexer": "ipython3",
   "version": "3.11.5"
  }
 },
 "nbformat": 4,
 "nbformat_minor": 2
}
