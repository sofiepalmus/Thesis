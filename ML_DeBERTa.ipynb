{
 "cells": [
  {
   "cell_type": "code",
   "execution_count": 2,
   "metadata": {},
   "outputs": [
    {
     "name": "stderr",
     "output_type": "stream",
     "text": [
      "2024-11-28 10:50:26.562207: I tensorflow/core/platform/cpu_feature_guard.cc:182] This TensorFlow binary is optimized to use available CPU instructions in performance-critical operations.\n",
      "To enable the following instructions: SSE4.1 SSE4.2 AVX AVX2 FMA, in other operations, rebuild TensorFlow with the appropriate compiler flags.\n",
      "/Users/sofiepalmuskronborg/anaconda3/lib/python3.11/site-packages/pandas/core/arrays/masked.py:60: UserWarning: Pandas requires version '1.3.6' or newer of 'bottleneck' (version '1.3.5' currently installed).\n",
      "  from pandas.core import (\n"
     ]
    }
   ],
   "source": [
    "from transformers import pipeline\n",
    "import pandas as pd\n",
    "import ast\n",
    "import matplotlib.pyplot as plt\n",
    "import seaborn as sns\n",
    "from transformers import DebertaV2Tokenizer\n"
   ]
  },
  {
   "cell_type": "code",
   "execution_count": 1,
   "metadata": {},
   "outputs": [
    {
     "ename": "NameError",
     "evalue": "name 'pd' is not defined",
     "output_type": "error",
     "traceback": [
      "\u001b[0;31m---------------------------------------------------------------------------\u001b[0m",
      "\u001b[0;31mNameError\u001b[0m                                 Traceback (most recent call last)",
      "Cell \u001b[0;32mIn[1], line 1\u001b[0m\n\u001b[0;32m----> 1\u001b[0m data \u001b[38;5;241m=\u001b[39m pd\u001b[38;5;241m.\u001b[39mread_csv(\u001b[38;5;124m\"\u001b[39m\u001b[38;5;124mfiltered_data.csv\u001b[39m\u001b[38;5;124m\"\u001b[39m, index_col\u001b[38;5;241m=\u001b[39m\u001b[38;5;241m0\u001b[39m)  \u001b[38;5;66;03m# 459.728 entries\u001b[39;00m\n\u001b[1;32m      2\u001b[0m unique_ads \u001b[38;5;241m=\u001b[39m data\u001b[38;5;241m.\u001b[39mdrop_duplicates(\n\u001b[1;32m      3\u001b[0m     subset\u001b[38;5;241m=\u001b[39m[\u001b[38;5;124m\"\u001b[39m\u001b[38;5;124mad_creative_body\u001b[39m\u001b[38;5;124m\"\u001b[39m]\n\u001b[1;32m      4\u001b[0m )\n",
      "\u001b[0;31mNameError\u001b[0m: name 'pd' is not defined"
     ]
    }
   ],
   "source": [
    "data = pd.read_csv(\"filtered_data.csv\", index_col=0)  # 459.728 entries\n",
    "unique_ads = data.drop_duplicates(\n",
    "    subset=[\"ad_creative_body\"]\n",
    ")  # # print(unique_txt.size) 58.449 unique ad text bites to proces"
   ]
  },
  {
   "cell_type": "markdown",
   "metadata": {},
   "source": [
    "## checking the length of tokens from the dataframe"
   ]
  },
  {
   "cell_type": "code",
   "execution_count": 47,
   "metadata": {},
   "outputs": [],
   "source": [
    "# Load the tokenizer for DebertaV2\n",
    "tokenizer = DebertaV2Tokenizer.from_pretrained(\"microsoft/deberta-v2-xlarge\")\n",
    "\n",
    "max_length = 512  # max length of text/tokes for DeBERTa\n",
    "\n",
    "above_limit = 0\n",
    "below_limit = 0\n",
    "more_than_double = 0\n",
    "double_above_limit = 0\n",
    "triple_above_limit = 0\n",
    "\n",
    "for text in unique_ads[\"ad_creative_body\"]:\n",
    "    tokens = tokenizer.encode(\n",
    "        text, add_special_tokens=True\n",
    "    )  # Tokenize the ad text using DebertaV2\n",
    "    token_length = len(tokens)\n",
    "\n",
    "    if token_length > max_length:\n",
    "        above_limit += 1\n",
    "        if token_length >= 1536 and token_length < 2047:\n",
    "            triple_above_limit += 1\n",
    "        if token_length >= 1024 and token_length <= 1536:\n",
    "            double_above_limit += 1\n",
    "        if token_length <= 1024:\n",
    "            more_than_double +=1\n",
    "    else:\n",
    "        below_limit += 1"
   ]
  },
  {
   "cell_type": "code",
   "execution_count": 48,
   "metadata": {},
   "outputs": [
    {
     "name": "stdout",
     "output_type": "stream",
     "text": [
      "Amount of ads within the limit: 58381\n",
      "Amount of ads above the limit: 68\n",
      "Ads above the limit but below 1024 tokens: 60\n",
      "Ads above 1024 tokens but below 1536 tokens: 5\n",
      "Ads above 1536 tokens but below 2047 tokens: 3\n"
     ]
    }
   ],
   "source": [
    "print(f\"Amount of ads within the limit: {below_limit}\")\n",
    "print(f\"Amount of ads above the limit: {above_limit}\")\n",
    "print(f\"Ads above the limit but below 1024 tokens: {more_than_double}\") # split with 2\n",
    "print(f\"Ads above 1024 tokens but below 1536 tokens: {double_above_limit}\")  # split with 3\n",
    "print(f\"Ads above 1536 tokens but below 2047 tokens: {triple_above_limit}\")  # split with 4\n"
   ]
  },
  {
   "cell_type": "markdown",
   "metadata": {},
   "source": [
    "## Running the ads through DeBERTa"
   ]
  },
  {
   "cell_type": "code",
   "execution_count": 14,
   "metadata": {},
   "outputs": [],
   "source": [
    "zeroshot_classifier = pipeline(\n",
    "    \"zero-shot-classification\",\n",
    "    model=\"MoritzLaurer/deberta-v3-large-zeroshot-v1.1-all-33\",\n",
    ")"
   ]
  },
  {
   "cell_type": "code",
   "execution_count": 15,
   "metadata": {},
   "outputs": [],
   "source": [
    "hypothesis_template = \"This ad is about {}\"\n",
    "classes_verbalized = [\n",
    "    \"Economy\",\n",
    "    \"Civil Rights\",\n",
    "    \"Healthcare\",\n",
    "    \"Agriculture\",\n",
    "    \"Labor and Employment\",\n",
    "    \"Education and Culture\",\n",
    "    \"Climate\",\n",
    "    \"Immigration\",\n",
    "    \"Transport\",\n",
    "    \"Law and Crime\",\n",
    "    \"Social Welfare\",\n",
    "    \"Housing\",\n",
    "    \"Defense\",\n",
    "    \"Foreign Affair\",\n",
    "    \"Call for Action\",\n",
    "    \"Other\"   #placeholder category\n",
    "] "
   ]
  },
  {
   "cell_type": "code",
   "execution_count": 56,
   "metadata": {},
   "outputs": [
    {
     "name": "stderr",
     "output_type": "stream",
     "text": [
      "/var/folders/cr/2b4bjd0d6cscnr8h_66vmrqm0000gn/T/ipykernel_968/3584049382.py:11: SettingWithCopyWarning: \n",
      "A value is trying to be set on a copy of a slice from a DataFrame.\n",
      "Try using .loc[row_indexer,col_indexer] = value instead\n",
      "\n",
      "See the caveats in the documentation: https://pandas.pydata.org/pandas-docs/stable/user_guide/indexing.html#returning-a-view-versus-a-copy\n",
      "  unique_ads[\"num_tokens\"] = num_tokens_list\n"
     ]
    }
   ],
   "source": [
    "# list to store the number of tokens for each ad\n",
    "num_tokens_list = []\n",
    "\n",
    "# Tokenize each ad_creative_body and get the number of tokens\n",
    "for text in unique_ads[\"ad_creative_body\"]:\n",
    "    tokens = tokenizer.encode(text, add_special_tokens=False)  # Tokenize the text\n",
    "    num_tokens_list.append(len(tokens)) \n",
    "\n",
    "unique_ads[\"num_tokens\"] = num_tokens_list # make new column with the token count for each ad"
   ]
  },
  {
   "cell_type": "code",
   "execution_count": 57,
   "metadata": {},
   "outputs": [],
   "source": [
    "# Split into two df based on limitation\n",
    "below_limit = unique_ads[unique_ads[\"num_tokens\"] <= 512]\n",
    "above_limit = unique_ads[unique_ads[\"num_tokens\"] > 512]\n",
    "\n",
    "# below_limit.to_csv(\"under_512.csv\")\n",
    "#above_limit.to_csv(\"aboev_512.csv\")"
   ]
  },
  {
   "cell_type": "markdown",
   "metadata": {},
   "source": [
    "## processing text below the limit"
   ]
  },
  {
   "cell_type": "code",
   "execution_count": 52,
   "metadata": {},
   "outputs": [],
   "source": [
    "# Process ads within limit\n",
    "text_to_vector_below = {}\n",
    "for text in below_limit[\"ad_creative_body\"]:\n",
    "    output = zeroshot_classifier(\n",
    "        text,\n",
    "        classes_verbalized,\n",
    "        hypothesis_template=hypothesis_template,\n",
    "        multi_label=False,\n",
    "    )\n",
    "    text_to_vector_below[text] = {\n",
    "        \"labels\": output[\"labels\"],\n",
    "        \"scores\": output[\"scores\"],\n",
    "    }\n",
    "\n",
    "# Making two new columns\n",
    "below_limit[\"labels\"] = below_limit[\"ad_creative_body\"].map(\n",
    "    lambda text: text_to_vector_below[text][\"labels\"]\n",
    ")\n",
    "below_limit[\"scores\"] = below_limit[\"ad_creative_body\"].map(\n",
    "    lambda text: text_to_vector_below[text][\"scores\"]\n",
    ")"
   ]
  },
  {
   "cell_type": "markdown",
   "metadata": {},
   "source": [
    "## processing text above limit (complicated one)"
   ]
  },
  {
   "cell_type": "code",
   "execution_count": null,
   "metadata": {},
   "outputs": [],
   "source": [
    "text_to_vector_above = (\n",
    "    {}\n",
    ")  # dict to store labels + scores for each ad abover # 512 tokens\n",
    "\n",
    "for text in above_limit[\"ad_creative_body\"]:\n",
    "\n",
    "    total_scores = []  # list to keep scres for each split\n",
    "    all_labels = None  # will store labels\n",
    "\n",
    "    tokens = tokenizer.encode(text, add_special_tokens=True)\n",
    "\n",
    "    total_splits = (  # figure out how many splits in terms of max l\n",
    "        len(tokens) + max_length - 1\n",
    "    ) // max_length  # // rounding to a single int value\n",
    "\n",
    "    split_size = (  # figure out how to do an equal split on the total tokens (as equal as possible)\n",
    "        len(tokens) + total_splits - 1\n",
    "    ) // total_splits  # // rounding to a single int value\n",
    "\n",
    "    for i in range(0, len(tokens), split_size):\n",
    "        chunk = tokens[i : i + split_size]\n",
    "        chunk_text = tokenizer.decode(chunk, skip_special_tokens=True)\n",
    "\n",
    "        output = zeroshot_classifier(\n",
    "            chunk_text,\n",
    "            classes_verbalized,\n",
    "            hypothesis_template=hypothesis_template,\n",
    "            multi_label=False,\n",
    "        )\n",
    "\n",
    "        # gather the scores\n",
    "        if all_labels is None:\n",
    "            all_labels = output[\"labels\"]  # store labels on first text bit\n",
    "        total_scores.append(output[\"scores\"])  # Collect all scores for avg\n",
    "\n",
    "    # Average the scores across all chunks\n",
    "    avg_scores = [sum(s) / len(total_scores) for s in zip(*total_scores)]\n",
    "\n",
    "    text_to_vector_above[text] = {\n",
    "        \"labels\": all_labels,  # Use the labels from run throough of the text bit\n",
    "        \"scores\": avg_scores,\n",
    "    }\n",
    "\n",
    "# 2 new columns\n",
    "above_limit[\"labels\"] = above_limit[\"ad_creative_body\"].map(\n",
    "    lambda text: text_to_vector_above[text][\"labels\"]\n",
    ")\n",
    "above_limit[\"scores\"] = above_limit[\"ad_creative_body\"].map(\n",
    "    lambda text: text_to_vector_above[text][\"scores\"]\n",
    ")"
   ]
  },
  {
   "cell_type": "markdown",
   "metadata": {},
   "source": [
    "## store results from both dataframes back to org DataFrame\n"
   ]
  },
  {
   "cell_type": "code",
   "execution_count": null,
   "metadata": {},
   "outputs": [],
   "source": [
    "# putting dataframes together so all data is gathere\n",
    "vertical_concat = pd.concat([below_limit, above_limit], axis=0)"
   ]
  },
  {
   "cell_type": "code",
   "execution_count": 32,
   "metadata": {},
   "outputs": [],
   "source": [
    "# merging the additional rows back into origianl df (filtered_data) based on ad text\n",
    "additional_rows = vertical_concat[\n",
    "    [\"ad_creative_body\", \"labels\", \"scores\", \"top_label\", \"top_score\"]\n",
    "]\n",
    "\n",
    "søndag = pd.merge(data, additional_rows, on=\"ad_creative_body\", how=\"left\")"
   ]
  },
  {
   "cell_type": "code",
   "execution_count": 50,
   "metadata": {},
   "outputs": [],
   "source": [
    "søndag.to_csv(\"søndagsmagi.csv\", index=False)"
   ]
  },
  {
   "cell_type": "code",
   "execution_count": 54,
   "metadata": {},
   "outputs": [],
   "source": [
    "# checking the numbers er ok\n",
    "# sort away duplicate ad texts coming from the same politician -> 58.574\n",
    "label_data_unique = søndag.drop_duplicates(subset=['ad_creative_body', 'page_id'])\n",
    "\n",
    "# sort away duplicate text in general -> 58.449 rows ^ 125 duplicate texts when comparing\n",
    "label_data_unique = søndag.drop_duplicates(['ad_creative_body']) "
   ]
  },
  {
   "cell_type": "code",
   "execution_count": 54,
   "metadata": {},
   "outputs": [],
   "source": [
    "# converts 'labels' and 'scores' column from object to a list to be able to retrieve the first instance -> top score/top_label\n",
    "\n",
    "label_data_unique[\"labels\"] = label_data_unique[\"labels\"].apply(\n",
    "    lambda x: ast.literal_eval(x) if isinstance(x, str) else x\n",
    ")\n",
    "label_data_unique[\"scores\"] = label_data_unique[\"scores\"].apply(\n",
    "    lambda x: ast.literal_eval(x) if isinstance(x, str) else x\n",
    ")\n",
    "\n",
    "# Retrieving first instance in each column\n",
    "label_data_unique[\"top_label\"] = label_data_unique[\"labels\"].str[0]\n",
    "label_data_unique[\"top_score\"] = label_data_unique[\"scores\"].str[0]"
   ]
  },
  {
   "cell_type": "markdown",
   "metadata": {},
   "source": [
    "## Ny søndagsmagifil"
   ]
  },
  {
   "cell_type": "code",
   "execution_count": 5,
   "metadata": {},
   "outputs": [
    {
     "name": "stderr",
     "output_type": "stream",
     "text": [
      "/var/folders/cr/2b4bjd0d6cscnr8h_66vmrqm0000gn/T/ipykernel_1161/1944111470.py:1: DtypeWarning: Columns (19) have mixed types. Specify dtype option on import or set low_memory=False.\n",
      "  d = pd.read_csv(\"/Users/sofiepalmuskronborg/Desktop/Thesis/Data_med_entropy.csv\")\n"
     ]
    }
   ],
   "source": [
    "d = pd.read_csv(\"/Users/sofiepalmuskronborg/Desktop/Thesis/Data_med_entropy.csv\")"
   ]
  },
  {
   "cell_type": "code",
   "execution_count": 7,
   "metadata": {},
   "outputs": [
    {
     "data": {
      "text/html": [
       "<div>\n",
       "<style scoped>\n",
       "    .dataframe tbody tr th:only-of-type {\n",
       "        vertical-align: middle;\n",
       "    }\n",
       "\n",
       "    .dataframe tbody tr th {\n",
       "        vertical-align: top;\n",
       "    }\n",
       "\n",
       "    .dataframe thead th {\n",
       "        text-align: right;\n",
       "    }\n",
       "</style>\n",
       "<table border=\"1\" class=\"dataframe\">\n",
       "  <thead>\n",
       "    <tr style=\"text-align: right;\">\n",
       "      <th></th>\n",
       "      <th>ad_creation_time</th>\n",
       "      <th>ad_creative_body</th>\n",
       "      <th>spend</th>\n",
       "      <th>impressions</th>\n",
       "      <th>delivery_by_region</th>\n",
       "      <th>demographic_distribution</th>\n",
       "      <th>page_id</th>\n",
       "      <th>page_name</th>\n",
       "      <th>bylines</th>\n",
       "      <th>id</th>\n",
       "      <th>...</th>\n",
       "      <th>impressions_lo</th>\n",
       "      <th>impressions_hi</th>\n",
       "      <th>party</th>\n",
       "      <th>state</th>\n",
       "      <th>labels</th>\n",
       "      <th>scores</th>\n",
       "      <th>top_label</th>\n",
       "      <th>top_score</th>\n",
       "      <th>uncorrelated_entropy</th>\n",
       "      <th>real_entropy</th>\n",
       "    </tr>\n",
       "  </thead>\n",
       "  <tbody>\n",
       "    <tr>\n",
       "      <th>0</th>\n",
       "      <td>2020-02-12</td>\n",
       "      <td>Every kid in America should have the same acce...</td>\n",
       "      <td>49.5</td>\n",
       "      <td>499.5</td>\n",
       "      <td>[{'percentage': '0.001175', 'region': 'Alabama...</td>\n",
       "      <td>[{'percentage': '0.003529', 'age': '25-34', 'g...</td>\n",
       "      <td>38471053686</td>\n",
       "      <td>Elizabeth Warren</td>\n",
       "      <td>WARREN FOR PRESIDENT, INC.</td>\n",
       "      <td>488348208497291</td>\n",
       "      <td>...</td>\n",
       "      <td>0</td>\n",
       "      <td>999</td>\n",
       "      <td>Democrat</td>\n",
       "      <td>MA</td>\n",
       "      <td>['Education and Culture', 'Call for Action', '...</td>\n",
       "      <td>[0.521308422088623, 0.4189971387386322, 0.0142...</td>\n",
       "      <td>Education and Culture</td>\n",
       "      <td>0.521308422088623</td>\n",
       "      <td>1.595782</td>\n",
       "      <td>0.382612</td>\n",
       "    </tr>\n",
       "    <tr>\n",
       "      <th>1</th>\n",
       "      <td>2020-02-12</td>\n",
       "      <td>Every kid in America should have the same acce...</td>\n",
       "      <td>49.5</td>\n",
       "      <td>499.5</td>\n",
       "      <td>[{'percentage': '0.026738', 'region': 'Colorad...</td>\n",
       "      <td>[{'percentage': '0.002674', 'age': '25-34', 'g...</td>\n",
       "      <td>38471053686</td>\n",
       "      <td>Elizabeth Warren</td>\n",
       "      <td>WARREN FOR PRESIDENT, INC.</td>\n",
       "      <td>494013894629856</td>\n",
       "      <td>...</td>\n",
       "      <td>0</td>\n",
       "      <td>999</td>\n",
       "      <td>Democrat</td>\n",
       "      <td>MA</td>\n",
       "      <td>['Education and Culture', 'Call for Action', '...</td>\n",
       "      <td>[0.521308422088623, 0.4189971387386322, 0.0142...</td>\n",
       "      <td>Education and Culture</td>\n",
       "      <td>0.521308422088623</td>\n",
       "      <td>1.595782</td>\n",
       "      <td>0.382612</td>\n",
       "    </tr>\n",
       "    <tr>\n",
       "      <th>2</th>\n",
       "      <td>2020-02-12</td>\n",
       "      <td>Every kid in America should have the same acce...</td>\n",
       "      <td>49.5</td>\n",
       "      <td>1499.5</td>\n",
       "      <td>[{'percentage': '0.010661', 'region': 'Alabama...</td>\n",
       "      <td>[{'percentage': '0.001067', 'age': '35-44', 'g...</td>\n",
       "      <td>38471053686</td>\n",
       "      <td>Elizabeth Warren</td>\n",
       "      <td>WARREN FOR PRESIDENT, INC.</td>\n",
       "      <td>469970110548642</td>\n",
       "      <td>...</td>\n",
       "      <td>1000</td>\n",
       "      <td>1999</td>\n",
       "      <td>Democrat</td>\n",
       "      <td>MA</td>\n",
       "      <td>['Education and Culture', 'Call for Action', '...</td>\n",
       "      <td>[0.521308422088623, 0.4189971387386322, 0.0142...</td>\n",
       "      <td>Education and Culture</td>\n",
       "      <td>0.521308422088623</td>\n",
       "      <td>1.595782</td>\n",
       "      <td>0.382612</td>\n",
       "    </tr>\n",
       "    <tr>\n",
       "      <th>3</th>\n",
       "      <td>2020-02-12</td>\n",
       "      <td>Every kid in America should have the same acce...</td>\n",
       "      <td>49.5</td>\n",
       "      <td>499.5</td>\n",
       "      <td>[{'percentage': '0.004944', 'region': 'Alabama...</td>\n",
       "      <td>[{'percentage': '0.003708', 'age': '35-44', 'g...</td>\n",
       "      <td>38471053686</td>\n",
       "      <td>Elizabeth Warren</td>\n",
       "      <td>WARREN FOR PRESIDENT, INC.</td>\n",
       "      <td>271731930474720</td>\n",
       "      <td>...</td>\n",
       "      <td>0</td>\n",
       "      <td>999</td>\n",
       "      <td>Democrat</td>\n",
       "      <td>MA</td>\n",
       "      <td>['Education and Culture', 'Call for Action', '...</td>\n",
       "      <td>[0.521308422088623, 0.4189971387386322, 0.0142...</td>\n",
       "      <td>Education and Culture</td>\n",
       "      <td>0.521308422088623</td>\n",
       "      <td>1.595782</td>\n",
       "      <td>0.382612</td>\n",
       "    </tr>\n",
       "    <tr>\n",
       "      <th>4</th>\n",
       "      <td>2020-02-12</td>\n",
       "      <td>Every kid in America should have the same acce...</td>\n",
       "      <td>49.5</td>\n",
       "      <td>499.5</td>\n",
       "      <td>[{'percentage': '0.034682', 'region': 'Arizona...</td>\n",
       "      <td>[{'percentage': '0.138728', 'age': '35-44', 'g...</td>\n",
       "      <td>38471053686</td>\n",
       "      <td>Elizabeth Warren</td>\n",
       "      <td>WARREN FOR PRESIDENT, INC.</td>\n",
       "      <td>595816060977581</td>\n",
       "      <td>...</td>\n",
       "      <td>0</td>\n",
       "      <td>999</td>\n",
       "      <td>Democrat</td>\n",
       "      <td>MA</td>\n",
       "      <td>['Education and Culture', 'Call for Action', '...</td>\n",
       "      <td>[0.521308422088623, 0.4189971387386322, 0.0142...</td>\n",
       "      <td>Education and Culture</td>\n",
       "      <td>0.521308422088623</td>\n",
       "      <td>1.595782</td>\n",
       "      <td>0.382612</td>\n",
       "    </tr>\n",
       "  </tbody>\n",
       "</table>\n",
       "<p>5 rows × 22 columns</p>\n",
       "</div>"
      ],
      "text/plain": [
       "  ad_creation_time                                   ad_creative_body  spend  \\\n",
       "0       2020-02-12  Every kid in America should have the same acce...   49.5   \n",
       "1       2020-02-12  Every kid in America should have the same acce...   49.5   \n",
       "2       2020-02-12  Every kid in America should have the same acce...   49.5   \n",
       "3       2020-02-12  Every kid in America should have the same acce...   49.5   \n",
       "4       2020-02-12  Every kid in America should have the same acce...   49.5   \n",
       "\n",
       "   impressions                                 delivery_by_region  \\\n",
       "0        499.5  [{'percentage': '0.001175', 'region': 'Alabama...   \n",
       "1        499.5  [{'percentage': '0.026738', 'region': 'Colorad...   \n",
       "2       1499.5  [{'percentage': '0.010661', 'region': 'Alabama...   \n",
       "3        499.5  [{'percentage': '0.004944', 'region': 'Alabama...   \n",
       "4        499.5  [{'percentage': '0.034682', 'region': 'Arizona...   \n",
       "\n",
       "                            demographic_distribution      page_id  \\\n",
       "0  [{'percentage': '0.003529', 'age': '25-34', 'g...  38471053686   \n",
       "1  [{'percentage': '0.002674', 'age': '25-34', 'g...  38471053686   \n",
       "2  [{'percentage': '0.001067', 'age': '35-44', 'g...  38471053686   \n",
       "3  [{'percentage': '0.003708', 'age': '35-44', 'g...  38471053686   \n",
       "4  [{'percentage': '0.138728', 'age': '35-44', 'g...  38471053686   \n",
       "\n",
       "          page_name                     bylines               id  ...  \\\n",
       "0  Elizabeth Warren  WARREN FOR PRESIDENT, INC.  488348208497291  ...   \n",
       "1  Elizabeth Warren  WARREN FOR PRESIDENT, INC.  494013894629856  ...   \n",
       "2  Elizabeth Warren  WARREN FOR PRESIDENT, INC.  469970110548642  ...   \n",
       "3  Elizabeth Warren  WARREN FOR PRESIDENT, INC.  271731930474720  ...   \n",
       "4  Elizabeth Warren  WARREN FOR PRESIDENT, INC.  595816060977581  ...   \n",
       "\n",
       "   impressions_lo  impressions_hi     party  state  \\\n",
       "0               0             999  Democrat     MA   \n",
       "1               0             999  Democrat     MA   \n",
       "2            1000            1999  Democrat     MA   \n",
       "3               0             999  Democrat     MA   \n",
       "4               0             999  Democrat     MA   \n",
       "\n",
       "                                              labels  \\\n",
       "0  ['Education and Culture', 'Call for Action', '...   \n",
       "1  ['Education and Culture', 'Call for Action', '...   \n",
       "2  ['Education and Culture', 'Call for Action', '...   \n",
       "3  ['Education and Culture', 'Call for Action', '...   \n",
       "4  ['Education and Culture', 'Call for Action', '...   \n",
       "\n",
       "                                              scores              top_label  \\\n",
       "0  [0.521308422088623, 0.4189971387386322, 0.0142...  Education and Culture   \n",
       "1  [0.521308422088623, 0.4189971387386322, 0.0142...  Education and Culture   \n",
       "2  [0.521308422088623, 0.4189971387386322, 0.0142...  Education and Culture   \n",
       "3  [0.521308422088623, 0.4189971387386322, 0.0142...  Education and Culture   \n",
       "4  [0.521308422088623, 0.4189971387386322, 0.0142...  Education and Culture   \n",
       "\n",
       "           top_score uncorrelated_entropy real_entropy  \n",
       "0  0.521308422088623             1.595782     0.382612  \n",
       "1  0.521308422088623             1.595782     0.382612  \n",
       "2  0.521308422088623             1.595782     0.382612  \n",
       "3  0.521308422088623             1.595782     0.382612  \n",
       "4  0.521308422088623             1.595782     0.382612  \n",
       "\n",
       "[5 rows x 22 columns]"
      ]
     },
     "execution_count": 7,
     "metadata": {},
     "output_type": "execute_result"
    }
   ],
   "source": [
    "d.head(5)"
   ]
  },
  {
   "cell_type": "code",
   "execution_count": 8,
   "metadata": {},
   "outputs": [],
   "source": [
    "d[\"labels\"] = d[\"labels\"].apply(\n",
    "    lambda x: ast.literal_eval(x) if isinstance(x, str) else x\n",
    ")\n",
    "d[\"scores\"] = d[\"scores\"].apply(\n",
    "    lambda x: ast.literal_eval(x) if isinstance(x, str) else x\n",
    ")\n",
    "\n",
    "# Retrieving first instance in each column\n",
    "d[\"top_label\"] = d[\"labels\"].str[0]\n",
    "d[\"top_score\"] = d[\"scores\"].str[0]"
   ]
  },
  {
   "cell_type": "code",
   "execution_count": 9,
   "metadata": {},
   "outputs": [
    {
     "name": "stdout",
     "output_type": "stream",
     "text": [
      "Stats on top labels:\n",
      "\n",
      "Call for Action: 353488 ads (76.89%)\n",
      "Healthcare: 20754 ads (4.51%)\n",
      "Law and Crime: 17701 ads (3.85%)\n",
      "Economy: 10691 ads (2.33%)\n",
      "Climate: 10426 ads (2.27%)\n",
      "Immigration: 9408 ads (2.05%)\n",
      "Defense: 8676 ads (1.89%)\n",
      "Other: 6747 ads (1.47%)\n",
      "Education and Culture: 5048 ads (1.10%)\n",
      "Labor and Employment: 4585 ads (1.00%)\n",
      "Foreign Affair: 4035 ads (0.88%)\n",
      "Civil Rights: 3213 ads (0.70%)\n",
      "Agriculture: 1555 ads (0.34%)\n",
      "Housing: 1192 ads (0.26%)\n",
      "Transport: 1135 ads (0.25%)\n",
      "Social Welfare: 1074 ads (0.23%)\n"
     ]
    }
   ],
   "source": [
    "top_labels = (d[\"top_label\"].value_counts()).iloc[:18]  # all labels\n",
    "\n",
    "# calcu the amount + % for each top\n",
    "top_percentages = (d[\"top_label\"].value_counts(normalize=True).iloc[:18]) * 100\n",
    "\n",
    "# Print the counts and percentages in a readable format\n",
    "print(\"Stats on top labels:\\n\")\n",
    "for label, count, percentage in zip(\n",
    "    top_labels.index, top_labels.values, top_percentages.values\n",
    "):\n",
    "    print(f\"{label}: {count} ads ({percentage:.2f}%)\")"
   ]
  },
  {
   "cell_type": "code",
   "execution_count": 11,
   "metadata": {},
   "outputs": [],
   "source": [
    "data = d.drop([\"uncorrelated_entropy\", \"real_entropy\"], axis=1)"
   ]
  },
  {
   "cell_type": "code",
   "execution_count": 12,
   "metadata": {},
   "outputs": [
    {
     "name": "stdout",
     "output_type": "stream",
     "text": [
      "<class 'pandas.core.frame.DataFrame'>\n",
      "RangeIndex: 459728 entries, 0 to 459727\n",
      "Data columns (total 20 columns):\n",
      " #   Column                    Non-Null Count   Dtype  \n",
      "---  ------                    --------------   -----  \n",
      " 0   ad_creation_time          459728 non-null  object \n",
      " 1   ad_creative_body          459728 non-null  object \n",
      " 2   spend                     459728 non-null  float64\n",
      " 3   impressions               459728 non-null  float64\n",
      " 4   delivery_by_region        459728 non-null  object \n",
      " 5   demographic_distribution  459728 non-null  object \n",
      " 6   page_id                   459728 non-null  int64  \n",
      " 7   page_name                 459728 non-null  object \n",
      " 8   bylines                   458487 non-null  object \n",
      " 9   id                        459728 non-null  int64  \n",
      " 10  spend_lo                  459728 non-null  int64  \n",
      " 11  spend_hi                  459728 non-null  int64  \n",
      " 12  impressions_lo            459728 non-null  int64  \n",
      " 13  impressions_hi            459728 non-null  int64  \n",
      " 14  party                     459728 non-null  object \n",
      " 15  state                     459728 non-null  object \n",
      " 16  labels                    459728 non-null  object \n",
      " 17  scores                    459728 non-null  object \n",
      " 18  top_label                 459728 non-null  object \n",
      " 19  top_score                 459728 non-null  float64\n",
      "dtypes: float64(3), int64(6), object(11)\n",
      "memory usage: 70.1+ MB\n"
     ]
    }
   ],
   "source": [
    "data.info()"
   ]
  },
  {
   "cell_type": "code",
   "execution_count": 13,
   "metadata": {},
   "outputs": [],
   "source": [
    "data.to_csv(\"mandagsmagi.csv\")"
   ]
  },
  {
   "cell_type": "code",
   "execution_count": null,
   "metadata": {},
   "outputs": [],
   "source": [
    "zeroshot_classifier = pipeline(\n",
    "    \"zero-shot-classification\",\n",
    "    model=\"MoritzLaurer/deberta-v3-large-zeroshot-v1.1-all-33\",\n",
    ")"
   ]
  },
  {
   "cell_type": "code",
   "execution_count": null,
   "metadata": {},
   "outputs": [],
   "source": [
    "hypothesis_template = \"This ad is about {}\"\n",
    "classes_verbalized = [\n",
    "    \"Economy\",\n",
    "    \"Civil Rights\",\n",
    "    \"Healthcare\",\n",
    "    \"Agriculture\",\n",
    "    \"Labor and Employment\",\n",
    "    \"Education and Culture\",\n",
    "    \"Climate\",\n",
    "    \"Immigration\",\n",
    "    \"Transport\",\n",
    "    \"Law and Crime\",\n",
    "    \"Social Welfare\",\n",
    "    \"Housing\",\n",
    "    \"Defense\",\n",
    "    \"Foreign Affair\",\n",
    "    \"Call for Action\",\n",
    "    \"Other\",  # placeholder category\n",
    "]"
   ]
  },
  {
   "cell_type": "code",
   "execution_count": 10,
   "metadata": {},
   "outputs": [
    {
     "data": {
      "text/plain": [
       "{'sequence': 'Support the Democrats in the battle against climate change!',\n",
       " 'labels': ['Climate', 'Defense', 'Immigration', 'Healthcare'],\n",
       " 'scores': [0.9989873766899109,\n",
       "  0.0006069607916288078,\n",
       "  0.00020502437837421894,\n",
       "  0.00020061143732164055]}"
      ]
     },
     "execution_count": 10,
     "metadata": {},
     "output_type": "execute_result"
    }
   ],
   "source": [
    "from transformers import pipeline\n",
    "\n",
    "text = \"Support the Democrats in the battle against climate change!\"\n",
    "hypothesis_template = \" This ad is about {}\"\n",
    "classes_verbalized = [\"Immigration\", \"Defense\", \"Climate\", \"Healthcare\"]\n",
    "\n",
    "zeroshot_classifier = pipeline(\n",
    "    \"zero-shot-classification\",\n",
    "    model=\"MoritzLaurer/deberta-v3-large-zeroshot-v1.1-all-33\",\n",
    ")\n",
    "\n",
    "zeroshot_classifier(text, classes_verbalized, hypothesis_template=hypothesis_template, multi_label=False,)\n",
    "\n",
    "# output: 'labels': ['Climate', 'Defense', 'Immigration', 'Healthcare'],\n",
    "#         'scores': [0.9989873766899109, 0.0006069607916288078, 0.00020502437837421894, 0.00020061143732164055]\n",
    "\n"
   ]
  },
  {
   "cell_type": "markdown",
   "metadata": {},
   "source": [
    "## token length"
   ]
  },
  {
   "cell_type": "code",
   "execution_count": 3,
   "metadata": {},
   "outputs": [],
   "source": [
    "data = pd.read_csv(\"filtered_data.csv\", index_col=0)  # 459.728 entries\n",
    "unique_ads = data.drop_duplicates(\n",
    "    subset=[\"ad_creative_body\"]\n",
    ") \n",
    "\n",
    "df_d = unique_ads[\n",
    "    unique_ads[\"party\"] == \"Democrat\"\n",
    "]  # all ads because that is what entropy is calculated based on\n",
    "df_r = unique_ads[unique_ads[\"party\"] == \"Republican\"]\n",
    "# df_un_d = unique_ads[unique_ads[\"party\"] == \"Democrat\"]\n",
    "# df_un_r = unique_ads[unique_ads[\"party\"] == \"Republican\"]"
   ]
  },
  {
   "cell_type": "code",
   "execution_count": 4,
   "metadata": {},
   "outputs": [],
   "source": [
    "df_d = data[\n",
    "    data[\"party\"] == \"Democrat\"\n",
    "]  # all ads because that is what entropy is calculated based on\n",
    "df_r = data[data[\"party\"] == \"Republican\"]"
   ]
  },
  {
   "cell_type": "code",
   "execution_count": 5,
   "metadata": {},
   "outputs": [
    {
     "name": "stderr",
     "output_type": "stream",
     "text": [
      "/Users/sofiepalmuskronborg/anaconda3/lib/python3.11/site-packages/transformers/tokenization_utils_base.py:1601: FutureWarning: `clean_up_tokenization_spaces` was not set. It will be set to `True` by default. This behavior will be depracted in transformers v4.45, and will be then set to `False` by default. For more details check this issue: https://github.com/huggingface/transformers/issues/31884\n",
      "  warnings.warn(\n"
     ]
    },
    {
     "name": "stdout",
     "output_type": "stream",
     "text": [
      "Unexpected exception formatting exception. Falling back to standard exception\n"
     ]
    },
    {
     "name": "stderr",
     "output_type": "stream",
     "text": [
      "Traceback (most recent call last):\n",
      "  File \"/Users/sofiepalmuskronborg/anaconda3/lib/python3.11/site-packages/IPython/core/interactiveshell.py\", line 3526, in run_code\n",
      "    exec(code_obj, self.user_global_ns, self.user_ns)\n",
      "  File \"/var/folders/cr/2b4bjd0d6cscnr8h_66vmrqm0000gn/T/ipykernel_47107/1850464356.py\", line 12, in <module>\n",
      "    tokens = tokenizer.encode(text, add_special_tokens=True)  # tokenize the ad text\n",
      "             ^^^^^^^^^^^^^^^^^^^^^^^^^^^^^^^^^^^^^^^^^^^^^^^\n",
      "  File \"/Users/sofiepalmuskronborg/anaconda3/lib/python3.11/site-packages/transformers/tokenization_utils_base.py\", line 2825, in encode\n",
      "    encoded_inputs = self.encode_plus(\n",
      "                     ^^^^^^^^^^^^^^^^^\n",
      "  File \"/Users/sofiepalmuskronborg/anaconda3/lib/python3.11/site-packages/transformers/tokenization_utils_base.py\", line 3237, in encode_plus\n",
      "    return self._encode_plus(\n",
      "           ^^^^^^^^^^^^^^^^^^\n",
      "  File \"/Users/sofiepalmuskronborg/anaconda3/lib/python3.11/site-packages/transformers/tokenization_utils.py\", line 797, in _encode_plus\n",
      "    first_ids = get_input_ids(text)\n",
      "                ^^^^^^^^^^^^^^^^^^^\n",
      "  File \"/Users/sofiepalmuskronborg/anaconda3/lib/python3.11/site-packages/transformers/tokenization_utils.py\", line 764, in get_input_ids\n",
      "    tokens = self.tokenize(text, **kwargs)\n",
      "             ^^^^^^^^^^^^^^^^^^^^^^^^^^^^^\n",
      "  File \"/Users/sofiepalmuskronborg/anaconda3/lib/python3.11/site-packages/transformers/tokenization_utils.py\", line 659, in tokenize\n",
      "    tokens = self.tokens_trie.split(text)\n",
      "             ^^^^^^^^^^^^^^^^^^^^^^^^^^^^\n",
      "  File \"/Users/sofiepalmuskronborg/anaconda3/lib/python3.11/site-packages/transformers/tokenization_utils.py\", line -1, in split\n",
      "KeyboardInterrupt\n",
      "\n",
      "During handling of the above exception, another exception occurred:\n",
      "\n",
      "Traceback (most recent call last):\n",
      "  File \"/Users/sofiepalmuskronborg/anaconda3/lib/python3.11/site-packages/IPython/core/interactiveshell.py\", line 2120, in showtraceback\n",
      "    stb = self.InteractiveTB.structured_traceback(\n",
      "          ^^^^^^^^^^^^^^^^^^^^^^^^^^^^^^^^^^^^^^^^\n",
      "  File \"/Users/sofiepalmuskronborg/anaconda3/lib/python3.11/site-packages/IPython/core/ultratb.py\", line 1435, in structured_traceback\n",
      "    return FormattedTB.structured_traceback(\n",
      "           ^^^^^^^^^^^^^^^^^^^^^^^^^^^^^^^^^\n",
      "  File \"/Users/sofiepalmuskronborg/anaconda3/lib/python3.11/site-packages/IPython/core/ultratb.py\", line 1326, in structured_traceback\n",
      "    return VerboseTB.structured_traceback(\n",
      "           ^^^^^^^^^^^^^^^^^^^^^^^^^^^^^^^\n",
      "  File \"/Users/sofiepalmuskronborg/anaconda3/lib/python3.11/site-packages/IPython/core/ultratb.py\", line 1173, in structured_traceback\n",
      "    formatted_exception = self.format_exception_as_a_whole(etype, evalue, etb, number_of_lines_of_context,\n",
      "                          ^^^^^^^^^^^^^^^^^^^^^^^^^^^^^^^^^^^^^^^^^^^^^^^^^^^^^^^^^^^^^^^^^^^^^^^^^^^^^^^^\n",
      "  File \"/Users/sofiepalmuskronborg/anaconda3/lib/python3.11/site-packages/IPython/core/ultratb.py\", line 1088, in format_exception_as_a_whole\n",
      "    frames.append(self.format_record(record))\n",
      "                  ^^^^^^^^^^^^^^^^^^^^^^^^^^\n",
      "  File \"/Users/sofiepalmuskronborg/anaconda3/lib/python3.11/site-packages/IPython/core/ultratb.py\", line 970, in format_record\n",
      "    frame_info.lines, Colors, self.has_colors, lvals\n",
      "    ^^^^^^^^^^^^^^^^\n",
      "  File \"/Users/sofiepalmuskronborg/anaconda3/lib/python3.11/site-packages/IPython/core/ultratb.py\", line 792, in lines\n",
      "    return self._sd.lines\n",
      "           ^^^^^^^^^^^^^^\n",
      "  File \"/Users/sofiepalmuskronborg/anaconda3/lib/python3.11/site-packages/stack_data/utils.py\", line 145, in cached_property_wrapper\n",
      "    value = obj.__dict__[self.func.__name__] = self.func(obj)\n",
      "                                               ^^^^^^^^^^^^^^\n",
      "  File \"/Users/sofiepalmuskronborg/anaconda3/lib/python3.11/site-packages/stack_data/core.py\", line 698, in lines\n",
      "    pieces = self.included_pieces\n",
      "             ^^^^^^^^^^^^^^^^^^^^\n",
      "  File \"/Users/sofiepalmuskronborg/anaconda3/lib/python3.11/site-packages/stack_data/utils.py\", line 145, in cached_property_wrapper\n",
      "    value = obj.__dict__[self.func.__name__] = self.func(obj)\n",
      "                                               ^^^^^^^^^^^^^^\n",
      "  File \"/Users/sofiepalmuskronborg/anaconda3/lib/python3.11/site-packages/stack_data/core.py\", line 649, in included_pieces\n",
      "    pos = scope_pieces.index(self.executing_piece)\n",
      "                             ^^^^^^^^^^^^^^^^^^^^\n",
      "  File \"/Users/sofiepalmuskronborg/anaconda3/lib/python3.11/site-packages/stack_data/utils.py\", line 145, in cached_property_wrapper\n",
      "    value = obj.__dict__[self.func.__name__] = self.func(obj)\n",
      "                                               ^^^^^^^^^^^^^^\n",
      "  File \"/Users/sofiepalmuskronborg/anaconda3/lib/python3.11/site-packages/stack_data/core.py\", line 628, in executing_piece\n",
      "    return only(\n",
      "           ^^^^^\n",
      "  File \"/Users/sofiepalmuskronborg/anaconda3/lib/python3.11/site-packages/executing/executing.py\", line 164, in only\n",
      "    raise NotOneValueFound('Expected one value, found 0')\n",
      "executing.executing.NotOneValueFound: Expected one value, found 0\n"
     ]
    }
   ],
   "source": [
    "# re-load the tokenizer for DebertaV2\n",
    "tokenizer = DebertaV2Tokenizer.from_pretrained(\"microsoft/deberta-v2-xlarge\")\n",
    "\n",
    "lenght_d = []\n",
    "lenght_r = []\n",
    "\n",
    "for text in df_d[\"ad_creative_body\"]: #democrats\n",
    "    tokens = tokenizer.encode(text, add_special_tokens=True)  # tokenize the ad text\n",
    "    lenght_d.append(len(tokens)) \n",
    "\n",
    "for text in df_r[\"ad_creative_body\"]: #republicans\n",
    "    tokens = tokenizer.encode(text, add_special_tokens=True)  # tokenize the ad text\n",
    "    lenght_r.append(len(tokens))  \n",
    "\n",
    "df_d[\"token length\"] = lenght_d  # Add token lengths for Democrats\n",
    "df_r[\"token length\"] = lenght_r  # Add token lengths for Republicans"
   ]
  },
  {
   "cell_type": "code",
   "execution_count": 7,
   "metadata": {},
   "outputs": [
    {
     "name": "stdout",
     "output_type": "stream",
     "text": [
      "Democrats token length:\n",
      " count    359304.000000\n",
      "mean         86.043929\n",
      "std          55.305388\n",
      "min           3.000000\n",
      "25%          49.000000\n",
      "50%          71.000000\n",
      "75%         109.000000\n",
      "max        1227.000000\n",
      "Name: token length, dtype: float64\n",
      "\n",
      "Republicans token length:\n",
      " count    100424.000000\n",
      "mean         47.713475\n",
      "std          38.703635\n",
      "min           3.000000\n",
      "25%          29.000000\n",
      "50%          41.000000\n",
      "75%          56.000000\n",
      "max        1971.000000\n",
      "Name: token length, dtype: float64\n"
     ]
    }
   ],
   "source": [
    "# Calculate summary statistics for token lengths for each party\n",
    "party_token_summary_d = df_d[\"token length\"].describe()\n",
    "party_token_summary_r = df_r[\"token length\"].describe()\n",
    "\n",
    "print(\"Democrats token length:\\n\", party_token_summary_d)\n",
    "print(\"\\nRepublicans token length:\\n\", party_token_summary_r)"
   ]
  },
  {
   "cell_type": "markdown",
   "metadata": {},
   "source": [
    "## ad length"
   ]
  },
  {
   "cell_type": "code",
   "execution_count": 42,
   "metadata": {},
   "outputs": [
    {
     "name": "stderr",
     "output_type": "stream",
     "text": [
      "/var/folders/cr/2b4bjd0d6cscnr8h_66vmrqm0000gn/T/ipykernel_28197/3758588448.py:12: SettingWithCopyWarning: \n",
      "A value is trying to be set on a copy of a slice from a DataFrame.\n",
      "Try using .loc[row_indexer,col_indexer] = value instead\n",
      "\n",
      "See the caveats in the documentation: https://pandas.pydata.org/pandas-docs/stable/user_guide/indexing.html#returning-a-view-versus-a-copy\n",
      "  df_d[\"ad length\"] = word_count_d\n",
      "/var/folders/cr/2b4bjd0d6cscnr8h_66vmrqm0000gn/T/ipykernel_28197/3758588448.py:13: SettingWithCopyWarning: \n",
      "A value is trying to be set on a copy of a slice from a DataFrame.\n",
      "Try using .loc[row_indexer,col_indexer] = value instead\n",
      "\n",
      "See the caveats in the documentation: https://pandas.pydata.org/pandas-docs/stable/user_guide/indexing.html#returning-a-view-versus-a-copy\n",
      "  df_r[\"ad length\"] = word_count_r\n"
     ]
    }
   ],
   "source": [
    "word_count_d = []\n",
    "word_count_r = []\n",
    "\n",
    "for text in df_d[\"ad_creative_body\"]: #democrat\n",
    "    word_count = len(text.split())  \n",
    "    word_count_d.append(word_count)  \n",
    "\n",
    "for text in df_r[\"ad_creative_body\"]:\n",
    "    word_count = len(text.split())  # republican\n",
    "    word_count_r.append(word_count)  \n",
    "\n",
    "df_d[\"ad length\"] = word_count_d \n",
    "df_r[\"ad length\"] = word_count_r"
   ]
  },
  {
   "cell_type": "code",
   "execution_count": 43,
   "metadata": {},
   "outputs": [
    {
     "name": "stdout",
     "output_type": "stream",
     "text": [
      "Democrats ad word stats:\n",
      " count    35530.00000\n",
      "mean        58.47830\n",
      "std         42.56216\n",
      "min          1.00000\n",
      "25%         33.00000\n",
      "50%         48.00000\n",
      "75%         70.00000\n",
      "max       1098.00000\n",
      "Name: ad length, dtype: float64\n",
      "\n",
      "Republicans ad word stats:\n",
      " count    22919.000000\n",
      "mean        41.994502\n",
      "std         45.619241\n",
      "min          1.000000\n",
      "25%         22.000000\n",
      "50%         33.000000\n",
      "75%         47.000000\n",
      "max       1642.000000\n",
      "Name: ad length, dtype: float64\n"
     ]
    }
   ],
   "source": [
    "# stats for token lengths for each party\n",
    "party_token_summary_d = df_d[\"ad length\"].describe()\n",
    "party_token_summary_r = df_r[\"ad length\"].describe()\n",
    "\n",
    "print(\"Democrats ad word stats:\\n\", party_token_summary_d)\n",
    "print(\"\\nRepublicans ad word stats:\\n\", party_token_summary_r)"
   ]
  },
  {
   "cell_type": "code",
   "execution_count": 84,
   "metadata": {},
   "outputs": [],
   "source": [
    "import numpy as np\n",
    "values_d, bins = np.histogram(df_d[\"token length\"], bins=np.linspace(0, 500, 30))\n",
    "values_d = values_d / sum(values_d)\n",
    "\n",
    "values_r, bins = np.histogram(df_r[\"token length\"], bins=bins)\n",
    "values_r = values_r / sum(values_r)"
   ]
  },
  {
   "cell_type": "code",
   "execution_count": 86,
   "metadata": {},
   "outputs": [
    {
     "data": {
      "image/png": "[encoded data removed]",
      "text/plain": [
       "<Figure size 640x480 with 1 Axes>"
      ]
     },
     "metadata": {},
     "output_type": "display_data"
    }
   ],
   "source": [
    "plt.step(\n",
    "    bins[:-1],\n",
    "    values_d,\n",
    "    width=bins[1] - bins[0],\n",
    "    label=\"Democrats\",\n",
    "    color=\"blue\",\n",
    ")\n",
    "\n",
    "plt.step(\n",
    "    bins[:-1],\n",
    "    values_r,\n",
    "    width=bins[1] - bins[0],\n",
    "    label=\"Republicans\",\n",
    "    color=\"red\",\n",
    ")\n",
    "\n",
    "plt.title(\"Token length distribution on a party-level (all ads)\", fontsize=16)\n",
    "plt.legend()\n",
    "plt.ylabel(\"probability density\")\n",
    "plt.xlabel(\"ad tokens\")\n",
    "plt.ylim(0.0, 0.40)\n",
    "plt.show()"
   ]
  },
  {
   "cell_type": "code",
   "execution_count": 81,
   "metadata": {},
   "outputs": [
    {
     "data": {
      "image/png": "[encoded data removed]",
      "text/plain": [
       "<Figure size 640x480 with 1 Axes>"
      ]
     },
     "metadata": {},
     "output_type": "display_data"
    }
   ],
   "source": [
    "plt.bar(\n",
    "    bins[:-1],\n",
    "    values_d,\n",
    "    align=\"edge\",\n",
    "    width=bins[1] - bins[0],\n",
    "    label=\"Democrats\",\n",
    "    alpha=0.7,\n",
    "    color=\"blue\",\n",
    "    edgecolor=\"darkblue\",\n",
    ")\n",
    "\n",
    "plt.bar(\n",
    "    bins[:-1],\n",
    "    values_r,\n",
    "    align=\"edge\",\n",
    "    width=bins[1] - bins[0],\n",
    "    label=\"Republicans\",\n",
    "    color=\"red\",\n",
    "    alpha=0.7,\n",
    "    edgecolor=\"darkred\",\n",
    ")\n",
    "\n",
    "plt.title(\"Token length distribution on a party-level (unique ads)\", fontsize=16)\n",
    "plt.legend()\n",
    "plt.ylabel(\"probability density\")\n",
    "plt.xlabel(\"ad tokens\")\n",
    "plt.ylim(0.0, 0.40)\n",
    "plt.show()"
   ]
  },
  {
   "cell_type": "code",
   "execution_count": 67,
   "metadata": {},
   "outputs": [
    {
     "data": {
      "image/png": "[encoded data removed]",
      "text/plain": [
       "<Figure size 1000x600 with 1 Axes>"
      ]
     },
     "metadata": {},
     "output_type": "display_data"
    }
   ],
   "source": [
    "plt.figure(figsize=(10, 6))\n",
    "\n",
    "sns.histplot(df_d[\"token length\"], bins=50, color=\"blue\", label=\"Democrats\", alpha=0.6)\n",
    "sns.histplot(df_r[\"token length\"], bins=50, color=\"red\", label=\"Republicans\", alpha=0.6)\n",
    "\n",
    "plt.title(\"Token length distribution on a party-level (all ads)\")\n",
    "plt.xlabel(\"Ad token length\")\n",
    "plt.ylabel(\"Frequency\")\n",
    "plt.legend()\n",
    "plt.show()"
   ]
  }
 ],
 "metadata": {
  "kernelspec": {
   "display_name": "base",
   "language": "python",
   "name": "python3"
  },
  "language_info": {
   "codemirror_mode": {
    "name": "ipython",
    "version": 3
   },
   "file_extension": ".py",
   "mimetype": "text/x-python",
   "name": "python",
   "nbconvert_exporter": "python",
   "pygments_lexer": "ipython3",
   "version": "3.11.5"
  }
 },
 "nbformat": 4,
 "nbformat_minor": 2
}
