{
 "cells": [
  {
   "cell_type": "code",
   "execution_count": 1,
   "metadata": {},
   "outputs": [
    {
     "name": "stderr",
     "output_type": "stream",
     "text": [
      "2024-12-30 14:32:23.983453: I tensorflow/core/platform/cpu_feature_guard.cc:182] This TensorFlow binary is optimized to use available CPU instructions in performance-critical operations.\n",
      "To enable the following instructions: SSE4.1 SSE4.2 AVX AVX2 FMA, in other operations, rebuild TensorFlow with the appropriate compiler flags.\n",
      "/Users/sofiepalmuskronborg/anaconda3/lib/python3.11/site-packages/pandas/core/arrays/masked.py:60: UserWarning: Pandas requires version '1.3.6' or newer of 'bottleneck' (version '1.3.5' currently installed).\n",
      "  from pandas.core import (\n"
     ]
    }
   ],
   "source": [
    "from transformers import pipeline\n",
    "import pandas as pd\n",
    "import ast\n",
    "import matplotlib.pyplot as plt\n",
    "import seaborn as sns\n",
    "from transformers import DebertaV2Tokenizer"
   ]
  },
  {
   "cell_type": "code",
   "execution_count": null,
   "metadata": {},
   "outputs": [
    {
     "ename": "NameError",
     "evalue": "name 'pd' is not defined",
     "output_type": "error",
     "traceback": [
      "\u001b[0;31m---------------------------------------------------------------------------\u001b[0m",
      "\u001b[0;31mNameError\u001b[0m                                 Traceback (most recent call last)",
      "Cell \u001b[0;32mIn[1], line 1\u001b[0m\n\u001b[0;32m----> 1\u001b[0m data \u001b[38;5;241m=\u001b[39m pd\u001b[38;5;241m.\u001b[39mread_csv(\u001b[38;5;124m\"\u001b[39m\u001b[38;5;124mfiltered_data.csv\u001b[39m\u001b[38;5;124m\"\u001b[39m, index_col\u001b[38;5;241m=\u001b[39m\u001b[38;5;241m0\u001b[39m)  \u001b[38;5;66;03m# 459.728 entries\u001b[39;00m\n\u001b[1;32m      2\u001b[0m unique_ads \u001b[38;5;241m=\u001b[39m data\u001b[38;5;241m.\u001b[39mdrop_duplicates(\n\u001b[1;32m      3\u001b[0m     subset\u001b[38;5;241m=\u001b[39m[\u001b[38;5;124m\"\u001b[39m\u001b[38;5;124mad_creative_body\u001b[39m\u001b[38;5;124m\"\u001b[39m]\n\u001b[1;32m      4\u001b[0m )\n",
      "\u001b[0;31mNameError\u001b[0m: name 'pd' is not defined"
     ]
    }
   ],
   "source": [
    "data = pd.read_csv(\"csv files/filtered_data.csv\", index_col=0)  # 459.728 entries\n",
    "unique_ads = data.drop_duplicates(\n",
    "    subset=[\"ad_creative_body\"]\n",
    ")  # # print(unique_txt.size) 58.449 unique ad text bites to proces"
   ]
  },
  {
   "cell_type": "markdown",
   "metadata": {},
   "source": [
    "## checking the length of tokens from the dataframe"
   ]
  },
  {
   "cell_type": "code",
   "execution_count": 47,
   "metadata": {},
   "outputs": [],
   "source": [
    "# Load the tokenizer for DebertaV2\n",
    "tokenizer = DebertaV2Tokenizer.from_pretrained(\"microsoft/deberta-v2-xlarge\")\n",
    "\n",
    "max_length = 512  # max length of text/tokes for DeBERTa\n",
    "\n",
    "above_limit = 0\n",
    "below_limit = 0\n",
    "more_than_double = 0\n",
    "double_above_limit = 0\n",
    "triple_above_limit = 0\n",
    "\n",
    "for text in unique_ads[\"ad_creative_body\"]:\n",
    "    tokens = tokenizer.encode(\n",
    "        text, add_special_tokens=True\n",
    "    )  # Tokenize the ad text using DebertaV2\n",
    "    token_length = len(tokens)\n",
    "\n",
    "    if token_length > max_length:\n",
    "        above_limit += 1\n",
    "        if token_length >= 1536 and token_length < 2047:\n",
    "            triple_above_limit += 1\n",
    "        if token_length >= 1024 and token_length <= 1536:\n",
    "            double_above_limit += 1\n",
    "        if token_length <= 1024:\n",
    "            more_than_double +=1\n",
    "    else:\n",
    "        below_limit += 1"
   ]
  },
  {
   "cell_type": "code",
   "execution_count": 48,
   "metadata": {},
   "outputs": [
    {
     "name": "stdout",
     "output_type": "stream",
     "text": [
      "Amount of ads within the limit: 58381\n",
      "Amount of ads above the limit: 68\n",
      "Ads above the limit but below 1024 tokens: 60\n",
      "Ads above 1024 tokens but below 1536 tokens: 5\n",
      "Ads above 1536 tokens but below 2047 tokens: 3\n"
     ]
    }
   ],
   "source": [
    "print(f\"Amount of ads within the limit: {below_limit}\")\n",
    "print(f\"Amount of ads above the limit: {above_limit}\")\n",
    "print(f\"Ads above the limit but below 1024 tokens: {more_than_double}\") # split with 2\n",
    "print(f\"Ads above 1024 tokens but below 1536 tokens: {double_above_limit}\")  # split with 3\n",
    "print(f\"Ads above 1536 tokens but below 2047 tokens: {triple_above_limit}\")  # split with 4\n"
   ]
  },
  {
   "cell_type": "markdown",
   "metadata": {},
   "source": [
    "## Running the ads through DeBERTa"
   ]
  },
  {
   "cell_type": "code",
   "execution_count": 14,
   "metadata": {},
   "outputs": [],
   "source": [
    "zeroshot_classifier = pipeline(\n",
    "    \"zero-shot-classification\",\n",
    "    model=\"MoritzLaurer/deberta-v3-large-zeroshot-v1.1-all-33\",\n",
    ")"
   ]
  },
  {
   "cell_type": "code",
   "execution_count": 15,
   "metadata": {},
   "outputs": [],
   "source": [
    "hypothesis_template = \"This ad is about {}\"\n",
    "classes_verbalized = [\n",
    "    \"Economy\",\n",
    "    \"Civil Rights\",\n",
    "    \"Healthcare\",\n",
    "    \"Agriculture\",\n",
    "    \"Labor and Employment\",\n",
    "    \"Education and Culture\",\n",
    "    \"Climate\",\n",
    "    \"Immigration\",\n",
    "    \"Transport\",\n",
    "    \"Law and Crime\",\n",
    "    \"Social Welfare\",\n",
    "    \"Housing\",\n",
    "    \"Defense\",\n",
    "    \"Foreign Affair\",\n",
    "    \"Call for Action\",\n",
    "    \"Other\"   #placeholder category\n",
    "] "
   ]
  },
  {
   "cell_type": "code",
   "execution_count": 56,
   "metadata": {},
   "outputs": [
    {
     "name": "stderr",
     "output_type": "stream",
     "text": [
      "/var/folders/cr/2b4bjd0d6cscnr8h_66vmrqm0000gn/T/ipykernel_968/3584049382.py:11: SettingWithCopyWarning: \n",
      "A value is trying to be set on a copy of a slice from a DataFrame.\n",
      "Try using .loc[row_indexer,col_indexer] = value instead\n",
      "\n",
      "See the caveats in the documentation: https://pandas.pydata.org/pandas-docs/stable/user_guide/indexing.html#returning-a-view-versus-a-copy\n",
      "  unique_ads[\"num_tokens\"] = num_tokens_list\n"
     ]
    }
   ],
   "source": [
    "# list to store the number of tokens for each ad\n",
    "num_tokens_list = []\n",
    "\n",
    "# Tokenize each ad_creative_body and get the number of tokens\n",
    "for text in unique_ads[\"ad_creative_body\"]:\n",
    "    tokens = tokenizer.encode(text, add_special_tokens=False)  # Tokenize the text\n",
    "    num_tokens_list.append(len(tokens)) \n",
    "\n",
    "unique_ads[\"num_tokens\"] = num_tokens_list # make new column with the token count for each ad"
   ]
  },
  {
   "cell_type": "code",
   "execution_count": null,
   "metadata": {},
   "outputs": [],
   "source": [
    "# Split into two df based on limitation\n",
    "below_limit = unique_ads[unique_ads[\"num_tokens\"] <= 512]\n",
    "above_limit = unique_ads[unique_ads[\"num_tokens\"] > 512]\n",
    "\n",
    "# below_limit.to_csv(\"under_512.csv\")\n",
    "# above_limit.to_csv(\"aboev_512.csv\")"
   ]
  },
  {
   "cell_type": "markdown",
   "metadata": {},
   "source": [
    "## processing text below the limit"
   ]
  },
  {
   "cell_type": "code",
   "execution_count": 52,
   "metadata": {},
   "outputs": [],
   "source": [
    "# Process ads within limit\n",
    "text_to_vector_below = {}\n",
    "for text in below_limit[\"ad_creative_body\"]:\n",
    "    output = zeroshot_classifier(\n",
    "        text,\n",
    "        classes_verbalized,\n",
    "        hypothesis_template=hypothesis_template,\n",
    "        multi_label=False,\n",
    "    )\n",
    "    text_to_vector_below[text] = {\n",
    "        \"labels\": output[\"labels\"],\n",
    "        \"scores\": output[\"scores\"],\n",
    "    }\n",
    "\n",
    "# Making two new columns\n",
    "below_limit[\"labels\"] = below_limit[\"ad_creative_body\"].map(\n",
    "    lambda text: text_to_vector_below[text][\"labels\"]\n",
    ")\n",
    "below_limit[\"scores\"] = below_limit[\"ad_creative_body\"].map(\n",
    "    lambda text: text_to_vector_below[text][\"scores\"]\n",
    ")"
   ]
  },
  {
   "cell_type": "markdown",
   "metadata": {},
   "source": [
    "## processing text above limit (complicated one)"
   ]
  },
  {
   "cell_type": "code",
   "execution_count": null,
   "metadata": {},
   "outputs": [],
   "source": [
    "text_to_vector_above = (\n",
    "    {}\n",
    ")  # dict to store labels + scores for each ad abover # 512 tokens\n",
    "\n",
    "for text in above_limit[\"ad_creative_body\"]:\n",
    "\n",
    "    total_scores = []  # list to keep scres for each split\n",
    "    all_labels = None  # will store labels\n",
    "\n",
    "    tokens = tokenizer.encode(text, add_special_tokens=True)\n",
    "\n",
    "    total_splits = (  # figure out how many splits in terms of max l\n",
    "        len(tokens) + max_length - 1\n",
    "    ) // max_length  # // rounding to a single int value\n",
    "\n",
    "    split_size = (  # figure out how to do an equal split on the total tokens (as equal as possible)\n",
    "        len(tokens) + total_splits - 1\n",
    "    ) // total_splits  # // rounding to a single int value\n",
    "\n",
    "    for i in range(0, len(tokens), split_size):\n",
    "        chunk = tokens[i : i + split_size]\n",
    "        chunk_text = tokenizer.decode(chunk, skip_special_tokens=True)\n",
    "\n",
    "        output = zeroshot_classifier(\n",
    "            chunk_text,\n",
    "            classes_verbalized,\n",
    "            hypothesis_template=hypothesis_template,\n",
    "            multi_label=False,\n",
    "        )\n",
    "\n",
    "        # gather the scores\n",
    "        if all_labels is None:\n",
    "            all_labels = output[\"labels\"]  # store labels on first text bit\n",
    "        total_scores.append(output[\"scores\"])  # Collect all scores for avg\n",
    "\n",
    "    # Average the scores across all chunks\n",
    "    avg_scores = [sum(s) / len(total_scores) for s in zip(*total_scores)]\n",
    "\n",
    "    text_to_vector_above[text] = {\n",
    "        \"labels\": all_labels,  # Use the labels from run throough of the text bit\n",
    "        \"scores\": avg_scores,\n",
    "    }\n",
    "\n",
    "# 2 new columns\n",
    "above_limit[\"labels\"] = above_limit[\"ad_creative_body\"].map(\n",
    "    lambda text: text_to_vector_above[text][\"labels\"]\n",
    ")\n",
    "above_limit[\"scores\"] = above_limit[\"ad_creative_body\"].map(\n",
    "    lambda text: text_to_vector_above[text][\"scores\"]\n",
    ")"
   ]
  },
  {
   "cell_type": "markdown",
   "metadata": {},
   "source": [
    "## store results from both dataframes back to org DataFrame\n"
   ]
  },
  {
   "cell_type": "code",
   "execution_count": null,
   "metadata": {},
   "outputs": [],
   "source": [
    "# putting dataframes together so all data is gathere\n",
    "vertical_concat = pd.concat([below_limit, above_limit], axis=0)"
   ]
  },
  {
   "cell_type": "code",
   "execution_count": null,
   "metadata": {},
   "outputs": [],
   "source": [
    "# merging the additional rows back into origianl df (filtered_data) based on ad text\n",
    "additional_rows = vertical_concat[\n",
    "    [\"ad_creative_body\", \"labels\", \"scores\", \"top_label\", \"top_score\"]\n",
    "]\n",
    "\n",
    "data_merged = pd.merge(data, additional_rows, on=\"ad_creative_body\", how=\"left\")"
   ]
  },
  {
   "cell_type": "code",
   "execution_count": null,
   "metadata": {},
   "outputs": [],
   "source": [
    "# checking the numbers er ok\n",
    "# sort away duplicate ad texts coming from the same politician -> 58.574\n",
    "label_data_unique = data_merged.drop_duplicates(subset=[\"ad_creative_body\", \"page_id\"])\n",
    "\n",
    "# sort away duplicate text in general -> 58.449 rows ^ 125 duplicate texts when comparing\n",
    "label_data_unique = data_merged.drop_duplicates([\"ad_creative_body\"])"
   ]
  },
  {
   "cell_type": "markdown",
   "metadata": {},
   "source": [
    "## saving top label + its score"
   ]
  },
  {
   "cell_type": "code",
   "execution_count": null,
   "metadata": {},
   "outputs": [],
   "source": [
    "data_merged[\"labels\"] = data_merged[\"labels\"].apply(\n",
    "    lambda x: ast.literal_eval(x) if isinstance(x, str) else x\n",
    ")\n",
    "data_merged[\"scores\"] = data_merged[\"scores\"].apply(\n",
    "    lambda x: ast.literal_eval(x) if isinstance(x, str) else x\n",
    ")\n",
    "\n",
    "# Retrieving first instance in each column\n",
    "data_merged[\"top_label\"] = data_merged[\"labels\"].str[0]\n",
    "data_merged[\"top_score\"] = data_merged[\"scores\"].str[0]"
   ]
  },
  {
   "cell_type": "code",
   "execution_count": null,
   "metadata": {},
   "outputs": [
    {
     "name": "stdout",
     "output_type": "stream",
     "text": [
      "Stats on top labels:\n",
      "\n",
      "Call for Action: 353488 ads (76.89%)\n",
      "Healthcare: 20754 ads (4.51%)\n",
      "Law and Crime: 17701 ads (3.85%)\n",
      "Economy: 10691 ads (2.33%)\n",
      "Climate: 10426 ads (2.27%)\n",
      "Immigration: 9408 ads (2.05%)\n",
      "Defense: 8676 ads (1.89%)\n",
      "Other: 6747 ads (1.47%)\n",
      "Education and Culture: 5048 ads (1.10%)\n",
      "Labor and Employment: 4585 ads (1.00%)\n",
      "Foreign Affair: 4035 ads (0.88%)\n",
      "Civil Rights: 3213 ads (0.70%)\n",
      "Agriculture: 1555 ads (0.34%)\n",
      "Housing: 1192 ads (0.26%)\n",
      "Transport: 1135 ads (0.25%)\n",
      "Social Welfare: 1074 ads (0.23%)\n"
     ]
    }
   ],
   "source": [
    "top_labels = (data_merged[\"top_label\"].value_counts()).iloc[:18]  # all labels\n",
    "\n",
    "# calcu the amount + % for each top\n",
    "top_percentages = (\n",
    "    data_merged[\"top_label\"].value_counts(normalize=True).iloc[:18]\n",
    ") * 100\n",
    "\n",
    "# Print the counts and percentages in a readable format\n",
    "print(\"Stats on top labels:\\n\")\n",
    "for label, count, percentage in zip(\n",
    "    top_labels.index, top_labels.values, top_percentages.values\n",
    "):\n",
    "    print(f\"{label}: {count} ads ({percentage:.2f}%)\")"
   ]
  },
  {
   "cell_type": "code",
   "execution_count": null,
   "metadata": {},
   "outputs": [],
   "source": [
    "data_merged = data_merged.drop([\"uncorrelated_entropy\", \"real_entropy\"], axis=1)"
   ]
  },
  {
   "cell_type": "code",
   "execution_count": null,
   "metadata": {},
   "outputs": [],
   "source": [
    "data_merged.to_csv(\"labeled_ads.csv\")"
   ]
  },
  {
   "cell_type": "markdown",
   "metadata": {},
   "source": [
    "## example for report"
   ]
  },
  {
   "cell_type": "code",
   "execution_count": null,
   "metadata": {},
   "outputs": [],
   "source": [
    "zeroshot_classifier = pipeline(\n",
    "    \"zero-shot-classification\",\n",
    "    model=\"MoritzLaurer/deberta-v3-large-zeroshot-v1.1-all-33\",\n",
    ")"
   ]
  },
  {
   "cell_type": "code",
   "execution_count": null,
   "metadata": {},
   "outputs": [],
   "source": [
    "hypothesis_template = \"This ad is about {}\"\n",
    "classes_verbalized = [\n",
    "    \"Economy\",\n",
    "    \"Civil Rights\",\n",
    "    \"Healthcare\",\n",
    "    \"Agriculture\",\n",
    "    \"Labor and Employment\",\n",
    "    \"Education and Culture\",\n",
    "    \"Climate\",\n",
    "    \"Immigration\",\n",
    "    \"Transport\",\n",
    "    \"Law and Crime\",\n",
    "    \"Social Welfare\",\n",
    "    \"Housing\",\n",
    "    \"Defense\",\n",
    "    \"Foreign Affair\",\n",
    "    \"Call for Action\",\n",
    "    \"Other\",  # placeholder category\n",
    "]"
   ]
  },
  {
   "cell_type": "code",
   "execution_count": 10,
   "metadata": {},
   "outputs": [
    {
     "data": {
      "text/plain": [
       "{'sequence': 'Support the Democrats in the battle against climate change!',\n",
       " 'labels': ['Climate', 'Defense', 'Immigration', 'Healthcare'],\n",
       " 'scores': [0.9989873766899109,\n",
       "  0.0006069607916288078,\n",
       "  0.00020502437837421894,\n",
       "  0.00020061143732164055]}"
      ]
     },
     "execution_count": 10,
     "metadata": {},
     "output_type": "execute_result"
    }
   ],
   "source": [
    "from transformers import pipeline\n",
    "\n",
    "text = \"Support the Democrats in the battle against climate change!\"\n",
    "hypothesis_template = \" This ad is about {}\"\n",
    "classes_verbalized = [\"Immigration\", \"Defense\", \"Climate\", \"Healthcare\"]\n",
    "\n",
    "zeroshot_classifier = pipeline(\n",
    "    \"zero-shot-classification\",\n",
    "    model=\"MoritzLaurer/deberta-v3-large-zeroshot-v1.1-all-33\",\n",
    ")\n",
    "\n",
    "zeroshot_classifier(text, classes_verbalized, hypothesis_template=hypothesis_template, multi_label=False,)\n",
    "\n",
    "# output: 'labels': ['Climate', 'Defense', 'Immigration', 'Healthcare'],\n",
    "#         'scores': [0.9989873766899109, 0.0006069607916288078, 0.00020502437837421894, 0.00020061143732164055]\n",
    "\n"
   ]
  },
  {
   "cell_type": "markdown",
   "metadata": {},
   "source": [
    "## token length"
   ]
  },
  {
   "cell_type": "code",
   "execution_count": 28,
   "metadata": {},
   "outputs": [],
   "source": [
    "data = pd.read_csv(\n",
    "    \"/Users/sofiepalmuskronborg/Desktop/Thesis/csv files/filtered_data.csv\", index_col=0\n",
    ")  # 459.728 entries\n",
    "unique_ads = data.drop_duplicates(subset=[\"ad_creative_body\"])\n",
    "\n",
    "df_d = data[\n",
    "    data[\"party\"] == \"Democrat\"\n",
    "]  # all ads because that is what entropy is calculated based on\n",
    "df_r = data[data[\"party\"] == \"Republican\"]\n",
    "# df_un_d = unique_ads[unique_ads[\"party\"] == \"Democrat\"]\n",
    "# df_un_r = unique_ads[unique_ads[\"party\"] == \"Republican\"]"
   ]
  },
  {
   "cell_type": "code",
   "execution_count": 4,
   "metadata": {},
   "outputs": [],
   "source": [
    "df_d = unique_ads[\n",
    "    unique_ads[\"party\"] == \"Democrat\"\n",
    "]  # all ads because that is what entropy is calculated based on\n",
    "df_r = unique_ads[unique_ads[\"party\"] == \"Republican\"]"
   ]
  },
  {
   "cell_type": "code",
   "execution_count": 29,
   "metadata": {},
   "outputs": [
    {
     "name": "stderr",
     "output_type": "stream",
     "text": [
      "/Users/sofiepalmuskronborg/anaconda3/lib/python3.11/site-packages/transformers/tokenization_utils_base.py:1601: FutureWarning: `clean_up_tokenization_spaces` was not set. It will be set to `True` by default. This behavior will be depracted in transformers v4.45, and will be then set to `False` by default. For more details check this issue: https://github.com/huggingface/transformers/issues/31884\n",
      "  warnings.warn(\n",
      "/var/folders/cr/2b4bjd0d6cscnr8h_66vmrqm0000gn/T/ipykernel_1564/1850464356.py:15: SettingWithCopyWarning: \n",
      "A value is trying to be set on a copy of a slice from a DataFrame.\n",
      "Try using .loc[row_indexer,col_indexer] = value instead\n",
      "\n",
      "See the caveats in the documentation: https://pandas.pydata.org/pandas-docs/stable/user_guide/indexing.html#returning-a-view-versus-a-copy\n",
      "  df_d[\"token length\"] = lenght_d  # Add token lengths for Democrats\n",
      "/var/folders/cr/2b4bjd0d6cscnr8h_66vmrqm0000gn/T/ipykernel_1564/1850464356.py:16: SettingWithCopyWarning: \n",
      "A value is trying to be set on a copy of a slice from a DataFrame.\n",
      "Try using .loc[row_indexer,col_indexer] = value instead\n",
      "\n",
      "See the caveats in the documentation: https://pandas.pydata.org/pandas-docs/stable/user_guide/indexing.html#returning-a-view-versus-a-copy\n",
      "  df_r[\"token length\"] = lenght_r  # Add token lengths for Republicans\n"
     ]
    }
   ],
   "source": [
    "# re-load the tokenizer for DebertaV2\n",
    "tokenizer = DebertaV2Tokenizer.from_pretrained(\"microsoft/deberta-v2-xlarge\")\n",
    "\n",
    "lenght_d = []\n",
    "lenght_r = []\n",
    "\n",
    "for text in df_d[\"ad_creative_body\"]: #democrats\n",
    "    tokens = tokenizer.encode(text, add_special_tokens=True)  # tokenize the ad text\n",
    "    lenght_d.append(len(tokens)) \n",
    "\n",
    "for text in df_r[\"ad_creative_body\"]: #republicans\n",
    "    tokens = tokenizer.encode(text, add_special_tokens=True)  # tokenize the ad text\n",
    "    lenght_r.append(len(tokens))  \n",
    "\n",
    "df_d[\"token length\"] = lenght_d  # Add token lengths for Democrats\n",
    "df_r[\"token length\"] = lenght_r  # Add token lengths for Republicans"
   ]
  },
  {
   "cell_type": "code",
   "execution_count": 5,
   "metadata": {},
   "outputs": [
    {
     "name": "stdout",
     "output_type": "stream",
     "text": [
      "Democrats token length:\n",
      " count    35530.000000\n",
      "mean        77.354574\n",
      "std         55.187371\n",
      "min          3.000000\n",
      "25%         44.000000\n",
      "50%         64.000000\n",
      "75%         92.000000\n",
      "max       1227.000000\n",
      "Name: token length, dtype: float64\n",
      "\n",
      "Republicans token length:\n",
      " count    22919.000000\n",
      "mean        55.724072\n",
      "std         57.199663\n",
      "min          3.000000\n",
      "25%         29.000000\n",
      "50%         43.000000\n",
      "75%         63.000000\n",
      "max       1971.000000\n",
      "Name: token length, dtype: float64\n"
     ]
    }
   ],
   "source": [
    "# Calculate summary statistics for token lengths for each party\n",
    "party_token_summary_d = df_d[\"token length\"].describe()\n",
    "party_token_summary_r = df_r[\"token length\"].describe()\n",
    "\n",
    "print(\"Democrats token length:\\n\", party_token_summary_d)\n",
    "print(\"\\nRepublicans token length:\\n\", party_token_summary_r)"
   ]
  },
  {
   "cell_type": "markdown",
   "metadata": {},
   "source": [
    "## ad length"
   ]
  },
  {
   "cell_type": "code",
   "execution_count": 42,
   "metadata": {},
   "outputs": [
    {
     "name": "stderr",
     "output_type": "stream",
     "text": [
      "/var/folders/cr/2b4bjd0d6cscnr8h_66vmrqm0000gn/T/ipykernel_28197/3758588448.py:12: SettingWithCopyWarning: \n",
      "A value is trying to be set on a copy of a slice from a DataFrame.\n",
      "Try using .loc[row_indexer,col_indexer] = value instead\n",
      "\n",
      "See the caveats in the documentation: https://pandas.pydata.org/pandas-docs/stable/user_guide/indexing.html#returning-a-view-versus-a-copy\n",
      "  df_d[\"ad length\"] = word_count_d\n",
      "/var/folders/cr/2b4bjd0d6cscnr8h_66vmrqm0000gn/T/ipykernel_28197/3758588448.py:13: SettingWithCopyWarning: \n",
      "A value is trying to be set on a copy of a slice from a DataFrame.\n",
      "Try using .loc[row_indexer,col_indexer] = value instead\n",
      "\n",
      "See the caveats in the documentation: https://pandas.pydata.org/pandas-docs/stable/user_guide/indexing.html#returning-a-view-versus-a-copy\n",
      "  df_r[\"ad length\"] = word_count_r\n"
     ]
    }
   ],
   "source": [
    "word_count_d = []\n",
    "word_count_r = []\n",
    "\n",
    "for text in df_d[\"ad_creative_body\"]: #democrat\n",
    "    word_count = len(text.split())  \n",
    "    word_count_d.append(word_count)  \n",
    "\n",
    "for text in df_r[\"ad_creative_body\"]:\n",
    "    word_count = len(text.split())  # republican\n",
    "    word_count_r.append(word_count)  \n",
    "\n",
    "df_d[\"ad length\"] = word_count_d \n",
    "df_r[\"ad length\"] = word_count_r"
   ]
  },
  {
   "cell_type": "code",
   "execution_count": 43,
   "metadata": {},
   "outputs": [
    {
     "name": "stdout",
     "output_type": "stream",
     "text": [
      "Democrats ad word stats:\n",
      " count    35530.00000\n",
      "mean        58.47830\n",
      "std         42.56216\n",
      "min          1.00000\n",
      "25%         33.00000\n",
      "50%         48.00000\n",
      "75%         70.00000\n",
      "max       1098.00000\n",
      "Name: ad length, dtype: float64\n",
      "\n",
      "Republicans ad word stats:\n",
      " count    22919.000000\n",
      "mean        41.994502\n",
      "std         45.619241\n",
      "min          1.000000\n",
      "25%         22.000000\n",
      "50%         33.000000\n",
      "75%         47.000000\n",
      "max       1642.000000\n",
      "Name: ad length, dtype: float64\n"
     ]
    }
   ],
   "source": [
    "# stats for token lengths for each party\n",
    "party_token_summary_d = df_d[\"ad length\"].describe()\n",
    "party_token_summary_r = df_r[\"ad length\"].describe()\n",
    "\n",
    "print(\"Democrats ad word stats:\\n\", party_token_summary_d)\n",
    "print(\"\\nRepublicans ad word stats:\\n\", party_token_summary_r)"
   ]
  },
  {
   "cell_type": "code",
   "execution_count": 30,
   "metadata": {},
   "outputs": [],
   "source": [
    "import numpy as np\n",
    "values_d, bins = np.histogram(df_d[\"token length\"], bins=np.linspace(0, 500, 30))\n",
    "values_d = values_d / sum(values_d)\n",
    "\n",
    "values_r, bins = np.histogram(df_r[\"token length\"], bins=bins)\n",
    "values_r = values_r / sum(values_r)"
   ]
  },
  {
   "cell_type": "code",
   "execution_count": 31,
   "metadata": {},
   "outputs": [
    {
     "data": {
      "image/png": "[encoded data removed]",
      "text/plain": [
       "<Figure size 640x480 with 1 Axes>"
      ]
     },
     "metadata": {},
     "output_type": "display_data"
    }
   ],
   "source": [
    "# Ensure correct alignment for step plot\n",
    "bins_step = bins  # Use all bin edges\n",
    "values_d_step = np.concatenate(\n",
    "    [[0], values_d]\n",
    ")  # Add a zero at the start for the first bin\n",
    "values_r_step = np.concatenate([[0], values_r])  # Same for Republicans\n",
    "\n",
    "plt.step(\n",
    "    bins_step,\n",
    "    values_d_step,\n",
    "    where=\"pre\",\n",
    "    # width=bins[1] - bins[0],\n",
    "    label=\"Democrats\",\n",
    "    color=\"blue\",\n",
    ")\n",
    "\n",
    "plt.step(\n",
    "    bins_step,\n",
    "    values_r_step,\n",
    "    where=\"pre\",\n",
    "    # width=bins[1] - bins[0],\n",
    "    label=\"Republicans\",\n",
    "    color=\"red\",\n",
    ")\n",
    "\n",
    "plt.title(\"Token length distribution on party-level (all ads)\", fontsize=16)\n",
    "plt.legend()\n",
    "plt.ylabel(\"probability density\")\n",
    "plt.xlabel(\"ad tokens\")\n",
    "plt.ylim(0.0, 0.35)\n",
    "plt.show()"
   ]
  },
  {
   "cell_type": "code",
   "execution_count": 27,
   "metadata": {},
   "outputs": [
    {
     "data": {
      "image/png": "[encoded data removed]",
      "text/plain": [
       "<Figure size 640x480 with 1 Axes>"
      ]
     },
     "metadata": {},
     "output_type": "display_data"
    }
   ],
   "source": [
    "bins_step = bins \n",
    "values_d_step = np.concatenate(\n",
    "    [[0], values_d]\n",
    ")  # Add a zero at the start for the first bin\n",
    "values_r_step = np.concatenate([[0], values_r]) \n",
    "\n",
    "plt.step(\n",
    "    bins_step,\n",
    "    values_d_step,\n",
    "    where= \"pre\",\n",
    "    # width=bins[1] - bins[0],\n",
    "    label=\"Democrats\",\n",
    "    color=\"blue\",\n",
    ")\n",
    "\n",
    "plt.step(\n",
    "    bins_step,\n",
    "    values_r_step,\n",
    "    where=\"pre\",\n",
    "    # width=bins[1] - bins[0],\n",
    "    label=\"Republicans\",\n",
    "    color=\"red\",\n",
    ")\n",
    "\n",
    "plt.title(\"Token length distribution on party-level (unique ads)\", fontsize=16)\n",
    "plt.legend()\n",
    "plt.ylabel(\"probability density\")\n",
    "plt.xlabel(\"ad tokens\")\n",
    "plt.ylim(0.0, 0.35)\n",
    "plt.show()"
   ]
  }
 ],
 "metadata": {
  "kernelspec": {
   "display_name": "base",
   "language": "python",
   "name": "python3"
  },
  "language_info": {
   "codemirror_mode": {
    "name": "ipython",
    "version": 3
   },
   "file_extension": ".py",
   "mimetype": "text/x-python",
   "name": "python",
   "nbconvert_exporter": "python",
   "pygments_lexer": "ipython3",
   "version": "3.11.5"
  }
 },
 "nbformat": 4,
 "nbformat_minor": 2
}
